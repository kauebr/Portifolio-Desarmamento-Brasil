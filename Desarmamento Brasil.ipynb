{
 "cells": [
  {
   "cell_type": "markdown",
   "id": "ed45ca77",
   "metadata": {},
   "source": [
    "<center>\n",
    "    <img src=\"https://i.ibb.co/wQg0qzq/Banner.png\" width=\"900\" alt=\"KCode Banner\"  />\n",
    "</center>\n",
    "<a href=\"https://www.linkedin.com/in/kauebr/\"><img src=\"https://cdn-icons-png.flaticon.com/512/174/174857.png\" width=\"30\" ></a> <a href=\"mailto: kauemandarino@gmail.com\"><img src=\"https://cdn-icons-png.flaticon.com/512/5968/5968534.png\" width=\"30\" ></a><a href=\"\n",
    "https://api.whatsapp.com/send?phone=5541991835800&text=Oi\"> <img src=\"https://imagepng.org/wp-content/uploads/2017/08/whatsapp-icone-1.png\" width=\"30\" ></a><a href=\"https://github.com/kauebr/\"><img src=\"https://github.githubassets.com/images/modules/logos_page/Octocat.png\" width=\"30\" ></a>\n",
    "\n",
    "<HR>"
   ]
  },
  {
   "cell_type": "markdown",
   "id": "bda1f66e",
   "metadata": {},
   "source": [
    "> Curitiba 2022\n",
    "\n",
    "> Em Criação... \n",
    "\n",
    "// rascunho\n",
    "quem proibiu as armas no brasil:"
   ]
  },
  {
   "cell_type": "markdown",
   "id": "6ae4aa67",
   "metadata": {},
   "source": [
    "# Desarmamento Brasil\n",
    "\n"
   ]
  },
  {
   "cell_type": "markdown",
   "id": "19d57f53",
   "metadata": {},
   "source": [
    "<h2 id=\"1\">1. Contexto</h2>"
   ]
  },
  {
   "cell_type": "markdown",
   "id": "867a9edd",
   "metadata": {},
   "source": [
    "Após séculos de livre circulação de armas desde o Brasil colônia, `na década de 90`(Governo Fernando Henrique Cardoso) `o Brasil já tinha sua própria indústria bélica`, em 1991 o [projeto de lei 2246](https://www.camara.leg.br/proposicoesWeb/fichadetramitacao?idProposicao=201408) de `autoriade Eduardo Jorge(PT-SP)` visava limitar a circulução de armas no território nacional, através da proibição do porte de armas em território nacional, exceto algumas exceções como as forças armadas. No dia 23 de\n",
    "outubro de `2005(Governo Lula)`, o povo brasileiro foi chamado às urnas, através de um [referendo popular](https://www.youtube.com/watch?v=6sGADvxsEIY), a população foi convidada à dar sua opinião sobre a proibição do comércio de armas de fogo e munições no país, aonde a `maioria(63%) votou a favor do comércio de armas`, apesar da decisão popular favorável ao comercio, o governo de `esquerda` realizou alteração no art. 35 do estatuto do desarmamento (Lei nº 10.826/2003) e `tornou proibida a comercialização de armas de fogo` e munição em todo o território nacional, salvo para as entidades previstas no art. 6º do estatuto. `Comprar e portar armas no Brasil por meios legais ficou praticamente impossível`. Em 5 anos, de 2008 até 2012, a polícia federal autorizou a compra de apenas 3.336 armas por civis em todo o país, a população estimada do Brasil era na época de 194 mi. de habitantes. Em 2014 a campanha de desarmamento já havia recolhido quase 650 mil armas de circulação.\n",
    "Em `2018` O militar reformado `Jair Bolsonaro foi eleito` o 38.º presidente do Brasil com 55,13% dos votos válidos, no segundo turno das eleições presidenciais, um das principais `prioridades de sua campanha`, foi a `liberação do comércio de armas`, sendo inclusive `seu símbolo de campanha uma \"arminha\"` com a mão. Eleito a Bolsonaro publicou mais de 30 decretos e atos normativos desde janeiro de `2019` para facilitar o `acesso às armas`. Embora muitos ainda estejam judicializados, pois os processos enfrentaram [resistência no senado](https://www12.senado.leg.br/noticias/materias/2022/2021/07/23/decretos-pro-armas-de-bolsonaro-enfrentam-resistencia-no-senado), a intenção de aumentar o `acesso ao armamento` ao cidadão comum foi atingida.\n",
    "\n",
    "Neste contexto, vale ressaltar, que durante o advento das redes sociais, houve uma `polarização política, esquerda x direita`, no Brasil, aonde a população elegeu um lado e vimos surgir muitos discursos de ódio, tanto da direita pela esquerda quanto da esquerda pela direita. Esta polarização tornou muito rara uma `visão analítica de cenários`, sendo comum ante a realidade dos fatos ser posto um discurso polarizado de ódio, em que apenas se discorda do outro lado, sem uma análise real dos fatos e consequências em si. Este estudo é uma análise imparcial, `vamos nos basear em dados`, para que cheguemos a uma `resposta dos impactos das políticas armamentistas durante os anos`, e que sejam gerados insights e informações valiosas para auxiliar a tomada de decisões futuras, prevendo as tendências e consequências de cada política, analiticamente, `sem que se defenda um partido ou um viés político`.\n",
    "\n",
    "Nesse contexto este estudo deseja analisar com base em dados qual foi o impacto da rigidez e do afrouxamento nas políticas\n",
    "de desarmamento do Brasil em relação à violência por armas de fogo.\n",
    "\n"
   ]
  },
  {
   "cell_type": "markdown",
   "id": "ad322afc",
   "metadata": {},
   "source": [
    "<h1>Índice</h1>\n",
    "\n",
    "<div class=\"alert alert-block alert-info\" style=\"margin-top: 20px\">\n",
    "    <ol>\n",
    "        <li><a href=#1>Contexto</a></li>\n",
    "        <li><a href=#2>Objetivo Geral</a></li>\n",
    "        <li><a href=#3>Objetivos Específicos</a></li>\n",
    "        <li><a href=#4>Mineração de dados</a></li>\n",
    "    </ol>\n",
    "</div>\n",
    "<br>\n",
    "<hr>"
   ]
  },
  {
   "cell_type": "markdown",
   "id": "2894d85f",
   "metadata": {},
   "source": [
    "<h2 id=\"2\">2. Objetivo Geral</h2>\n",
    "\n",
    "  "
   ]
  },
  {
   "cell_type": "markdown",
   "id": "90224172",
   "metadata": {},
   "source": [
    "* Elaborar uma análise, sem viés político, sobre os impactos das políticas armamentistas no Brasil, desde a década de 90 até os dias até os dias de hoje. Gerando assim informações valiosas para a gestão pública se amparar na tomada de decisões futuras.\n",
    "`Deste modo espera-se gerar insights que vão auxiliar o país na diminuição da violência por armas de fogo`\n",
    "<hr>"
   ]
  },
  {
   "cell_type": "markdown",
   "id": "f281dbf4",
   "metadata": {},
   "source": [
    "<h2 id=\"3\">3. Objetivos Específicos</h2>\n"
   ]
  },
  {
   "cell_type": "markdown",
   "metadata": {},
   "source": [
    "* Minerar dados de fontes diversas para crianção de um conjunto de dados que dará origem ao nosso DataFrame;\n",
    "* Modelar os dados;\n",
    "* Analisar os dados;\n",
    "* Plotar apresentações gráficas e descritivas dos indicadores e insights para facilitar o entendimento; \n",
    "* Criar apresentação das informações em ferramenta externa (PowerBi ou Tableau)\n",
    "* Divulgar o estudo, de forma automática para os e-mails dos gabinetes de todos os deputados federais e senadores do Brasil.\n",
    "* Publicar em meios da comunicação - divulgar os resultados para a sociedade.\n",
    "<hr>"
   ]
  },
  {
   "cell_type": "markdown",
   "metadata": {},
   "source": [
    "<h2 id=\"2\">4. Mineração de Dados</h2>\n"
   ]
  },
  {
   "cell_type": "markdown",
   "id": "c5e3696c",
   "metadata": {},
   "source": [
    "* Nesta fase vamos trazer dados potencialmente pertinentes à nossa análise\n",
    "* Posteriormente vamos organiza-los\n",
    ">// tem que por o numero de portes(registros)"
   ]
  },
  {
   "cell_type": "markdown",
   "id": "fcbacd5f",
   "metadata": {},
   "source": [
    "Importando as bibliotecas pertinentes"
   ]
  },
  {
   "cell_type": "code",
   "execution_count": 18,
   "id": "2e8f72cf",
   "metadata": {},
   "outputs": [],
   "source": [
    "import pandas as pd\n",
    "import plotly.express as px\n",
    "import matplotlib.pyplot as plt\n",
    "import seaborn as sns\n",
    "import numpy as np\n",
    "%matplotlib inline\n"
   ]
  },
  {
   "cell_type": "markdown",
   "id": "7106750a",
   "metadata": {},
   "source": [
    "## Primeira Base de dados  [Atlas da Violência do IPEA](https://www.ipea.gov.br/atlasviolencia/)\n",
    "* O Atlas da Violência é um portal que reúne, organiza e disponibiliza informações sobre violência no Brasil, bem como reúne publicações do Ipea sobre violência e segurança pública. Foi criado em 2016 e é gerido pelo Instituto de Pesquisa Econômica Aplicada (Ipea) com a colaboração do Fórum Brasileiro de Segurança Pública (FBSP)."
   ]
  },
  {
   "cell_type": "markdown",
   "id": "074ecf5f",
   "metadata": {},
   "source": [
    "## Entendendo os dados\n",
    "\n",
    "> df_obt_BR = Taxa de óbitos por armas de fogo a cada 100 mil habitantes Brasil 1989~2019"
   ]
  },
  {
   "cell_type": "code",
   "execution_count": 3,
   "id": "4e5de7d2",
   "metadata": {},
   "outputs": [
    {
     "data": {
      "text/html": [
       "<div>\n",
       "<style scoped>\n",
       "    .dataframe tbody tr th:only-of-type {\n",
       "        vertical-align: middle;\n",
       "    }\n",
       "\n",
       "    .dataframe tbody tr th {\n",
       "        vertical-align: top;\n",
       "    }\n",
       "\n",
       "    .dataframe thead th {\n",
       "        text-align: right;\n",
       "    }\n",
       "</style>\n",
       "<table border=\"1\" class=\"dataframe\">\n",
       "  <thead>\n",
       "    <tr style=\"text-align: right;\">\n",
       "      <th></th>\n",
       "      <th>nome</th>\n",
       "      <th>período</th>\n",
       "      <th>valor</th>\n",
       "    </tr>\n",
       "  </thead>\n",
       "  <tbody>\n",
       "    <tr>\n",
       "      <th>0</th>\n",
       "      <td>BRA</td>\n",
       "      <td>1989</td>\n",
       "      <td>9.51</td>\n",
       "    </tr>\n",
       "    <tr>\n",
       "      <th>1</th>\n",
       "      <td>BRA</td>\n",
       "      <td>1990</td>\n",
       "      <td>11.51</td>\n",
       "    </tr>\n",
       "    <tr>\n",
       "      <th>2</th>\n",
       "      <td>BRA</td>\n",
       "      <td>1991</td>\n",
       "      <td>10.73</td>\n",
       "    </tr>\n",
       "  </tbody>\n",
       "</table>\n",
       "</div>"
      ],
      "text/plain": [
       "  nome  período  valor\n",
       "0  BRA     1989   9.51\n",
       "1  BRA     1990  11.51\n",
       "2  BRA     1991  10.73"
      ]
     },
     "execution_count": 3,
     "metadata": {},
     "output_type": "execute_result"
    }
   ],
   "source": [
    "df_tx_obitos_BR = pd.read_csv('taxa-de-homicidios-por-armas-de-fogo-BR.csv', sep=';', usecols=[1, 2, 3])\n",
    "df_tx_obitos_BR.head(3)"
   ]
  },
  {
   "cell_type": "code",
   "execution_count": 93,
   "id": "9750ad44",
   "metadata": {},
   "outputs": [
    {
     "data": {
      "text/html": [
       "<div>\n",
       "<style scoped>\n",
       "    .dataframe tbody tr th:only-of-type {\n",
       "        vertical-align: middle;\n",
       "    }\n",
       "\n",
       "    .dataframe tbody tr th {\n",
       "        vertical-align: top;\n",
       "    }\n",
       "\n",
       "    .dataframe thead th {\n",
       "        text-align: right;\n",
       "    }\n",
       "</style>\n",
       "<table border=\"1\" class=\"dataframe\">\n",
       "  <thead>\n",
       "    <tr style=\"text-align: right;\">\n",
       "      <th></th>\n",
       "      <th>nome</th>\n",
       "      <th>período</th>\n",
       "      <th>valor</th>\n",
       "    </tr>\n",
       "  </thead>\n",
       "  <tbody>\n",
       "    <tr>\n",
       "      <th>0</th>\n",
       "      <td>BRA</td>\n",
       "      <td>1989</td>\n",
       "      <td>9.51</td>\n",
       "    </tr>\n",
       "    <tr>\n",
       "      <th>1</th>\n",
       "      <td>BRA</td>\n",
       "      <td>1990</td>\n",
       "      <td>11.51</td>\n",
       "    </tr>\n",
       "    <tr>\n",
       "      <th>2</th>\n",
       "      <td>BRA</td>\n",
       "      <td>1991</td>\n",
       "      <td>10.73</td>\n",
       "    </tr>\n",
       "    <tr>\n",
       "      <th>3</th>\n",
       "      <td>BRA</td>\n",
       "      <td>1992</td>\n",
       "      <td>9.94</td>\n",
       "    </tr>\n",
       "    <tr>\n",
       "      <th>4</th>\n",
       "      <td>BRA</td>\n",
       "      <td>1993</td>\n",
       "      <td>11.22</td>\n",
       "    </tr>\n",
       "    <tr>\n",
       "      <th>5</th>\n",
       "      <td>BRA</td>\n",
       "      <td>1994</td>\n",
       "      <td>12.29</td>\n",
       "    </tr>\n",
       "    <tr>\n",
       "      <th>6</th>\n",
       "      <td>BRA</td>\n",
       "      <td>1995</td>\n",
       "      <td>14.32</td>\n",
       "    </tr>\n",
       "    <tr>\n",
       "      <th>7</th>\n",
       "      <td>BRA</td>\n",
       "      <td>1996</td>\n",
       "      <td>14.63</td>\n",
       "    </tr>\n",
       "    <tr>\n",
       "      <th>8</th>\n",
       "      <td>BRA</td>\n",
       "      <td>1997</td>\n",
       "      <td>15.31</td>\n",
       "    </tr>\n",
       "    <tr>\n",
       "      <th>9</th>\n",
       "      <td>BRA</td>\n",
       "      <td>1998</td>\n",
       "      <td>15.87</td>\n",
       "    </tr>\n",
       "    <tr>\n",
       "      <th>10</th>\n",
       "      <td>BRA</td>\n",
       "      <td>1999</td>\n",
       "      <td>16.41</td>\n",
       "    </tr>\n",
       "    <tr>\n",
       "      <th>11</th>\n",
       "      <td>BRA</td>\n",
       "      <td>2000</td>\n",
       "      <td>18.58</td>\n",
       "    </tr>\n",
       "    <tr>\n",
       "      <th>12</th>\n",
       "      <td>BRA</td>\n",
       "      <td>2001</td>\n",
       "      <td>19.38</td>\n",
       "    </tr>\n",
       "    <tr>\n",
       "      <th>13</th>\n",
       "      <td>BRA</td>\n",
       "      <td>2002</td>\n",
       "      <td>19.56</td>\n",
       "    </tr>\n",
       "    <tr>\n",
       "      <th>14</th>\n",
       "      <td>BRA</td>\n",
       "      <td>2003</td>\n",
       "      <td>20.42</td>\n",
       "    </tr>\n",
       "    <tr>\n",
       "      <th>15</th>\n",
       "      <td>BRA</td>\n",
       "      <td>2004</td>\n",
       "      <td>18.83</td>\n",
       "    </tr>\n",
       "    <tr>\n",
       "      <th>16</th>\n",
       "      <td>BRA</td>\n",
       "      <td>2005</td>\n",
       "      <td>18.14</td>\n",
       "    </tr>\n",
       "    <tr>\n",
       "      <th>17</th>\n",
       "      <td>BRA</td>\n",
       "      <td>2006</td>\n",
       "      <td>18.70</td>\n",
       "    </tr>\n",
       "    <tr>\n",
       "      <th>18</th>\n",
       "      <td>BRA</td>\n",
       "      <td>2007</td>\n",
       "      <td>18.56</td>\n",
       "    </tr>\n",
       "    <tr>\n",
       "      <th>19</th>\n",
       "      <td>BRA</td>\n",
       "      <td>2008</td>\n",
       "      <td>18.82</td>\n",
       "    </tr>\n",
       "    <tr>\n",
       "      <th>20</th>\n",
       "      <td>BRA</td>\n",
       "      <td>2009</td>\n",
       "      <td>19.12</td>\n",
       "    </tr>\n",
       "    <tr>\n",
       "      <th>21</th>\n",
       "      <td>BRA</td>\n",
       "      <td>2010</td>\n",
       "      <td>19.29</td>\n",
       "    </tr>\n",
       "    <tr>\n",
       "      <th>22</th>\n",
       "      <td>BRA</td>\n",
       "      <td>2011</td>\n",
       "      <td>19.10</td>\n",
       "    </tr>\n",
       "    <tr>\n",
       "      <th>23</th>\n",
       "      <td>BRA</td>\n",
       "      <td>2012</td>\n",
       "      <td>20.66</td>\n",
       "    </tr>\n",
       "    <tr>\n",
       "      <th>24</th>\n",
       "      <td>BRA</td>\n",
       "      <td>2013</td>\n",
       "      <td>20.08</td>\n",
       "    </tr>\n",
       "    <tr>\n",
       "      <th>25</th>\n",
       "      <td>BRA</td>\n",
       "      <td>2014</td>\n",
       "      <td>21.08</td>\n",
       "    </tr>\n",
       "    <tr>\n",
       "      <th>26</th>\n",
       "      <td>BRA</td>\n",
       "      <td>2015</td>\n",
       "      <td>20.45</td>\n",
       "    </tr>\n",
       "    <tr>\n",
       "      <th>27</th>\n",
       "      <td>BRA</td>\n",
       "      <td>2016</td>\n",
       "      <td>21.58</td>\n",
       "    </tr>\n",
       "    <tr>\n",
       "      <th>28</th>\n",
       "      <td>BRA</td>\n",
       "      <td>2017</td>\n",
       "      <td>22.88</td>\n",
       "    </tr>\n",
       "    <tr>\n",
       "      <th>29</th>\n",
       "      <td>BRA</td>\n",
       "      <td>2018</td>\n",
       "      <td>19.75</td>\n",
       "    </tr>\n",
       "    <tr>\n",
       "      <th>30</th>\n",
       "      <td>BRA</td>\n",
       "      <td>2019</td>\n",
       "      <td>14.67</td>\n",
       "    </tr>\n",
       "  </tbody>\n",
       "</table>\n",
       "</div>"
      ],
      "text/plain": [
       "   nome  período  valor\n",
       "0   BRA     1989   9.51\n",
       "1   BRA     1990  11.51\n",
       "2   BRA     1991  10.73\n",
       "3   BRA     1992   9.94\n",
       "4   BRA     1993  11.22\n",
       "5   BRA     1994  12.29\n",
       "6   BRA     1995  14.32\n",
       "7   BRA     1996  14.63\n",
       "8   BRA     1997  15.31\n",
       "9   BRA     1998  15.87\n",
       "10  BRA     1999  16.41\n",
       "11  BRA     2000  18.58\n",
       "12  BRA     2001  19.38\n",
       "13  BRA     2002  19.56\n",
       "14  BRA     2003  20.42\n",
       "15  BRA     2004  18.83\n",
       "16  BRA     2005  18.14\n",
       "17  BRA     2006  18.70\n",
       "18  BRA     2007  18.56\n",
       "19  BRA     2008  18.82\n",
       "20  BRA     2009  19.12\n",
       "21  BRA     2010  19.29\n",
       "22  BRA     2011  19.10\n",
       "23  BRA     2012  20.66\n",
       "24  BRA     2013  20.08\n",
       "25  BRA     2014  21.08\n",
       "26  BRA     2015  20.45\n",
       "27  BRA     2016  21.58\n",
       "28  BRA     2017  22.88\n",
       "29  BRA     2018  19.75\n",
       "30  BRA     2019  14.67"
      ]
     },
     "metadata": {},
     "output_type": "display_data"
    }
   ],
   "source": [
    "# Dando uma olhada nos dados\n",
    "display(df_tx_obitos_BR)"
   ]
  },
  {
   "cell_type": "markdown",
   "id": "67d366d9",
   "metadata": {},
   "source": [
    "Podemos observar que estão faltando os valores de 2020, 2021 então vamos buscar em outras fontes."
   ]
  },
  {
   "cell_type": "code",
   "execution_count": null,
   "id": "173de457",
   "metadata": {},
   "outputs": [],
   "source": []
  },
  {
   "cell_type": "markdown",
   "id": "394a51db",
   "metadata": {},
   "source": [
    ">O Estatuto do Desarmamento é uma política de controle de armas que entrou em vigor no Brasil por meio de lei no dia 22 de dezembro de 2003. Ele foi sancionado com o objetivo de reduzir a circulação de armas e estabelecer penas mais rigorosas para crimes. [Fonte](https://www.brasilparalelo.com.br/artigos/desarmamento-no-brasil#:~:text=O%20Estatuto%20do%20Desarmamento%20%C3%A9,mais%20rigorosas%20para%20crimes%20relacionados.)\n",
    "* Logo de 2004 até 2019 houveram políticas de desarmamento\n",
    "\n",
    ">Em 2019 Jair Bolsonaro assumiu e já em janeiro, assinou decreto que facilitou a compra de armas. [Fonte](https://g1.globo.com/politica/noticia/2019/01/15/bolsonaro-assina-decreto-que-facilita-posse-de-armas.ghtml)\n",
    "* Logo de 2019 até 2022 houveram políticas favoráveis ao armamento. [fonte](https://g1.globo.com/politica/noticia/2019/01/15/bolsonaro-assina-decreto-que-facilita-posse-de-armas.ghtml)"
   ]
  },
  {
   "cell_type": "markdown",
   "id": "89d848cb",
   "metadata": {},
   "source": []
  },
  {
   "cell_type": "code",
   "execution_count": 92,
   "id": "65c6a029",
   "metadata": {},
   "outputs": [
    {
     "name": "stdout",
     "output_type": "stream",
     "text": [
      "['green', 'green', 'green', 'green', 'green', 'green', 'green', 'green', 'green', 'green', 'green', 'green', 'green', 'green', 'green', 'green', 'green', 'red', 'red', 'red', 'red', 'red', 'red', 'red', 'red', 'red', 'red', 'red', 'red', 'red', 'green']\n"
     ]
    },
    {
     "data": {
      "image/png": "[encoded data removed]",
      "text/plain": [
       "<Figure size 1152x576 with 1 Axes>"
      ]
     },
     "metadata": {
      "needs_background": "light"
     },
     "output_type": "display_data"
    }
   ],
   "source": [
    "\n",
    "plt.subplots(figsize=(16, 8))\n",
    "x = df_tx_obitos_BR['período']\n",
    "y = df_tx_obitos_BR['valor']\n",
    "plt.xticks(rotation=90)\n",
    "plt.title('Taxa de homicídios a cada 100k habitantes Brasil')\n",
    "\n",
    "\n",
    "cores = []\n",
    "for ano in df_tx_obitos_BR['período']: \n",
    "    if ano <= 2005:\n",
    "       cores.append('green')\n",
    "    elif ano <= 2018:\n",
    "        cores.append('red')\n",
    "    else:\n",
    "        cores.append('green')\n",
    "print(cores)\n",
    "\n",
    "\n",
    "\n",
    "grafico = sns.barplot(x=x, y=y, palette=cores)\n",
    "\n",
    "for item in grafico.patches:\n",
    "    grafico.annotate(\n",
    "                     item.get_height(),\n",
    "                     (item.get_x() + item.get_width() /2, item.get_height()),\n",
    "                      ha='center',\n",
    "                      rotation=90,\n",
    "                      va='baseline',\n",
    "                      fontsize=13,\n",
    "                      color='white',\n",
    "                      xytext=(0, -33),\n",
    "                      textcoords='offset points',\n",
    "                      )\n",
    "\n",
    "\n",
    "\n"
   ]
  },
  {
   "cell_type": "code",
   "execution_count": 17,
   "id": "624cd835",
   "metadata": {},
   "outputs": [
    {
     "data": {
      "application/vnd.plotly.v1+json": {
       "config": {
        "plotlyServerURL": "https://plot.ly"
       },
       "data": [
        {
         "alignmentgroup": "True",
         "hovertemplate": "x=%{x}<br>y=%{y}<extra></extra>",
         "legendgroup": "",
         "marker": {
          "color": "#636efa",
          "pattern": {
           "shape": ""
          }
         },
         "name": "",
         "offsetgroup": "",
         "orientation": "v",
         "showlegend": false,
         "textposition": "auto",
         "type": "bar",
         "x": [
          1989,
          1990,
          1991,
          1992,
          1993,
          1994,
          1995,
          1996,
          1997,
          1998,
          1999,
          2000,
          2001,
          2002,
          2003,
          2004,
          2005,
          2006,
          2007,
          2008,
          2009,
          2010,
          2011,
          2012,
          2013,
          2014,
          2015,
          2016,
          2017,
          2018,
          2019
         ],
         "xaxis": "x",
         "y": [
          9.51,
          11.51,
          10.73,
          9.94,
          11.22,
          12.29,
          14.32,
          14.63,
          15.31,
          15.87,
          16.41,
          18.58,
          19.38,
          19.56,
          20.42,
          18.83,
          18.14,
          18.7,
          18.56,
          18.82,
          19.12,
          19.29,
          19.1,
          20.66,
          20.08,
          21.08,
          20.45,
          21.58,
          22.88,
          19.75,
          14.67
         ],
         "yaxis": "y"
        }
       ],
       "layout": {
        "barmode": "relative",
        "height": 300,
        "legend": {
         "tracegroupgap": 0
        },
        "margin": {
         "t": 60
        },
        "template": {
         "data": {
          "bar": [
           {
            "error_x": {
             "color": "#2a3f5f"
            },
            "error_y": {
             "color": "#2a3f5f"
            },
            "marker": {
             "line": {
              "color": "#E5ECF6",
              "width": 0.5
             },
             "pattern": {
              "fillmode": "overlay",
              "size": 10,
              "solidity": 0.2
             }
            },
            "type": "bar"
           }
          ],
          "barpolar": [
           {
            "marker": {
             "line": {
              "color": "#E5ECF6",
              "width": 0.5
             },
             "pattern": {
              "fillmode": "overlay",
              "size": 10,
              "solidity": 0.2
             }
            },
            "type": "barpolar"
           }
          ],
          "carpet": [
           {
            "aaxis": {
             "endlinecolor": "#2a3f5f",
             "gridcolor": "white",
             "linecolor": "white",
             "minorgridcolor": "white",
             "startlinecolor": "#2a3f5f"
            },
            "baxis": {
             "endlinecolor": "#2a3f5f",
             "gridcolor": "white",
             "linecolor": "white",
             "minorgridcolor": "white",
             "startlinecolor": "#2a3f5f"
            },
            "type": "carpet"
           }
          ],
          "choropleth": [
           {
            "colorbar": {
             "outlinewidth": 0,
             "ticks": ""
            },
            "type": "choropleth"
           }
          ],
          "contour": [
           {
            "colorbar": {
             "outlinewidth": 0,
             "ticks": ""
            },
            "colorscale": [
             [
              0,
              "#0d0887"
             ],
             [
              0.1111111111111111,
              "#46039f"
             ],
             [
              0.2222222222222222,
              "#7201a8"
             ],
             [
              0.3333333333333333,
              "#9c179e"
             ],
             [
              0.4444444444444444,
              "#bd3786"
             ],
             [
              0.5555555555555556,
              "#d8576b"
             ],
             [
              0.6666666666666666,
              "#ed7953"
             ],
             [
              0.7777777777777778,
              "#fb9f3a"
             ],
             [
              0.8888888888888888,
              "#fdca26"
             ],
             [
              1,
              "#f0f921"
             ]
            ],
            "type": "contour"
           }
          ],
          "contourcarpet": [
           {
            "colorbar": {
             "outlinewidth": 0,
             "ticks": ""
            },
            "type": "contourcarpet"
           }
          ],
          "heatmap": [
           {
            "colorbar": {
             "outlinewidth": 0,
             "ticks": ""
            },
            "colorscale": [
             [
              0,
              "#0d0887"
             ],
             [
              0.1111111111111111,
              "#46039f"
             ],
             [
              0.2222222222222222,
              "#7201a8"
             ],
             [
              0.3333333333333333,
              "#9c179e"
             ],
             [
              0.4444444444444444,
              "#bd3786"
             ],
             [
              0.5555555555555556,
              "#d8576b"
             ],
             [
              0.6666666666666666,
              "#ed7953"
             ],
             [
              0.7777777777777778,
              "#fb9f3a"
             ],
             [
              0.8888888888888888,
              "#fdca26"
             ],
             [
              1,
              "#f0f921"
             ]
            ],
            "type": "heatmap"
           }
          ],
          "heatmapgl": [
           {
            "colorbar": {
             "outlinewidth": 0,
             "ticks": ""
            },
            "colorscale": [
             [
              0,
              "#0d0887"
             ],
             [
              0.1111111111111111,
              "#46039f"
             ],
             [
              0.2222222222222222,
              "#7201a8"
             ],
             [
              0.3333333333333333,
              "#9c179e"
             ],
             [
              0.4444444444444444,
              "#bd3786"
             ],
             [
              0.5555555555555556,
              "#d8576b"
             ],
             [
              0.6666666666666666,
              "#ed7953"
             ],
             [
              0.7777777777777778,
              "#fb9f3a"
             ],
             [
              0.8888888888888888,
              "#fdca26"
             ],
             [
              1,
              "#f0f921"
             ]
            ],
            "type": "heatmapgl"
           }
          ],
          "histogram": [
           {
            "marker": {
             "pattern": {
              "fillmode": "overlay",
              "size": 10,
              "solidity": 0.2
             }
            },
            "type": "histogram"
           }
          ],
          "histogram2d": [
           {
            "colorbar": {
             "outlinewidth": 0,
             "ticks": ""
            },
            "colorscale": [
             [
              0,
              "#0d0887"
             ],
             [
              0.1111111111111111,
              "#46039f"
             ],
             [
              0.2222222222222222,
              "#7201a8"
             ],
             [
              0.3333333333333333,
              "#9c179e"
             ],
             [
              0.4444444444444444,
              "#bd3786"
             ],
             [
              0.5555555555555556,
              "#d8576b"
             ],
             [
              0.6666666666666666,
              "#ed7953"
             ],
             [
              0.7777777777777778,
              "#fb9f3a"
             ],
             [
              0.8888888888888888,
              "#fdca26"
             ],
             [
              1,
              "#f0f921"
             ]
            ],
            "type": "histogram2d"
           }
          ],
          "histogram2dcontour": [
           {
            "colorbar": {
             "outlinewidth": 0,
             "ticks": ""
            },
            "colorscale": [
             [
              0,
              "#0d0887"
             ],
             [
              0.1111111111111111,
              "#46039f"
             ],
             [
              0.2222222222222222,
              "#7201a8"
             ],
             [
              0.3333333333333333,
              "#9c179e"
             ],
             [
              0.4444444444444444,
              "#bd3786"
             ],
             [
              0.5555555555555556,
              "#d8576b"
             ],
             [
              0.6666666666666666,
              "#ed7953"
             ],
             [
              0.7777777777777778,
              "#fb9f3a"
             ],
             [
              0.8888888888888888,
              "#fdca26"
             ],
             [
              1,
              "#f0f921"
             ]
            ],
            "type": "histogram2dcontour"
           }
          ],
          "mesh3d": [
           {
            "colorbar": {
             "outlinewidth": 0,
             "ticks": ""
            },
            "type": "mesh3d"
           }
          ],
          "parcoords": [
           {
            "line": {
             "colorbar": {
              "outlinewidth": 0,
              "ticks": ""
             }
            },
            "type": "parcoords"
           }
          ],
          "pie": [
           {
            "automargin": true,
            "type": "pie"
           }
          ],
          "scatter": [
           {
            "fillpattern": {
             "fillmode": "overlay",
             "size": 10,
             "solidity": 0.2
            },
            "type": "scatter"
           }
          ],
          "scatter3d": [
           {
            "line": {
             "colorbar": {
              "outlinewidth": 0,
              "ticks": ""
             }
            },
            "marker": {
             "colorbar": {
              "outlinewidth": 0,
              "ticks": ""
             }
            },
            "type": "scatter3d"
           }
          ],
          "scattercarpet": [
           {
            "marker": {
             "colorbar": {
              "outlinewidth": 0,
              "ticks": ""
             }
            },
            "type": "scattercarpet"
           }
          ],
          "scattergeo": [
           {
            "marker": {
             "colorbar": {
              "outlinewidth": 0,
              "ticks": ""
             }
            },
            "type": "scattergeo"
           }
          ],
          "scattergl": [
           {
            "marker": {
             "colorbar": {
              "outlinewidth": 0,
              "ticks": ""
             }
            },
            "type": "scattergl"
           }
          ],
          "scattermapbox": [
           {
            "marker": {
             "colorbar": {
              "outlinewidth": 0,
              "ticks": ""
             }
            },
            "type": "scattermapbox"
           }
          ],
          "scatterpolar": [
           {
            "marker": {
             "colorbar": {
              "outlinewidth": 0,
              "ticks": ""
             }
            },
            "type": "scatterpolar"
           }
          ],
          "scatterpolargl": [
           {
            "marker": {
             "colorbar": {
              "outlinewidth": 0,
              "ticks": ""
             }
            },
            "type": "scatterpolargl"
           }
          ],
          "scatterternary": [
           {
            "marker": {
             "colorbar": {
              "outlinewidth": 0,
              "ticks": ""
             }
            },
            "type": "scatterternary"
           }
          ],
          "surface": [
           {
            "colorbar": {
             "outlinewidth": 0,
             "ticks": ""
            },
            "colorscale": [
             [
              0,
              "#0d0887"
             ],
             [
              0.1111111111111111,
              "#46039f"
             ],
             [
              0.2222222222222222,
              "#7201a8"
             ],
             [
              0.3333333333333333,
              "#9c179e"
             ],
             [
              0.4444444444444444,
              "#bd3786"
             ],
             [
              0.5555555555555556,
              "#d8576b"
             ],
             [
              0.6666666666666666,
              "#ed7953"
             ],
             [
              0.7777777777777778,
              "#fb9f3a"
             ],
             [
              0.8888888888888888,
              "#fdca26"
             ],
             [
              1,
              "#f0f921"
             ]
            ],
            "type": "surface"
           }
          ],
          "table": [
           {
            "cells": {
             "fill": {
              "color": "#EBF0F8"
             },
             "line": {
              "color": "white"
             }
            },
            "header": {
             "fill": {
              "color": "#C8D4E3"
             },
             "line": {
              "color": "white"
             }
            },
            "type": "table"
           }
          ]
         },
         "layout": {
          "annotationdefaults": {
           "arrowcolor": "#2a3f5f",
           "arrowhead": 0,
           "arrowwidth": 1
          },
          "autotypenumbers": "strict",
          "coloraxis": {
           "colorbar": {
            "outlinewidth": 0,
            "ticks": ""
           }
          },
          "colorscale": {
           "diverging": [
            [
             0,
             "#8e0152"
            ],
            [
             0.1,
             "#c51b7d"
            ],
            [
             0.2,
             "#de77ae"
            ],
            [
             0.3,
             "#f1b6da"
            ],
            [
             0.4,
             "#fde0ef"
            ],
            [
             0.5,
             "#f7f7f7"
            ],
            [
             0.6,
             "#e6f5d0"
            ],
            [
             0.7,
             "#b8e186"
            ],
            [
             0.8,
             "#7fbc41"
            ],
            [
             0.9,
             "#4d9221"
            ],
            [
             1,
             "#276419"
            ]
           ],
           "sequential": [
            [
             0,
             "#0d0887"
            ],
            [
             0.1111111111111111,
             "#46039f"
            ],
            [
             0.2222222222222222,
             "#7201a8"
            ],
            [
             0.3333333333333333,
             "#9c179e"
            ],
            [
             0.4444444444444444,
             "#bd3786"
            ],
            [
             0.5555555555555556,
             "#d8576b"
            ],
            [
             0.6666666666666666,
             "#ed7953"
            ],
            [
             0.7777777777777778,
             "#fb9f3a"
            ],
            [
             0.8888888888888888,
             "#fdca26"
            ],
            [
             1,
             "#f0f921"
            ]
           ],
           "sequentialminus": [
            [
             0,
             "#0d0887"
            ],
            [
             0.1111111111111111,
             "#46039f"
            ],
            [
             0.2222222222222222,
             "#7201a8"
            ],
            [
             0.3333333333333333,
             "#9c179e"
            ],
            [
             0.4444444444444444,
             "#bd3786"
            ],
            [
             0.5555555555555556,
             "#d8576b"
            ],
            [
             0.6666666666666666,
             "#ed7953"
            ],
            [
             0.7777777777777778,
             "#fb9f3a"
            ],
            [
             0.8888888888888888,
             "#fdca26"
            ],
            [
             1,
             "#f0f921"
            ]
           ]
          },
          "colorway": [
           "#636efa",
           "#EF553B",
           "#00cc96",
           "#ab63fa",
           "#FFA15A",
           "#19d3f3",
           "#FF6692",
           "#B6E880",
           "#FF97FF",
           "#FECB52"
          ],
          "font": {
           "color": "#2a3f5f"
          },
          "geo": {
           "bgcolor": "white",
           "lakecolor": "white",
           "landcolor": "#E5ECF6",
           "showlakes": true,
           "showland": true,
           "subunitcolor": "white"
          },
          "hoverlabel": {
           "align": "left"
          },
          "hovermode": "closest",
          "mapbox": {
           "style": "light"
          },
          "paper_bgcolor": "white",
          "plot_bgcolor": "#E5ECF6",
          "polar": {
           "angularaxis": {
            "gridcolor": "white",
            "linecolor": "white",
            "ticks": ""
           },
           "bgcolor": "#E5ECF6",
           "radialaxis": {
            "gridcolor": "white",
            "linecolor": "white",
            "ticks": ""
           }
          },
          "scene": {
           "xaxis": {
            "backgroundcolor": "#E5ECF6",
            "gridcolor": "white",
            "gridwidth": 2,
            "linecolor": "white",
            "showbackground": true,
            "ticks": "",
            "zerolinecolor": "white"
           },
           "yaxis": {
            "backgroundcolor": "#E5ECF6",
            "gridcolor": "white",
            "gridwidth": 2,
            "linecolor": "white",
            "showbackground": true,
            "ticks": "",
            "zerolinecolor": "white"
           },
           "zaxis": {
            "backgroundcolor": "#E5ECF6",
            "gridcolor": "white",
            "gridwidth": 2,
            "linecolor": "white",
            "showbackground": true,
            "ticks": "",
            "zerolinecolor": "white"
           }
          },
          "shapedefaults": {
           "line": {
            "color": "#2a3f5f"
           }
          },
          "ternary": {
           "aaxis": {
            "gridcolor": "white",
            "linecolor": "white",
            "ticks": ""
           },
           "baxis": {
            "gridcolor": "white",
            "linecolor": "white",
            "ticks": ""
           },
           "bgcolor": "#E5ECF6",
           "caxis": {
            "gridcolor": "white",
            "linecolor": "white",
            "ticks": ""
           }
          },
          "title": {
           "x": 0.05
          },
          "xaxis": {
           "automargin": true,
           "gridcolor": "white",
           "linecolor": "white",
           "ticks": "",
           "title": {
            "standoff": 15
           },
           "zerolinecolor": "white",
           "zerolinewidth": 2
          },
          "yaxis": {
           "automargin": true,
           "gridcolor": "white",
           "linecolor": "white",
           "ticks": "",
           "title": {
            "standoff": 15
           },
           "zerolinecolor": "white",
           "zerolinewidth": 2
          }
         }
        },
        "width": 880,
        "xaxis": {
         "anchor": "y",
         "domain": [
          0,
          1
         ],
         "title": {
          "text": "x"
         }
        },
        "yaxis": {
         "anchor": "x",
         "domain": [
          0,
          1
         ],
         "title": {
          "text": "y"
         }
        }
       }
      }
     },
     "metadata": {},
     "output_type": "display_data"
    }
   ],
   "source": [
    "fig = px.bar ( x = x, y = y, width = 880 , height = 300 )\n",
    "fig.show()"
   ]
  },
  {
   "cell_type": "markdown",
   "id": "9fa329c3",
   "metadata": {},
   "source": [
    "<hr>"
   ]
  },
  {
   "cell_type": "code",
   "execution_count": 8,
   "id": "94091a81",
   "metadata": {},
   "outputs": [
    {
     "data": {
      "text/plain": [
       "<seaborn.axisgrid.FacetGrid at 0x1d0192f7f10>"
      ]
     },
     "execution_count": 8,
     "metadata": {},
     "output_type": "execute_result"
    },
    {
     "data": {
      "image/png": "[encoded data removed]",
      "text/plain": [
       "<Figure size 360x360 with 1 Axes>"
      ]
     },
     "metadata": {
      "needs_background": "light"
     },
     "output_type": "display_data"
    }
   ],
   "source": [
    "sns.displot(y=y, x=x, kind=\"kde\")"
   ]
  },
  {
   "cell_type": "markdown",
   "id": "b7dd9017",
   "metadata": {},
   "source": []
  },
  {
   "cell_type": "code",
   "execution_count": 9,
   "id": "cbab2fdd",
   "metadata": {},
   "outputs": [
    {
     "data": {
      "image/png": "[encoded data removed]",
      "text/plain": [
       "<Figure size 432x288 with 1 Axes>"
      ]
     },
     "metadata": {
      "needs_background": "light"
     },
     "output_type": "display_data"
    }
   ],
   "source": [
    "fig, ax = plt.subplots()\n",
    "df_tx_obitos_BR.plot('período', 'valor', ax = ax)\n",
    "ax.set_xticks(range(len(df_tx_obitos_BR['valor'])))\n",
    "ax.set_xticklabels(df_tx_obitos_BR['valor'])\n",
    "plt.xticks(rotation = 45)\n",
    "plt.show()"
   ]
  },
  {
   "cell_type": "code",
   "execution_count": 10,
   "metadata": {},
   "outputs": [
    {
     "ename": "NameError",
     "evalue": "name 's' is not defined",
     "output_type": "error",
     "traceback": [
      "\u001b[1;31m---------------------------------------------------------------------------\u001b[0m",
      "\u001b[1;31mNameError\u001b[0m                                 Traceback (most recent call last)",
      "\u001b[1;32mc:\\Users\\manda\\OneDrive\\Documents\\GitHub\\Desarmamento-Brasil\\Desarmamento Brasil.ipynb Cell 26'\u001b[0m in \u001b[0;36m<cell line: 1>\u001b[1;34m()\u001b[0m\n\u001b[1;32m----> <a href='vscode-notebook-cell:/c%3A/Users/manda/OneDrive/Documents/GitHub/Desarmamento-Brasil/Desarmamento%20Brasil.ipynb#ch0000025?line=0'>1</a>\u001b[0m s\n\u001b[0;32m      <a href='vscode-notebook-cell:/c%3A/Users/manda/OneDrive/Documents/GitHub/Desarmamento-Brasil/Desarmamento%20Brasil.ipynb#ch0000025?line=1'>2</a>\u001b[0m ns\u001b[39m.\u001b[39mset_theme(style\u001b[39m=\u001b[39m\u001b[39m\"\u001b[39m\u001b[39mwhitegrid\u001b[39m\u001b[39m\"\u001b[39m)\n",
      "\u001b[1;31mNameError\u001b[0m: name 's' is not defined"
     ]
    }
   ],
   "source": []
  },
  {
   "cell_type": "code",
   "execution_count": null,
   "id": "02c6946b",
   "metadata": {},
   "outputs": [],
   "source": []
  },
  {
   "cell_type": "code",
   "execution_count": null,
   "metadata": {},
   "outputs": [],
   "source": []
  },
  {
   "cell_type": "code",
   "execution_count": null,
   "id": "eefc279d",
   "metadata": {},
   "outputs": [],
   "source": []
  },
  {
   "cell_type": "code",
   "execution_count": null,
   "id": "49253dee",
   "metadata": {},
   "outputs": [],
   "source": []
  },
  {
   "cell_type": "code",
   "execution_count": null,
   "id": "80215f06",
   "metadata": {},
   "outputs": [],
   "source": []
  },
  {
   "cell_type": "markdown",
   "id": "9634fd11",
   "metadata": {},
   "source": [
    "<hr>\n",
    "RASCUNHO:"
   ]
  },
  {
   "cell_type": "markdown",
   "id": "9c8a54a2",
   "metadata": {},
   "source": [
    "\n",
    "\n",
    "* Tem que entrar aqui também numero de portes de armas\n",
    "* Numero de feminicidios\n",
    "* Numero de assaltos a mao armada\n",
    "* Base de dados da policia federal boa com registro de armas de fogo e ocorrencias\n",
    "https://servicos.dpf.gov.br/dadosabertos/SINARM/"
   ]
  },
  {
   "cell_type": "markdown",
   "id": "344cb0ee",
   "metadata": {},
   "source": [
    "1ª Base de dados https://www.ipea.gov.br/atlasviolencia/filtros-series (Atlas da Violência)\n",
    "Séria que retrata quantidade de homicídios por arma de fogos ano-a-ano no Brasil.\n",
    "-> Nome do arquivo 'homicidios-por-armas-de-fogo.csv'\n",
    "-> A série tinha dados apenas até 2019 , os dados foram complementados com estas fontes:\n",
    "https://www.bbc.com/portuguese/brasil-57844477#:~:text=Aumento%20de%20homic%C3%ADdios,provocados%20por%20armas%20de%20fogo.\n",
    "https://g1.globo.com/monitor-da-violencia/noticia/2022/02/21/numero-de-assassinatos-cai-7percent-no-brasil-em-2021-e-e-o-menor-da-serie-historica.ghtml\n"
   ]
  },
  {
   "cell_type": "code",
   "execution_count": null,
   "id": "78736fd3",
   "metadata": {},
   "outputs": [],
   "source": [
    "# Importando bibliotecas e configurando gráficos\n",
    "import pandas as pd\n",
    "import plotly.express as px\n",
    "%matplotlib inline"
   ]
  },
  {
   "cell_type": "code",
   "execution_count": null,
   "id": "798e45ef",
   "metadata": {},
   "outputs": [],
   "source": [
    "# Criando DataFrames\n",
    "df_mortes = pd.read_csv('homicidios-por-armas-de-fogo.csv', sep=';', encoding='utf8', usecols=[2, 3])\n",
    "display(df_mortes)"
   ]
  },
  {
   "cell_type": "code",
   "execution_count": null,
   "id": "08dec398",
   "metadata": {},
   "outputs": [],
   "source": [
    "# Cálculando a evolução populacional brasileira ano-a-ano\n",
    "# Fontes IBGE dados populacionais nos anos de  80, 91 , 96 e 2010, quando ocorreram SENSOS\n",
    "# https://brasilemsintese.ibge.gov.br/populacao/populacao-total-1980-2010.html\n",
    "# Fonte Banco mundial / United Nations Population Division https://data.worldbank.org/country/brazil\n",
    "# Fonte Population Pyramid https://www.populationpyramid.net/pt/brasil/2022/\n",
    "# No final foram descartadas as médias oscilantes e consideradas apenas a da Population Pyramid para maior acuracidade\n",
    "\n",
    "# Puxando DataFrame que geramos no Excel com as médias das 3 fontes.\n",
    "df_pop = pd.read_excel('populacaobrasileira.xlsx')\n",
    "\n",
    "# Setando precisão de cálculo para 2 casa flutuantes\n",
    "pd.set_option('display.precision', 2)\n",
    "display(df_pop)\n"
   ]
  },
  {
   "cell_type": "code",
   "execution_count": null,
   "id": "26c5d962",
   "metadata": {},
   "outputs": [],
   "source": [
    "# Adcionando coluna referente a população em milhões no DataFrame de mortes por arma de fogo \n",
    "df_mortes = df_mortes.assign(pop_mi=0)\n",
    "df_mortes['pop_mi'] = df_pop['Milhoes'].copy()\n",
    "display(df_mortes)\n",
    "\n",
    "# o Ano de 2019 estava distoante da série, possivelmente foi fraudado pelo governo, ao buscar outras fontes\n",
    "# corrigi o valor correto \n",
    "# fonte https://www.poder360.com.br/brasil/numero-de-assassinatos-no-brasil-cai-19-em-2019-no-total-sao-41-635-mortes/#:~:text=O%20n%C3%BAmero%20de%20assassinatos%20no,2018%20%E2%80%93quase%2010.000%20a%20menos.\n",
    "# fonte https://noticias.uol.com.br/confere/ultimas-noticias/2021/10/07/governo-federal-distorce-dados-sobre-violencia-para-defender-acesso-a-armas.htm\n"
   ]
  },
  {
   "cell_type": "code",
   "execution_count": null,
   "id": "2c8d620a",
   "metadata": {},
   "outputs": [],
   "source": [
    "# Cálculando indíce dividindo numero de mortes por arma de fogo pela população no ano\n",
    "df_mortes = df_mortes.assign(indice=0)\n",
    "c = 0\n",
    "for indice in df_mortes['indice']:\n",
    "    val = ((df_mortes['valor'][c]) / (df_mortes['pop_mi'][c]))\n",
    "    df_mortes['indice'][c] = val\n",
    "    c += 1\n",
    "display(df_mortes)"
   ]
  },
  {
   "cell_type": "markdown",
   "id": "771b0942",
   "metadata": {},
   "source": [
    "# Com base neste indice vamos cálcular o aumento ou diminuição nos homicidíos por arma de fogo em relação a populção geral no ano\n"
   ]
  },
  {
   "cell_type": "code",
   "execution_count": null,
   "id": "febdfe9f",
   "metadata": {},
   "outputs": [],
   "source": [
    "# Arrumando títulos do DataFrame\n",
    "df_mortes.columns=['Ano', 'Mortes', 'Pop_mi', 'Indice']\n",
    "df_mortes.head(1)"
   ]
  },
  {
   "cell_type": "code",
   "execution_count": null,
   "id": "e15e3472",
   "metadata": {},
   "outputs": [],
   "source": [
    "import plotly.express as px\n",
    "gf = px.line(df_mortes, x= 'Ano', y='Indice', title='Indice de mortes por arma de fogo ano-a-ano Brasil 1998 - 2019')\n",
    "display(gf)\n"
   ]
  },
  {
   "cell_type": "code",
   "execution_count": null,
   "id": "7f6ef818",
   "metadata": {},
   "outputs": [],
   "source": []
  }
 ],
 "metadata": {
  "interpreter": {
   "hash": "5d11380547bba1e6c4b0ab7b7614350493a6d4caf256d9be4e363829d8f5c452"
  },
  "kernelspec": {
   "display_name": "Python 3.10.4 64-bit",
   "language": "python",
   "name": "python3"
  },
  "language_info": {
   "codemirror_mode": {
    "name": "ipython",
    "version": 3
   },
   "file_extension": ".py",
   "mimetype": "text/x-python",
   "name": "python",
   "nbconvert_exporter": "python",
   "pygments_lexer": "ipython3",
   "version": "3.10.4"
  }
 },
 "nbformat": 4,
 "nbformat_minor": 5
}
