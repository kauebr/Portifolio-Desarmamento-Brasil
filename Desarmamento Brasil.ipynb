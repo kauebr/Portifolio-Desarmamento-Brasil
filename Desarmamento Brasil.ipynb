{
 "cells": [
  {
   "cell_type": "markdown",
   "id": "ed45ca77",
   "metadata": {},
   "source": [
    "<center>\n",
    "    <img src=\"https://i.ibb.co/wQg0qzq/Banner.png\" width=\"900\" alt=\"KCode Banner\"  />\n",
    "</center>\n",
    "<a href=\"https://www.linkedin.com/in/kauebr/\"><img src=\"https://cdn-icons-png.flaticon.com/512/174/174857.png\" width=\"30\" ></a> <a href=\"mailto: kauemandarino@gmail.com\"><img src=\"https://cdn-icons-png.flaticon.com/512/5968/5968534.png\" width=\"30\" ></a><a href=\"\n",
    "https://api.whatsapp.com/send?phone=5541991835800&text=Oi\"> <img src=\"https://imagepng.org/wp-content/uploads/2017/08/whatsapp-icone-1.png\" width=\"30\" ></a><a href=\"https://github.com/kauebr/\"><img src=\"https://github.githubassets.com/images/modules/logos_page/Octocat.png\" width=\"30\" ></a>\n",
    "\n",
    "<HR>"
   ]
  },
  {
   "cell_type": "markdown",
   "id": "bda1f66e",
   "metadata": {},
   "source": [
    "> Curitiba 2022\n",
    "\n",
    "> Em Criação... \n",
    "\n",
    "// rascunho\n",
    "quem proibiu as armas no brasil:"
   ]
  },
  {
   "cell_type": "markdown",
   "id": "6ae4aa67",
   "metadata": {},
   "source": [
    "# Desarmamento Brasil\n",
    "\n"
   ]
  },
  {
   "cell_type": "markdown",
   "id": "19d57f53",
   "metadata": {},
   "source": [
    "<h2 id=\"1\">1. Contexto</h2>"
   ]
  },
  {
   "cell_type": "markdown",
   "id": "867a9edd",
   "metadata": {},
   "source": [
    "Após séculos de livre circulação de armas desde o Brasil colônia, `na década de 90`(Governo Fernando Henrique Cardoso) `o Brasil já tinha sua própria indústria bélica`, em 1991 o [projeto de lei 2246](https://www.camara.leg.br/proposicoesWeb/fichadetramitacao?idProposicao=201408) de `autoriade Eduardo Jorge(PT-SP)` visava limitar a circulução de armas no território nacional, através da proibição do porte de armas em território nacional, exceto algumas exceções como as forças armadas. No dia 23 de\n",
    "outubro de `2005(Governo Lula)`, o povo brasileiro foi chamado às urnas, através de um [referendo popular](https://www.youtube.com/watch?v=6sGADvxsEIY), a população foi convidada à dar sua opinião sobre a proibição do comércio de armas de fogo e munições no país, aonde a `maioria(63%) votou a favor do comércio de armas`, apesar da decisão popular favorável ao comercio, o governo de `esquerda` realizou alteração no art. 35 do estatuto do desarmamento (Lei nº 10.826/2003) e `tornou proibida a comercialização de armas de fogo` e munição em todo o território nacional, salvo para as entidades previstas no art. 6º do estatuto. `Comprar e portar armas no Brasil por meios legais ficou praticamente impossível`. Em 5 anos, de 2008 até 2012, a polícia federal autorizou a compra de apenas 3.336 armas por civis em todo o país, a população estimada do Brasil era na época de 194 mi. de habitantes. Em 2014 a campanha de desarmamento já havia recolhido quase 650 mil armas de circulação.\n",
    "Em `2018` O militar reformado `Jair Bolsonaro foi eleito` o 38.º presidente do Brasil com 55,13% dos votos válidos, no segundo turno das eleições presidenciais, um das principais `prioridades de sua campanha`, foi a `liberação do comércio de armas`, sendo inclusive `seu símbolo de campanha uma \"arminha\"` com a mão. Eleito a Bolsonaro publicou mais de 30 decretos e atos normativos desde janeiro de `2019` para facilitar o `acesso às armas`. Embora muitos ainda estejam judicializados, pois os processos enfrentaram [resistência no senado](https://www12.senado.leg.br/noticias/materias/2022/2021/07/23/decretos-pro-armas-de-bolsonaro-enfrentam-resistencia-no-senado), a intenção de aumentar o `acesso ao armamento` ao cidadão comum foi atingida.\n",
    "\n",
    "Neste contexto, vale ressaltar, que durante o advento das redes sociais, houve uma `polarização política, esquerda x direita`, no Brasil, aonde a população elegeu um lado e vimos surgir muitos discursos de ódio, tanto da direita pela esquerda quanto da esquerda pela direita. Esta polarização tornou muito rara uma `visão analítica de cenários`, sendo comum ante a realidade dos fatos ser posto um discurso polarizado de ódio, em que apenas se discorda do outro lado, sem uma análise real dos fatos e consequências em si. Este estudo é uma análise imparcial, `vamos nos basear em dados`, para que cheguemos a uma `resposta dos impactos das políticas armamentistas durante os anos`, e que sejam gerados insights e informações valiosas para auxiliar a tomada de decisões futuras, prevendo as tendências e consequências de cada política, analiticamente, `sem que se defenda um partido ou um viés político`.\n",
    "\n",
    "Nesse contexto este estudo deseja analisar com base em dados qual foi o impacto da rigidez e do afrouxamento nas políticas\n",
    "de desarmamento do Brasil em relação à violência por armas de fogo.\n",
    "\n"
   ]
  },
  {
   "cell_type": "markdown",
   "id": "ad322afc",
   "metadata": {},
   "source": [
    "<h1>Índice</h1>\n",
    "\n",
    "<div class=\"alert alert-block alert-info\" style=\"margin-top: 20px\">\n",
    "    <ol>\n",
    "        <li><a href=#1>Contexto</a></li>\n",
    "        <li><a href=#2>Objetivo Geral</a></li>\n",
    "        <li><a href=#3>Objetivos Específicos</a></li>\n",
    "        <li><a href=#4>Mineração de dados</a></li>\n",
    "    </ol>\n",
    "</div>\n",
    "<br>\n",
    "<hr>"
   ]
  },
  {
   "cell_type": "markdown",
   "id": "2894d85f",
   "metadata": {},
   "source": [
    "<h2 id=\"2\">2. Objetivo Geral</h2>\n",
    "\n",
    "  "
   ]
  },
  {
   "cell_type": "markdown",
   "id": "90224172",
   "metadata": {},
   "source": [
    "* Elaborar uma análise, sem viés político, sobre os impactos das políticas armamentistas no Brasil, desde a década de 90 até os dias até os dias de hoje. Gerando assim informações valiosas para a gestão pública se amparar na tomada de decisões futuras.\n",
    "`Deste modo espera-se gerar insights que vão auxiliar o país na diminuição da violência por armas de fogo`\n",
    "<hr>"
   ]
  },
  {
   "cell_type": "markdown",
   "id": "f281dbf4",
   "metadata": {},
   "source": [
    "<h2 id=\"3\">3. Objetivos Específicos</h2>\n"
   ]
  },
  {
   "cell_type": "markdown",
   "metadata": {},
   "source": [
    "* Minerar dados de fontes diversas para crianção de um conjunto de dados que dará origem ao nosso DataFrame;\n",
    "* Modelar os dados;\n",
    "* Analisar os dados;\n",
    "* Plotar apresentações gráficas e descritivas dos indicadores e insights para facilitar o entendimento; \n",
    "* Criar apresentação das informações em ferramenta externa (PowerBi ou Tableau)\n",
    "* Divulgar o estudo, de forma automática para os e-mails dos gabinetes de todos os deputados federais e senadores do Brasil.\n",
    "* Publicar em meios da comunicação - divulgar os resultados para a sociedade.\n",
    "<hr>"
   ]
  },
  {
   "cell_type": "markdown",
   "metadata": {},
   "source": [
    "<h2 id=\"2\">4. Mineração de Dados</h2>\n"
   ]
  },
  {
   "cell_type": "markdown",
   "id": "c5e3696c",
   "metadata": {},
   "source": [
    "* Nesta fase vamos trazer dados potencialmente pertinentes à nossa análise\n",
    "* Posteriormente vamos organiza-los  "
   ]
  },
  {
   "cell_type": "markdown",
   "id": "fcbacd5f",
   "metadata": {},
   "source": [
    "Importando as bibliotecas pertinentes"
   ]
  },
  {
   "cell_type": "code",
   "execution_count": 19,
   "id": "2e8f72cf",
   "metadata": {},
   "outputs": [],
   "source": [
    "import pandas as pd\n",
    "import plotly.express as px\n",
    "import matplotlib.pyplot as plt\n",
    "import seaborn as sns\n",
    "import numpy as np\n",
    "\n"
   ]
  },
  {
   "cell_type": "markdown",
   "id": "7106750a",
   "metadata": {},
   "source": [
    "## Primeira Base de dados  [Atlas da Violência do IPEA](https://www.ipea.gov.br/atlasviolencia/)\n",
    "* O Atlas da Violência é um portal que reúne, organiza e disponibiliza informações sobre violência no Brasil, bem como reúne publicações do Ipea sobre violência e segurança pública. Foi criado em 2016 e é gerido pelo Instituto de Pesquisa Econômica Aplicada (Ipea) com a colaboração do Fórum Brasileiro de Segurança Pública (FBSP)."
   ]
  },
  {
   "cell_type": "markdown",
   "id": "074ecf5f",
   "metadata": {},
   "source": [
    "## Entendendo os dados\n",
    "\n",
    "> df_obt_BR = Taxa de óbitos por armas de fogo a cada 100 mil habitantes Brasil 1989~2019"
   ]
  },
  {
   "cell_type": "code",
   "execution_count": 2,
   "id": "4e5de7d2",
   "metadata": {},
   "outputs": [
    {
     "data": {
      "text/html": [
       "<div>\n",
       "<style scoped>\n",
       "    .dataframe tbody tr th:only-of-type {\n",
       "        vertical-align: middle;\n",
       "    }\n",
       "\n",
       "    .dataframe tbody tr th {\n",
       "        vertical-align: top;\n",
       "    }\n",
       "\n",
       "    .dataframe thead th {\n",
       "        text-align: right;\n",
       "    }\n",
       "</style>\n",
       "<table border=\"1\" class=\"dataframe\">\n",
       "  <thead>\n",
       "    <tr style=\"text-align: right;\">\n",
       "      <th></th>\n",
       "      <th>nome</th>\n",
       "      <th>período</th>\n",
       "      <th>valor</th>\n",
       "    </tr>\n",
       "  </thead>\n",
       "  <tbody>\n",
       "    <tr>\n",
       "      <th>0</th>\n",
       "      <td>BRA</td>\n",
       "      <td>1989</td>\n",
       "      <td>9.51</td>\n",
       "    </tr>\n",
       "    <tr>\n",
       "      <th>1</th>\n",
       "      <td>BRA</td>\n",
       "      <td>1990</td>\n",
       "      <td>11.51</td>\n",
       "    </tr>\n",
       "    <tr>\n",
       "      <th>2</th>\n",
       "      <td>BRA</td>\n",
       "      <td>1991</td>\n",
       "      <td>10.73</td>\n",
       "    </tr>\n",
       "  </tbody>\n",
       "</table>\n",
       "</div>"
      ],
      "text/plain": [
       "  nome  período  valor\n",
       "0  BRA     1989   9.51\n",
       "1  BRA     1990  11.51\n",
       "2  BRA     1991  10.73"
      ]
     },
     "execution_count": 2,
     "metadata": {},
     "output_type": "execute_result"
    }
   ],
   "source": [
    "df_tx_obitos_BR = pd.read_csv('taxa-de-homicidios-por-armas-de-fogo-BR.csv', sep=';', usecols=[1, 2, 3])\n",
    "df_tx_obitos_BR.head(3)"
   ]
  },
  {
   "cell_type": "code",
   "execution_count": 3,
   "id": "55a0af6c",
   "metadata": {},
   "outputs": [
    {
     "ename": "KeyError",
     "evalue": "'RELAÇAO_FM'",
     "output_type": "error",
     "traceback": [
      "\u001b[1;31m---------------------------------------------------------------------------\u001b[0m",
      "\u001b[1;31mKeyError\u001b[0m                                  Traceback (most recent call last)",
      "File \u001b[1;32mc:\\Users\\manda\\AppData\\Local\\Programs\\Python\\Python310\\lib\\site-packages\\pandas\\core\\indexes\\base.py:3621\u001b[0m, in \u001b[0;36mIndex.get_loc\u001b[1;34m(self, key, method, tolerance)\u001b[0m\n\u001b[0;32m   <a href='file:///c%3A/Users/manda/AppData/Local/Programs/Python/Python310/lib/site-packages/pandas/core/indexes/base.py?line=3619'>3620</a>\u001b[0m \u001b[39mtry\u001b[39;00m:\n\u001b[1;32m-> <a href='file:///c%3A/Users/manda/AppData/Local/Programs/Python/Python310/lib/site-packages/pandas/core/indexes/base.py?line=3620'>3621</a>\u001b[0m     \u001b[39mreturn\u001b[39;00m \u001b[39mself\u001b[39;49m\u001b[39m.\u001b[39;49m_engine\u001b[39m.\u001b[39;49mget_loc(casted_key)\n\u001b[0;32m   <a href='file:///c%3A/Users/manda/AppData/Local/Programs/Python/Python310/lib/site-packages/pandas/core/indexes/base.py?line=3621'>3622</a>\u001b[0m \u001b[39mexcept\u001b[39;00m \u001b[39mKeyError\u001b[39;00m \u001b[39mas\u001b[39;00m err:\n",
      "File \u001b[1;32mc:\\Users\\manda\\AppData\\Local\\Programs\\Python\\Python310\\lib\\site-packages\\pandas\\_libs\\index.pyx:136\u001b[0m, in \u001b[0;36mpandas._libs.index.IndexEngine.get_loc\u001b[1;34m()\u001b[0m\n",
      "File \u001b[1;32mc:\\Users\\manda\\AppData\\Local\\Programs\\Python\\Python310\\lib\\site-packages\\pandas\\_libs\\index.pyx:163\u001b[0m, in \u001b[0;36mpandas._libs.index.IndexEngine.get_loc\u001b[1;34m()\u001b[0m\n",
      "File \u001b[1;32mpandas\\_libs\\hashtable_class_helper.pxi:5198\u001b[0m, in \u001b[0;36mpandas._libs.hashtable.PyObjectHashTable.get_item\u001b[1;34m()\u001b[0m\n",
      "File \u001b[1;32mpandas\\_libs\\hashtable_class_helper.pxi:5206\u001b[0m, in \u001b[0;36mpandas._libs.hashtable.PyObjectHashTable.get_item\u001b[1;34m()\u001b[0m\n",
      "\u001b[1;31mKeyError\u001b[0m: 'RELAÇAO_FM'",
      "\nThe above exception was the direct cause of the following exception:\n",
      "\u001b[1;31mKeyError\u001b[0m                                  Traceback (most recent call last)",
      "\u001b[1;32mc:\\Users\\manda\\OneDrive\\Documents\\GitHub\\Desarmamento-Brasil\\Desarmamento Brasil.ipynb Cell 18'\u001b[0m in \u001b[0;36m<cell line: 3>\u001b[1;34m()\u001b[0m\n\u001b[0;32m      <a href='vscode-notebook-cell:/c%3A/Users/manda/OneDrive/Documents/GitHub/Desarmamento-Brasil/Desarmamento%20Brasil.ipynb#ch0000047?line=0'>1</a>\u001b[0m \u001b[39m# Plotando um gráfico para visualização da evolução da taxa ano a ano\u001b[39;00m\n\u001b[0;32m      <a href='vscode-notebook-cell:/c%3A/Users/manda/OneDrive/Documents/GitHub/Desarmamento-Brasil/Desarmamento%20Brasil.ipynb#ch0000047?line=1'>2</a>\u001b[0m plt\u001b[39m.\u001b[39mscatter(df_tx_obitos_BR[\u001b[39m'\u001b[39m\u001b[39mperíodo\u001b[39m\u001b[39m'\u001b[39m], df_tx_obitos_BR[\u001b[39m'\u001b[39m\u001b[39mvalor\u001b[39m\u001b[39m'\u001b[39m])  \u001b[39m# Gera um gráfico\u001b[39;00m\n\u001b[1;32m----> <a href='vscode-notebook-cell:/c%3A/Users/manda/OneDrive/Documents/GitHub/Desarmamento-Brasil/Desarmamento%20Brasil.ipynb#ch0000047?line=2'>3</a>\u001b[0m df_tx_obitos_BR[\u001b[39m'\u001b[39;49m\u001b[39mRELAÇAO_FM\u001b[39;49m\u001b[39m'\u001b[39;49m]\u001b[39m.\u001b[39mplot\u001b[39m.\u001b[39mhist(bins\u001b[39m=\u001b[39m\u001b[39m100\u001b[39m)\n\u001b[0;32m      <a href='vscode-notebook-cell:/c%3A/Users/manda/OneDrive/Documents/GitHub/Desarmamento-Brasil/Desarmamento%20Brasil.ipynb#ch0000047?line=3'>4</a>\u001b[0m plt\u001b[39m.\u001b[39mtitle(\u001b[39m'\u001b[39m\u001b[39mRelação eleitores/eleitoras\u001b[39m\u001b[39m'\u001b[39m, fontsize\u001b[39m=\u001b[39m\u001b[39m10\u001b[39m)\n\u001b[0;32m      <a href='vscode-notebook-cell:/c%3A/Users/manda/OneDrive/Documents/GitHub/Desarmamento-Brasil/Desarmamento%20Brasil.ipynb#ch0000047?line=4'>5</a>\u001b[0m plt\u001b[39m.\u001b[39mxlabel(\u001b[39m'\u001b[39m\u001b[39mEleitores/Eleitoras\u001b[39m\u001b[39m'\u001b[39m, fontsize\u001b[39m=\u001b[39m\u001b[39m14\u001b[39m)\n",
      "File \u001b[1;32mc:\\Users\\manda\\AppData\\Local\\Programs\\Python\\Python310\\lib\\site-packages\\pandas\\core\\frame.py:3505\u001b[0m, in \u001b[0;36mDataFrame.__getitem__\u001b[1;34m(self, key)\u001b[0m\n\u001b[0;32m   <a href='file:///c%3A/Users/manda/AppData/Local/Programs/Python/Python310/lib/site-packages/pandas/core/frame.py?line=3502'>3503</a>\u001b[0m \u001b[39mif\u001b[39;00m \u001b[39mself\u001b[39m\u001b[39m.\u001b[39mcolumns\u001b[39m.\u001b[39mnlevels \u001b[39m>\u001b[39m \u001b[39m1\u001b[39m:\n\u001b[0;32m   <a href='file:///c%3A/Users/manda/AppData/Local/Programs/Python/Python310/lib/site-packages/pandas/core/frame.py?line=3503'>3504</a>\u001b[0m     \u001b[39mreturn\u001b[39;00m \u001b[39mself\u001b[39m\u001b[39m.\u001b[39m_getitem_multilevel(key)\n\u001b[1;32m-> <a href='file:///c%3A/Users/manda/AppData/Local/Programs/Python/Python310/lib/site-packages/pandas/core/frame.py?line=3504'>3505</a>\u001b[0m indexer \u001b[39m=\u001b[39m \u001b[39mself\u001b[39;49m\u001b[39m.\u001b[39;49mcolumns\u001b[39m.\u001b[39;49mget_loc(key)\n\u001b[0;32m   <a href='file:///c%3A/Users/manda/AppData/Local/Programs/Python/Python310/lib/site-packages/pandas/core/frame.py?line=3505'>3506</a>\u001b[0m \u001b[39mif\u001b[39;00m is_integer(indexer):\n\u001b[0;32m   <a href='file:///c%3A/Users/manda/AppData/Local/Programs/Python/Python310/lib/site-packages/pandas/core/frame.py?line=3506'>3507</a>\u001b[0m     indexer \u001b[39m=\u001b[39m [indexer]\n",
      "File \u001b[1;32mc:\\Users\\manda\\AppData\\Local\\Programs\\Python\\Python310\\lib\\site-packages\\pandas\\core\\indexes\\base.py:3623\u001b[0m, in \u001b[0;36mIndex.get_loc\u001b[1;34m(self, key, method, tolerance)\u001b[0m\n\u001b[0;32m   <a href='file:///c%3A/Users/manda/AppData/Local/Programs/Python/Python310/lib/site-packages/pandas/core/indexes/base.py?line=3620'>3621</a>\u001b[0m     \u001b[39mreturn\u001b[39;00m \u001b[39mself\u001b[39m\u001b[39m.\u001b[39m_engine\u001b[39m.\u001b[39mget_loc(casted_key)\n\u001b[0;32m   <a href='file:///c%3A/Users/manda/AppData/Local/Programs/Python/Python310/lib/site-packages/pandas/core/indexes/base.py?line=3621'>3622</a>\u001b[0m \u001b[39mexcept\u001b[39;00m \u001b[39mKeyError\u001b[39;00m \u001b[39mas\u001b[39;00m err:\n\u001b[1;32m-> <a href='file:///c%3A/Users/manda/AppData/Local/Programs/Python/Python310/lib/site-packages/pandas/core/indexes/base.py?line=3622'>3623</a>\u001b[0m     \u001b[39mraise\u001b[39;00m \u001b[39mKeyError\u001b[39;00m(key) \u001b[39mfrom\u001b[39;00m \u001b[39merr\u001b[39;00m\n\u001b[0;32m   <a href='file:///c%3A/Users/manda/AppData/Local/Programs/Python/Python310/lib/site-packages/pandas/core/indexes/base.py?line=3623'>3624</a>\u001b[0m \u001b[39mexcept\u001b[39;00m \u001b[39mTypeError\u001b[39;00m:\n\u001b[0;32m   <a href='file:///c%3A/Users/manda/AppData/Local/Programs/Python/Python310/lib/site-packages/pandas/core/indexes/base.py?line=3624'>3625</a>\u001b[0m     \u001b[39m# If we have a listlike key, _check_indexing_error will raise\u001b[39;00m\n\u001b[0;32m   <a href='file:///c%3A/Users/manda/AppData/Local/Programs/Python/Python310/lib/site-packages/pandas/core/indexes/base.py?line=3625'>3626</a>\u001b[0m     \u001b[39m#  InvalidIndexError. Otherwise we fall through and re-raise\u001b[39;00m\n\u001b[0;32m   <a href='file:///c%3A/Users/manda/AppData/Local/Programs/Python/Python310/lib/site-packages/pandas/core/indexes/base.py?line=3626'>3627</a>\u001b[0m     \u001b[39m#  the TypeError.\u001b[39;00m\n\u001b[0;32m   <a href='file:///c%3A/Users/manda/AppData/Local/Programs/Python/Python310/lib/site-packages/pandas/core/indexes/base.py?line=3627'>3628</a>\u001b[0m     \u001b[39mself\u001b[39m\u001b[39m.\u001b[39m_check_indexing_error(key)\n",
      "\u001b[1;31mKeyError\u001b[0m: 'RELAÇAO_FM'"
     ]
    },
    {
     "data": {
      "image/png": "[encoded data removed]",
      "text/plain": [
       "<Figure size 432x288 with 1 Axes>"
      ]
     },
     "metadata": {
      "needs_background": "light"
     },
     "output_type": "display_data"
    }
   ],
   "source": [
    "# Plotando um gráfico para visualização da evolução da taxa ano a ano\n",
    "plt.scatter(df_tx_obitos_BR['período'], df_tx_obitos_BR['valor'])  # Gera um gráfico\n",
    "df_tx_obitos_BR['RELAÇAO_FM'].plot.hist(bins=100)\n",
    "plt.title('Relação eleitores/eleitoras', fontsize=10)\n",
    "plt.xlabel('Eleitores/Eleitoras', fontsize=14)\n",
    "plt.ylabel('Frequência', fontsize=14)\n",
    "plt.axvline(1.0, color='black')"
   ]
  },
  {
   "cell_type": "code",
   "execution_count": null,
   "id": "67ff7c43",
   "metadata": {},
   "outputs": [],
   "source": [
    "display(df_tx_obitos_BR)"
   ]
  },
  {
   "cell_type": "code",
   "execution_count": 46,
   "id": "65c6a029",
   "metadata": {},
   "outputs": [
    {
     "data": {
      "text/plain": [
       "(array([ 0,  1,  2,  3,  4,  5,  6,  7,  8,  9, 10, 11, 12, 13, 14, 15, 16,\n",
       "        17, 18, 19, 20, 21, 22, 23, 24, 25, 26, 27, 28, 29, 30]),\n",
       " [Text(0, 0, '1989'),\n",
       "  Text(1, 0, '1990'),\n",
       "  Text(2, 0, '1991'),\n",
       "  Text(3, 0, '1992'),\n",
       "  Text(4, 0, '1993'),\n",
       "  Text(5, 0, '1994'),\n",
       "  Text(6, 0, '1995'),\n",
       "  Text(7, 0, '1996'),\n",
       "  Text(8, 0, '1997'),\n",
       "  Text(9, 0, '1998'),\n",
       "  Text(10, 0, '1999'),\n",
       "  Text(11, 0, '2000'),\n",
       "  Text(12, 0, '2001'),\n",
       "  Text(13, 0, '2002'),\n",
       "  Text(14, 0, '2003'),\n",
       "  Text(15, 0, '2004'),\n",
       "  Text(16, 0, '2005'),\n",
       "  Text(17, 0, '2006'),\n",
       "  Text(18, 0, '2007'),\n",
       "  Text(19, 0, '2008'),\n",
       "  Text(20, 0, '2009'),\n",
       "  Text(21, 0, '2010'),\n",
       "  Text(22, 0, '2011'),\n",
       "  Text(23, 0, '2012'),\n",
       "  Text(24, 0, '2013'),\n",
       "  Text(25, 0, '2014'),\n",
       "  Text(26, 0, '2015'),\n",
       "  Text(27, 0, '2016'),\n",
       "  Text(28, 0, '2017'),\n",
       "  Text(29, 0, '2018'),\n",
       "  Text(30, 0, '2019')])"
      ]
     },
     "execution_count": 46,
     "metadata": {},
     "output_type": "execute_result"
    },
    {
     "data": {
      "image/png": "[encoded data removed]",
      "text/plain": [
       "<Figure size 1080x432 with 1 Axes>"
      ]
     },
     "metadata": {},
     "output_type": "display_data"
    }
   ],
   "source": [
    "f, ax = plt.subplots(figsize=(15, 6))\n",
    "x = df_tx_obitos_BR['período']\n",
    "y = df_tx_obitos_BR['valor']\n",
    "\n",
    "ax = sns.barplot(x=x, y=y, palette=\"Blues_d\")\n",
    "\n",
    "plt.xticks(rotation=90)\n"
   ]
  },
  {
   "cell_type": "code",
   "execution_count": 28,
   "id": "624cd835",
   "metadata": {},
   "outputs": [],
   "source": []
  },
  {
   "cell_type": "markdown",
   "id": "9fa329c3",
   "metadata": {},
   "source": [
    "<hr>"
   ]
  },
  {
   "cell_type": "code",
   "execution_count": 17,
   "id": "94091a81",
   "metadata": {},
   "outputs": [
    {
     "data": {
      "text/plain": [
       "<seaborn.axisgrid.FacetGrid at 0x295ea0a5870>"
      ]
     },
     "execution_count": 17,
     "metadata": {},
     "output_type": "execute_result"
    },
    {
     "data": {
      "image/png": "[encoded data removed]",
      "text/plain": [
       "<Figure size 360x360 with 1 Axes>"
      ]
     },
     "metadata": {},
     "output_type": "display_data"
    }
   ],
   "source": [
    "sns.displot(y=y, x=x, kind=\"kde\", )"
   ]
  },
  {
   "cell_type": "markdown",
   "id": "b7dd9017",
   "metadata": {},
   "source": []
  },
  {
   "cell_type": "code",
   "execution_count": null,
   "id": "11bd223f",
   "metadata": {},
   "outputs": [],
   "source": [
    "sns.set_theme(style=\"whitegrid\")\n"
   ]
  },
  {
   "cell_type": "code",
   "execution_count": null,
   "id": "02c6946b",
   "metadata": {},
   "outputs": [],
   "source": []
  },
  {
   "cell_type": "code",
   "execution_count": null,
   "metadata": {},
   "outputs": [],
   "source": []
  },
  {
   "cell_type": "code",
   "execution_count": null,
   "id": "eefc279d",
   "metadata": {},
   "outputs": [],
   "source": []
  },
  {
   "cell_type": "code",
   "execution_count": null,
   "id": "49253dee",
   "metadata": {},
   "outputs": [],
   "source": []
  },
  {
   "cell_type": "code",
   "execution_count": null,
   "id": "80215f06",
   "metadata": {},
   "outputs": [],
   "source": []
  },
  {
   "cell_type": "markdown",
   "id": "9634fd11",
   "metadata": {},
   "source": [
    "<hr>\n",
    "RASCUNHO:"
   ]
  },
  {
   "cell_type": "markdown",
   "id": "9c8a54a2",
   "metadata": {},
   "source": [
    "\n",
    "\n",
    "* Tem que entrar aqui também numero de portes de armas\n",
    "* Numero de feminicidios\n",
    "* Numero de assaltos a mao armada\n",
    "* Base de dados da policia federal boa com registro de armas de fogo e ocorrencias\n",
    "https://servicos.dpf.gov.br/dadosabertos/SINARM/"
   ]
  },
  {
   "cell_type": "markdown",
   "id": "344cb0ee",
   "metadata": {},
   "source": [
    "1ª Base de dados https://www.ipea.gov.br/atlasviolencia/filtros-series (Atlas da Violência)\n",
    "Séria que retrata quantidade de homicídios por arma de fogos ano-a-ano no Brasil.\n",
    "-> Nome do arquivo 'homicidios-por-armas-de-fogo.csv'\n",
    "-> A série tinha dados apenas até 2019 , os dados foram complementados com estas fontes:\n",
    "https://www.bbc.com/portuguese/brasil-57844477#:~:text=Aumento%20de%20homic%C3%ADdios,provocados%20por%20armas%20de%20fogo.\n",
    "https://g1.globo.com/monitor-da-violencia/noticia/2022/02/21/numero-de-assassinatos-cai-7percent-no-brasil-em-2021-e-e-o-menor-da-serie-historica.ghtml\n"
   ]
  },
  {
   "cell_type": "code",
   "execution_count": null,
   "id": "78736fd3",
   "metadata": {},
   "outputs": [],
   "source": [
    "# Importando bibliotecas e configurando gráficos\n",
    "import pandas as pd\n",
    "import plotly.express as px\n",
    "%matplotlib inline"
   ]
  },
  {
   "cell_type": "code",
   "execution_count": null,
   "id": "798e45ef",
   "metadata": {},
   "outputs": [],
   "source": [
    "# Criando DataFrames\n",
    "df_mortes = pd.read_csv('homicidios-por-armas-de-fogo.csv', sep=';', encoding='utf8', usecols=[2, 3])\n",
    "display(df_mortes)"
   ]
  },
  {
   "cell_type": "code",
   "execution_count": null,
   "id": "08dec398",
   "metadata": {},
   "outputs": [],
   "source": [
    "# Cálculando a evolução populacional brasileira ano-a-ano\n",
    "# Fontes IBGE dados populacionais nos anos de  80, 91 , 96 e 2010, quando ocorreram SENSOS\n",
    "# https://brasilemsintese.ibge.gov.br/populacao/populacao-total-1980-2010.html\n",
    "# Fonte Banco mundial / United Nations Population Division https://data.worldbank.org/country/brazil\n",
    "# Fonte Population Pyramid https://www.populationpyramid.net/pt/brasil/2022/\n",
    "# No final foram descartadas as médias oscilantes e consideradas apenas a da Population Pyramid para maior acuracidade\n",
    "\n",
    "# Puxando DataFrame que geramos no Excel com as médias das 3 fontes.\n",
    "df_pop = pd.read_excel('populacaobrasileira.xlsx')\n",
    "\n",
    "# Setando precisão de cálculo para 2 casa flutuantes\n",
    "pd.set_option('display.precision', 2)\n",
    "display(df_pop)\n"
   ]
  },
  {
   "cell_type": "code",
   "execution_count": null,
   "id": "26c5d962",
   "metadata": {},
   "outputs": [],
   "source": [
    "# Adcionando coluna referente a população em milhões no DataFrame de mortes por arma de fogo \n",
    "df_mortes = df_mortes.assign(pop_mi=0)\n",
    "df_mortes['pop_mi'] = df_pop['Milhoes'].copy()\n",
    "display(df_mortes)\n",
    "\n",
    "# o Ano de 2019 estava distoante da série, possivelmente foi fraudado pelo governo, ao buscar outras fontes\n",
    "# corrigi o valor correto \n",
    "# fonte https://www.poder360.com.br/brasil/numero-de-assassinatos-no-brasil-cai-19-em-2019-no-total-sao-41-635-mortes/#:~:text=O%20n%C3%BAmero%20de%20assassinatos%20no,2018%20%E2%80%93quase%2010.000%20a%20menos.\n",
    "# fonte https://noticias.uol.com.br/confere/ultimas-noticias/2021/10/07/governo-federal-distorce-dados-sobre-violencia-para-defender-acesso-a-armas.htm\n"
   ]
  },
  {
   "cell_type": "code",
   "execution_count": null,
   "id": "2c8d620a",
   "metadata": {},
   "outputs": [],
   "source": [
    "# Cálculando indíce dividindo numero de mortes por arma de fogo pela população no ano\n",
    "df_mortes = df_mortes.assign(indice=0)\n",
    "c = 0\n",
    "for indice in df_mortes['indice']:\n",
    "    val = ((df_mortes['valor'][c]) / (df_mortes['pop_mi'][c]))\n",
    "    df_mortes['indice'][c] = val\n",
    "    c += 1\n",
    "display(df_mortes)"
   ]
  },
  {
   "cell_type": "markdown",
   "id": "771b0942",
   "metadata": {},
   "source": [
    "# Com base neste indice vamos cálcular o aumento ou diminuição nos homicidíos por arma de fogo em relação a populção geral no ano\n"
   ]
  },
  {
   "cell_type": "code",
   "execution_count": null,
   "id": "febdfe9f",
   "metadata": {},
   "outputs": [],
   "source": [
    "# Arrumando títulos do DataFrame\n",
    "df_mortes.columns=['Ano', 'Mortes', 'Pop_mi', 'Indice']\n",
    "df_mortes.head(1)"
   ]
  },
  {
   "cell_type": "code",
   "execution_count": null,
   "id": "e15e3472",
   "metadata": {},
   "outputs": [],
   "source": [
    "import plotly.express as px\n",
    "gf = px.line(df_mortes, x= 'Ano', y='Indice', title='Indice de mortes por arma de fogo ano-a-ano Brasil 1998 - 2019')\n",
    "display(gf)\n"
   ]
  },
  {
   "cell_type": "code",
   "execution_count": null,
   "id": "7f6ef818",
   "metadata": {},
   "outputs": [],
   "source": []
  }
 ],
 "metadata": {
  "interpreter": {
   "hash": "5d11380547bba1e6c4b0ab7b7614350493a6d4caf256d9be4e363829d8f5c452"
  },
  "kernelspec": {
   "display_name": "Python 3.10.4 64-bit",
   "language": "python",
   "name": "python3"
  },
  "language_info": {
   "codemirror_mode": {
    "name": "ipython",
    "version": 3
   },
   "file_extension": ".py",
   "mimetype": "text/x-python",
   "name": "python",
   "nbconvert_exporter": "python",
   "pygments_lexer": "ipython3",
   "version": "3.10.4"
  }
 },
 "nbformat": 4,
 "nbformat_minor": 5
}
