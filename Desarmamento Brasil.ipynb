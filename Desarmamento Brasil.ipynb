{
 "cells": [
  {
   "cell_type": "markdown",
   "id": "ed45ca77",
   "metadata": {},
   "source": [
    "<center>\n",
    "    <img src=\"https://i.ibb.co/wQg0qzq/Banner.png\" width=\"900\" alt=\"KCode Banner\"  />\n",
    "</center>\n",
    "<a href=\"https://www.linkedin.com/in/kauebr/\"><img src=\"https://cdn-icons-png.flaticon.com/512/174/174857.png\" width=\"30\" ></a> <a href=\"mailto: kauemandarino@gmail.com\"><img src=\"https://cdn-icons-png.flaticon.com/512/5968/5968534.png\" width=\"30\" ></a><a href=\"\n",
    "https://api.whatsapp.com/send?phone=5541991835800&text=Oi\"> <img src=\"https://imagepng.org/wp-content/uploads/2017/08/whatsapp-icone-1.png\" width=\"30\" ></a><a href=\"https://github.com/kauebr/\"><img src=\"https://github.githubassets.com/images/modules/logos_page/Octocat.png\" width=\"30\" ></a>\n",
    "\n",
    "<HR>"
   ]
  },
  {
   "cell_type": "markdown",
   "id": "bda1f66e",
   "metadata": {},
   "source": [
    "> Curitiba 2022\n",
    "\n",
    "> Em Criação... \n",
    "\n",
    "// rascunho\n",
    "quem proibiu as armas no brasil:"
   ]
  },
  {
   "cell_type": "markdown",
   "id": "6ae4aa67",
   "metadata": {},
   "source": [
    "# Desarmamento Brasil\n",
    "\n"
   ]
  },
  {
   "cell_type": "markdown",
   "id": "19d57f53",
   "metadata": {},
   "source": [
    "# <h2 id=\"1\">1. Contexto</h2>"
   ]
  },
  {
   "cell_type": "markdown",
   "id": "867a9edd",
   "metadata": {},
   "source": [
    "Após séculos de livre circulação de armas desde o Brasil colônia, `na década de 90`(Governo Fernando Henrique Cardoso) `o Brasil já tinha sua própria indústria bélica`, em 1991 o [projeto de lei 2246](https://www.camara.leg.br/proposicoesWeb/fichadetramitacao?idProposicao=201408) de `autoriade Eduardo Jorge(PT-SP)` visava limitar a circulução de armas no território nacional, através da proibição do porte de armas em território nacional, exceto algumas exceções como as forças armadas. No dia 23 de\n",
    "outubro de `2005(Governo Lula)`, o povo brasileiro foi chamado às urnas, através de um [referendo popular](https://www.youtube.com/watch?v=6sGADvxsEIY), a população foi convidada à dar sua opinião sobre a proibição do comércio de armas de fogo e munições no país, aonde a `maioria(63%) votou a favor do comércio de armas`, apesar da decisão popular favorável ao comercio, o governo de `esquerda` realizou alteração no art. 35 do estatuto do desarmamento (Lei nº 10.826/2003) e `tornou proibida a comercialização de armas de fogo` e munição em todo o território nacional, salvo para as entidades previstas no art. 6º do estatuto. `Comprar e portar armas no Brasil por meios legais ficou praticamente impossível`. Em 5 anos, de 2008 até 2012, a polícia federal autorizou a compra de apenas 3.336 armas por civis em todo o país, a população estimada do Brasil era na época de 194 mi. de habitantes. Em 2014 a campanha de desarmamento já havia recolhido quase 650 mil armas de circulação.\n",
    "Em `2018` O militar reformado `Jair Bolsonaro foi eleito` o 38.º presidente do Brasil com 55,13% dos votos válidos, no segundo turno das eleições presidenciais, um das principais `prioridades de sua campanha`, foi a `liberação do comércio de armas`, sendo inclusive `seu símbolo de campanha uma \"arminha\"` com a mão. Eleito a Bolsonaro publicou mais de 30 decretos e atos normativos desde janeiro de `2019` para facilitar o `acesso às armas`. Embora muitos ainda estejam judicializados, pois os processos enfrentaram [resistência no senado](https://www12.senado.leg.br/noticias/materias/2022/2021/07/23/decretos-pro-armas-de-bolsonaro-enfrentam-resistencia-no-senado), a intenção de aumentar o `acesso ao armamento` ao cidadão comum foi atingida.\n",
    "\n",
    "Neste contexto, vale ressaltar, que durante o advento das redes sociais, houve uma `polarização política, esquerda x direita`, no Brasil, aonde a população elegeu um lado e vimos surgir muitos discursos de ódio, tanto da direita pela esquerda quanto da esquerda pela direita. Esta polarização tornou muito rara uma `visão analítica de cenários`, sendo comum ante a realidade dos fatos ser posto um discurso polarizado de ódio, em que apenas se discorda do outro lado, sem uma análise real dos fatos e consequências em si. Este estudo é uma análise imparcial, `vamos nos basear em dados`, para que cheguemos a uma `resposta dos impactos das políticas armamentistas durante os anos`, e que sejam gerados insights e informações valiosas para auxiliar a tomada de decisões futuras, prevendo as tendências e consequências de cada política, analiticamente, `sem que se defenda um partido ou um viés político`.\n",
    "\n",
    "Nesse contexto este estudo deseja analisar com base em dados qual foi o impacto da rigidez e do afrouxamento nas políticas\n",
    "de desarmamento do Brasil em relação à violência por armas de fogo.\n",
    "\n"
   ]
  },
  {
   "cell_type": "markdown",
   "id": "ad322afc",
   "metadata": {},
   "source": [
    "# <h1>Índice</h1>\n",
    "\n",
    "<div class=\"alert alert-block alert-info\" style=\"margin-top: 20px\">\n",
    "    <ol>\n",
    "        <li><a href=#1>Contexto</a></li>\n",
    "        <li><a href=#2>Objetivo Geral</a></li>\n",
    "        <li><a href=#3>Objetivos Específicos</a></li>\n",
    "        <li><a href=#4>Mineração de dados - Criando Conjunto de Dados</a></li>\n",
    "    </ol>\n",
    "</div>\n",
    "<br>\n",
    "<hr>"
   ]
  },
  {
   "cell_type": "markdown",
   "id": "2894d85f",
   "metadata": {},
   "source": [
    "# <h2 id=\"2\">2. Objetivo Geral</h2>\n",
    "\n",
    "  "
   ]
  },
  {
   "cell_type": "markdown",
   "id": "90224172",
   "metadata": {},
   "source": [
    "* Mapear a violência com armas de fogo no Brasil e sua relação com as políticas aramentistas do país ao longo dos anos, gerando assim arcabouço de iformações valiosas para a gestão pública na tomada de descisões mais inteligentes, visando uma redução na violência. Elaborar uma análise, sem viés político, sobre os impactos das políticas armamentistas no Brasil, desde a década de 90 até os dias até os dias de hoje. \n",
    "\n",
    "`Deste modo espera-se gerar insights que vão auxiliar o país na diminuição da violência por armas de fogo`\n",
    "<hr>"
   ]
  },
  {
   "cell_type": "markdown",
   "id": "f281dbf4",
   "metadata": {},
   "source": [
    "# <h2 id=\"3\">3. Objetivos Específicos</h2>\n"
   ]
  },
  {
   "cell_type": "markdown",
   "metadata": {},
   "source": [
    "* Minerar dados de fontes diversas para crianção de um conjunto de dados que dará origem ao nosso DataFrame;\n",
    "* Modelar os dados;\n",
    "* Analisar os dados;\n",
    "* Aplicar algoritmos de aprendizado de maquina para geração de predições;\n",
    "* Plotar apresentações gráficas e descritivas dos indicadores e insights para facilitar o entendimento; \n",
    "* Criar apresentação das informações em ferramenta externa (PowerBi ou Tableau)\n",
    "* Divulgar o estudo, de forma automática para os e-mails dos gabinetes de todos os deputados federais e senadores do Brasil.\n",
    "* Publicar em meios da comunicação - divulgar os resultados para a sociedade.\n",
    "<hr>"
   ]
  },
  {
   "cell_type": "markdown",
   "metadata": {},
   "source": [
    "# <h2 id=\"2\">4. Mineração de Dados - Criando Nosso Conjunto de Dados</h2>\n"
   ]
  },
  {
   "cell_type": "markdown",
   "id": "c5e3696c",
   "metadata": {},
   "source": [
    "* Nesta fase vamos trazer à nossa análise dados potencialmente pertinentes;\n",
    "* Posteriormente vamos organiza-los\n",
    ">// tem que por o numero de portes(registros)"
   ]
  },
  {
   "cell_type": "markdown",
   "id": "fcbacd5f",
   "metadata": {},
   "source": [
    "Importando as bibliotecas pertinentes"
   ]
  },
  {
   "cell_type": "code",
   "execution_count": 1,
   "id": "2e8f72cf",
   "metadata": {},
   "outputs": [
    {
     "ename": "KeyboardInterrupt",
     "evalue": "",
     "output_type": "error",
     "traceback": [
      "\u001b[1;31m---------------------------------------------------------------------------\u001b[0m",
      "\u001b[1;31mKeyboardInterrupt\u001b[0m                         Traceback (most recent call last)",
      "\u001b[1;32mc:\\Users\\manda\\OneDrive\\Documents\\GitHub\\Desarmamento-Brasil\\Desarmamento Brasil.ipynb Cell 14'\u001b[0m in \u001b[0;36m<cell line: 4>\u001b[1;34m()\u001b[0m\n\u001b[0;32m      <a href='vscode-notebook-cell:/c%3A/Users/manda/OneDrive/Documents/GitHub/Desarmamento-Brasil/Desarmamento%20Brasil.ipynb#ch0000013?line=1'>2</a>\u001b[0m \u001b[39mimport\u001b[39;00m \u001b[39mplotly\u001b[39;00m\u001b[39m.\u001b[39;00m\u001b[39mexpress\u001b[39;00m \u001b[39mas\u001b[39;00m \u001b[39mpx\u001b[39;00m\n\u001b[0;32m      <a href='vscode-notebook-cell:/c%3A/Users/manda/OneDrive/Documents/GitHub/Desarmamento-Brasil/Desarmamento%20Brasil.ipynb#ch0000013?line=2'>3</a>\u001b[0m \u001b[39mimport\u001b[39;00m \u001b[39mmatplotlib\u001b[39;00m\u001b[39m.\u001b[39;00m\u001b[39mpyplot\u001b[39;00m \u001b[39mas\u001b[39;00m \u001b[39mplt\u001b[39;00m\n\u001b[1;32m----> <a href='vscode-notebook-cell:/c%3A/Users/manda/OneDrive/Documents/GitHub/Desarmamento-Brasil/Desarmamento%20Brasil.ipynb#ch0000013?line=3'>4</a>\u001b[0m \u001b[39mimport\u001b[39;00m \u001b[39mseaborn\u001b[39;00m \u001b[39mas\u001b[39;00m \u001b[39msns\u001b[39;00m\n\u001b[0;32m      <a href='vscode-notebook-cell:/c%3A/Users/manda/OneDrive/Documents/GitHub/Desarmamento-Brasil/Desarmamento%20Brasil.ipynb#ch0000013?line=4'>5</a>\u001b[0m \u001b[39mimport\u001b[39;00m \u001b[39mnumpy\u001b[39;00m \u001b[39mas\u001b[39;00m \u001b[39mnp\u001b[39;00m\n\u001b[0;32m      <a href='vscode-notebook-cell:/c%3A/Users/manda/OneDrive/Documents/GitHub/Desarmamento-Brasil/Desarmamento%20Brasil.ipynb#ch0000013?line=5'>6</a>\u001b[0m get_ipython()\u001b[39m.\u001b[39mrun_line_magic(\u001b[39m'\u001b[39m\u001b[39mmatplotlib\u001b[39m\u001b[39m'\u001b[39m, \u001b[39m'\u001b[39m\u001b[39minline\u001b[39m\u001b[39m'\u001b[39m)\n",
      "File \u001b[1;32mc:\\Users\\manda\\AppData\\Local\\Programs\\Python\\Python310\\lib\\site-packages\\seaborn\\__init__.py:2\u001b[0m, in \u001b[0;36m<module>\u001b[1;34m\u001b[0m\n\u001b[0;32m      <a href='file:///c%3A/Users/manda/AppData/Local/Programs/Python/Python310/lib/site-packages/seaborn/__init__.py?line=0'>1</a>\u001b[0m \u001b[39m# Import seaborn objects\u001b[39;00m\n\u001b[1;32m----> <a href='file:///c%3A/Users/manda/AppData/Local/Programs/Python/Python310/lib/site-packages/seaborn/__init__.py?line=1'>2</a>\u001b[0m \u001b[39mfrom\u001b[39;00m \u001b[39m.\u001b[39;00m\u001b[39mrcmod\u001b[39;00m \u001b[39mimport\u001b[39;00m \u001b[39m*\u001b[39m  \u001b[39m# noqa: F401,F403\u001b[39;00m\n\u001b[0;32m      <a href='file:///c%3A/Users/manda/AppData/Local/Programs/Python/Python310/lib/site-packages/seaborn/__init__.py?line=2'>3</a>\u001b[0m \u001b[39mfrom\u001b[39;00m \u001b[39m.\u001b[39;00m\u001b[39mutils\u001b[39;00m \u001b[39mimport\u001b[39;00m \u001b[39m*\u001b[39m  \u001b[39m# noqa: F401,F403\u001b[39;00m\n\u001b[0;32m      <a href='file:///c%3A/Users/manda/AppData/Local/Programs/Python/Python310/lib/site-packages/seaborn/__init__.py?line=3'>4</a>\u001b[0m \u001b[39mfrom\u001b[39;00m \u001b[39m.\u001b[39;00m\u001b[39mpalettes\u001b[39;00m \u001b[39mimport\u001b[39;00m \u001b[39m*\u001b[39m  \u001b[39m# noqa: F401,F403\u001b[39;00m\n",
      "File \u001b[1;32mc:\\Users\\manda\\AppData\\Local\\Programs\\Python\\Python310\\lib\\site-packages\\seaborn\\rcmod.py:7\u001b[0m, in \u001b[0;36m<module>\u001b[1;34m\u001b[0m\n\u001b[0;32m      <a href='file:///c%3A/Users/manda/AppData/Local/Programs/Python/Python310/lib/site-packages/seaborn/rcmod.py?line=4'>5</a>\u001b[0m \u001b[39mimport\u001b[39;00m \u001b[39mmatplotlib\u001b[39;00m \u001b[39mas\u001b[39;00m \u001b[39mmpl\u001b[39;00m\n\u001b[0;32m      <a href='file:///c%3A/Users/manda/AppData/Local/Programs/Python/Python310/lib/site-packages/seaborn/rcmod.py?line=5'>6</a>\u001b[0m \u001b[39mfrom\u001b[39;00m \u001b[39mcycler\u001b[39;00m \u001b[39mimport\u001b[39;00m cycler\n\u001b[1;32m----> <a href='file:///c%3A/Users/manda/AppData/Local/Programs/Python/Python310/lib/site-packages/seaborn/rcmod.py?line=6'>7</a>\u001b[0m \u001b[39mfrom\u001b[39;00m \u001b[39m.\u001b[39;00m \u001b[39mimport\u001b[39;00m palettes\n\u001b[0;32m     <a href='file:///c%3A/Users/manda/AppData/Local/Programs/Python/Python310/lib/site-packages/seaborn/rcmod.py?line=9'>10</a>\u001b[0m __all__ \u001b[39m=\u001b[39m [\u001b[39m\"\u001b[39m\u001b[39mset_theme\u001b[39m\u001b[39m\"\u001b[39m, \u001b[39m\"\u001b[39m\u001b[39mset\u001b[39m\u001b[39m\"\u001b[39m, \u001b[39m\"\u001b[39m\u001b[39mreset_defaults\u001b[39m\u001b[39m\"\u001b[39m, \u001b[39m\"\u001b[39m\u001b[39mreset_orig\u001b[39m\u001b[39m\"\u001b[39m,\n\u001b[0;32m     <a href='file:///c%3A/Users/manda/AppData/Local/Programs/Python/Python310/lib/site-packages/seaborn/rcmod.py?line=10'>11</a>\u001b[0m            \u001b[39m\"\u001b[39m\u001b[39maxes_style\u001b[39m\u001b[39m\"\u001b[39m, \u001b[39m\"\u001b[39m\u001b[39mset_style\u001b[39m\u001b[39m\"\u001b[39m, \u001b[39m\"\u001b[39m\u001b[39mplotting_context\u001b[39m\u001b[39m\"\u001b[39m, \u001b[39m\"\u001b[39m\u001b[39mset_context\u001b[39m\u001b[39m\"\u001b[39m,\n\u001b[0;32m     <a href='file:///c%3A/Users/manda/AppData/Local/Programs/Python/Python310/lib/site-packages/seaborn/rcmod.py?line=11'>12</a>\u001b[0m            \u001b[39m\"\u001b[39m\u001b[39mset_palette\u001b[39m\u001b[39m\"\u001b[39m]\n\u001b[0;32m     <a href='file:///c%3A/Users/manda/AppData/Local/Programs/Python/Python310/lib/site-packages/seaborn/rcmod.py?line=14'>15</a>\u001b[0m _style_keys \u001b[39m=\u001b[39m [\n\u001b[0;32m     <a href='file:///c%3A/Users/manda/AppData/Local/Programs/Python/Python310/lib/site-packages/seaborn/rcmod.py?line=15'>16</a>\u001b[0m \n\u001b[0;32m     <a href='file:///c%3A/Users/manda/AppData/Local/Programs/Python/Python310/lib/site-packages/seaborn/rcmod.py?line=16'>17</a>\u001b[0m     \u001b[39m\"\u001b[39m\u001b[39maxes.facecolor\u001b[39m\u001b[39m\"\u001b[39m,\n\u001b[1;32m   (...)\u001b[0m\n\u001b[0;32m     <a href='file:///c%3A/Users/manda/AppData/Local/Programs/Python/Python310/lib/site-packages/seaborn/rcmod.py?line=51'>52</a>\u001b[0m \n\u001b[0;32m     <a href='file:///c%3A/Users/manda/AppData/Local/Programs/Python/Python310/lib/site-packages/seaborn/rcmod.py?line=52'>53</a>\u001b[0m ]\n",
      "File \u001b[1;32mc:\\Users\\manda\\AppData\\Local\\Programs\\Python\\Python310\\lib\\site-packages\\seaborn\\palettes.py:9\u001b[0m, in \u001b[0;36m<module>\u001b[1;34m\u001b[0m\n\u001b[0;32m      <a href='file:///c%3A/Users/manda/AppData/Local/Programs/Python/Python310/lib/site-packages/seaborn/palettes.py?line=4'>5</a>\u001b[0m \u001b[39mimport\u001b[39;00m \u001b[39mmatplotlib\u001b[39;00m \u001b[39mas\u001b[39;00m \u001b[39mmpl\u001b[39;00m\n\u001b[0;32m      <a href='file:///c%3A/Users/manda/AppData/Local/Programs/Python/Python310/lib/site-packages/seaborn/palettes.py?line=6'>7</a>\u001b[0m \u001b[39mfrom\u001b[39;00m \u001b[39m.\u001b[39;00m\u001b[39mexternal\u001b[39;00m \u001b[39mimport\u001b[39;00m husl\n\u001b[1;32m----> <a href='file:///c%3A/Users/manda/AppData/Local/Programs/Python/Python310/lib/site-packages/seaborn/palettes.py?line=8'>9</a>\u001b[0m \u001b[39mfrom\u001b[39;00m \u001b[39m.\u001b[39;00m\u001b[39mutils\u001b[39;00m \u001b[39mimport\u001b[39;00m desaturate, get_color_cycle\n\u001b[0;32m     <a href='file:///c%3A/Users/manda/AppData/Local/Programs/Python/Python310/lib/site-packages/seaborn/palettes.py?line=9'>10</a>\u001b[0m \u001b[39mfrom\u001b[39;00m \u001b[39m.\u001b[39;00m\u001b[39mcolors\u001b[39;00m \u001b[39mimport\u001b[39;00m xkcd_rgb, crayons\n\u001b[0;32m     <a href='file:///c%3A/Users/manda/AppData/Local/Programs/Python/Python310/lib/site-packages/seaborn/palettes.py?line=12'>13</a>\u001b[0m __all__ \u001b[39m=\u001b[39m [\u001b[39m\"\u001b[39m\u001b[39mcolor_palette\u001b[39m\u001b[39m\"\u001b[39m, \u001b[39m\"\u001b[39m\u001b[39mhls_palette\u001b[39m\u001b[39m\"\u001b[39m, \u001b[39m\"\u001b[39m\u001b[39mhusl_palette\u001b[39m\u001b[39m\"\u001b[39m, \u001b[39m\"\u001b[39m\u001b[39mmpl_palette\u001b[39m\u001b[39m\"\u001b[39m,\n\u001b[0;32m     <a href='file:///c%3A/Users/manda/AppData/Local/Programs/Python/Python310/lib/site-packages/seaborn/palettes.py?line=13'>14</a>\u001b[0m            \u001b[39m\"\u001b[39m\u001b[39mdark_palette\u001b[39m\u001b[39m\"\u001b[39m, \u001b[39m\"\u001b[39m\u001b[39mlight_palette\u001b[39m\u001b[39m\"\u001b[39m, \u001b[39m\"\u001b[39m\u001b[39mdiverging_palette\u001b[39m\u001b[39m\"\u001b[39m,\n\u001b[0;32m     <a href='file:///c%3A/Users/manda/AppData/Local/Programs/Python/Python310/lib/site-packages/seaborn/palettes.py?line=14'>15</a>\u001b[0m            \u001b[39m\"\u001b[39m\u001b[39mblend_palette\u001b[39m\u001b[39m\"\u001b[39m, \u001b[39m\"\u001b[39m\u001b[39mxkcd_palette\u001b[39m\u001b[39m\"\u001b[39m, \u001b[39m\"\u001b[39m\u001b[39mcrayon_palette\u001b[39m\u001b[39m\"\u001b[39m,\n\u001b[0;32m     <a href='file:///c%3A/Users/manda/AppData/Local/Programs/Python/Python310/lib/site-packages/seaborn/palettes.py?line=15'>16</a>\u001b[0m            \u001b[39m\"\u001b[39m\u001b[39mcubehelix_palette\u001b[39m\u001b[39m\"\u001b[39m, \u001b[39m\"\u001b[39m\u001b[39mset_color_codes\u001b[39m\u001b[39m\"\u001b[39m]\n",
      "File \u001b[1;32mc:\\Users\\manda\\AppData\\Local\\Programs\\Python\\Python310\\lib\\site-packages\\seaborn\\utils.py:10\u001b[0m, in \u001b[0;36m<module>\u001b[1;34m\u001b[0m\n\u001b[0;32m      <a href='file:///c%3A/Users/manda/AppData/Local/Programs/Python/Python310/lib/site-packages/seaborn/utils.py?line=6'>7</a>\u001b[0m \u001b[39mfrom\u001b[39;00m \u001b[39murllib\u001b[39;00m\u001b[39m.\u001b[39;00m\u001b[39mrequest\u001b[39;00m \u001b[39mimport\u001b[39;00m urlopen, urlretrieve\n\u001b[0;32m      <a href='file:///c%3A/Users/manda/AppData/Local/Programs/Python/Python310/lib/site-packages/seaborn/utils.py?line=8'>9</a>\u001b[0m \u001b[39mimport\u001b[39;00m \u001b[39mnumpy\u001b[39;00m \u001b[39mas\u001b[39;00m \u001b[39mnp\u001b[39;00m\n\u001b[1;32m---> <a href='file:///c%3A/Users/manda/AppData/Local/Programs/Python/Python310/lib/site-packages/seaborn/utils.py?line=9'>10</a>\u001b[0m \u001b[39mfrom\u001b[39;00m \u001b[39mscipy\u001b[39;00m \u001b[39mimport\u001b[39;00m stats\n\u001b[0;32m     <a href='file:///c%3A/Users/manda/AppData/Local/Programs/Python/Python310/lib/site-packages/seaborn/utils.py?line=10'>11</a>\u001b[0m \u001b[39mimport\u001b[39;00m \u001b[39mpandas\u001b[39;00m \u001b[39mas\u001b[39;00m \u001b[39mpd\u001b[39;00m\n\u001b[0;32m     <a href='file:///c%3A/Users/manda/AppData/Local/Programs/Python/Python310/lib/site-packages/seaborn/utils.py?line=11'>12</a>\u001b[0m \u001b[39mimport\u001b[39;00m \u001b[39mmatplotlib\u001b[39;00m \u001b[39mas\u001b[39;00m \u001b[39mmpl\u001b[39;00m\n",
      "File \u001b[1;32mc:\\Users\\manda\\AppData\\Local\\Programs\\Python\\Python310\\lib\\site-packages\\scipy\\__init__.py:136\u001b[0m, in \u001b[0;36m<module>\u001b[1;34m\u001b[0m\n\u001b[0;32m    <a href='file:///c%3A/Users/manda/AppData/Local/Programs/Python/Python310/lib/site-packages/scipy/__init__.py?line=132'>133</a>\u001b[0m \u001b[39mfrom\u001b[39;00m \u001b[39mscipy\u001b[39;00m\u001b[39m.\u001b[39;00m\u001b[39mversion\u001b[39;00m \u001b[39mimport\u001b[39;00m version \u001b[39mas\u001b[39;00m __version__\n\u001b[0;32m    <a href='file:///c%3A/Users/manda/AppData/Local/Programs/Python/Python310/lib/site-packages/scipy/__init__.py?line=134'>135</a>\u001b[0m \u001b[39m# Allow distributors to run custom init code\u001b[39;00m\n\u001b[1;32m--> <a href='file:///c%3A/Users/manda/AppData/Local/Programs/Python/Python310/lib/site-packages/scipy/__init__.py?line=135'>136</a>\u001b[0m \u001b[39mfrom\u001b[39;00m \u001b[39m.\u001b[39;00m \u001b[39mimport\u001b[39;00m _distributor_init\n\u001b[0;32m    <a href='file:///c%3A/Users/manda/AppData/Local/Programs/Python/Python310/lib/site-packages/scipy/__init__.py?line=137'>138</a>\u001b[0m \u001b[39mfrom\u001b[39;00m \u001b[39mscipy\u001b[39;00m\u001b[39m.\u001b[39;00m\u001b[39m_lib\u001b[39;00m \u001b[39mimport\u001b[39;00m _pep440\n\u001b[0;32m    <a href='file:///c%3A/Users/manda/AppData/Local/Programs/Python/Python310/lib/site-packages/scipy/__init__.py?line=138'>139</a>\u001b[0m \u001b[39m# In maintenance branch, change to np_maxversion N+3 if numpy is at N\u001b[39;00m\n\u001b[0;32m    <a href='file:///c%3A/Users/manda/AppData/Local/Programs/Python/Python310/lib/site-packages/scipy/__init__.py?line=139'>140</a>\u001b[0m \u001b[39m# See setup.py for more details\u001b[39;00m\n",
      "File \u001b[1;32m<frozen importlib._bootstrap>:1027\u001b[0m, in \u001b[0;36m_find_and_load\u001b[1;34m(name, import_)\u001b[0m\n",
      "File \u001b[1;32m<frozen importlib._bootstrap>:1002\u001b[0m, in \u001b[0;36m_find_and_load_unlocked\u001b[1;34m(name, import_)\u001b[0m\n",
      "File \u001b[1;32m<frozen importlib._bootstrap>:945\u001b[0m, in \u001b[0;36m_find_spec\u001b[1;34m(name, path, target)\u001b[0m\n",
      "File \u001b[1;32m<frozen importlib._bootstrap_external>:1439\u001b[0m, in \u001b[0;36mfind_spec\u001b[1;34m(cls, fullname, path, target)\u001b[0m\n",
      "File \u001b[1;32m<frozen importlib._bootstrap_external>:1411\u001b[0m, in \u001b[0;36m_get_spec\u001b[1;34m(cls, fullname, path, target)\u001b[0m\n",
      "File \u001b[1;32m<frozen importlib._bootstrap_external>:1577\u001b[0m, in \u001b[0;36mfind_spec\u001b[1;34m(self, fullname, target)\u001b[0m\n",
      "File \u001b[1;32m<frozen importlib._bootstrap_external>:161\u001b[0m, in \u001b[0;36m_path_isfile\u001b[1;34m(path)\u001b[0m\n",
      "File \u001b[1;32m<frozen importlib._bootstrap_external>:153\u001b[0m, in \u001b[0;36m_path_is_mode_type\u001b[1;34m(path, mode)\u001b[0m\n",
      "File \u001b[1;32m<frozen importlib._bootstrap_external>:147\u001b[0m, in \u001b[0;36m_path_stat\u001b[1;34m(path)\u001b[0m\n",
      "\u001b[1;31mKeyboardInterrupt\u001b[0m: "
     ]
    }
   ],
   "source": [
    "import pandas as pd\n",
    "import plotly.express as px\n",
    "import matplotlib.pyplot as plt\n",
    "import seaborn as sns\n",
    "import numpy as np\n",
    "%matplotlib inline\n"
   ]
  },
  {
   "cell_type": "code",
   "execution_count": null,
   "id": "dff8a79f",
   "metadata": {},
   "outputs": [],
   "source": [
    "def topo():\n",
    "    print(33*'-')"
   ]
  },
  {
   "cell_type": "markdown",
   "id": "7106750a",
   "metadata": {},
   "source": [
    "## Primeira Base de dados  [Atlas da Violência do IPEA](https://www.ipea.gov.br/atlasviolencia/)\n",
    "* O Atlas da Violência é um portal que reúne, organiza e disponibiliza informações sobre violência no Brasil, bem como reúne publicações do Ipea sobre violência e segurança pública. Foi criado em 2016 e é gerido pelo Instituto de Pesquisa Econômica Aplicada (Ipea) com a colaboração do Fórum Brasileiro de Segurança Pública (FBSP)."
   ]
  },
  {
   "cell_type": "markdown",
   "id": "074ecf5f",
   "metadata": {},
   "source": [
    "## Entendendo os dados\n",
    "\n",
    "> df_obt_BR = Taxa de óbitos por armas de fogo a cada 100 mil habitantes Brasil 1989~2019."
   ]
  },
  {
   "cell_type": "code",
   "execution_count": null,
   "id": "4e5de7d2",
   "metadata": {},
   "outputs": [],
   "source": [
    "df = pd.read_csv('taxa-de-homicidios-por-armas-de-fogo-BR.csv', sep=';', usecols=[1, 2, 3])\n",
    "df.head(3)"
   ]
  },
  {
   "cell_type": "code",
   "execution_count": null,
   "id": "9750ad44",
   "metadata": {},
   "outputs": [],
   "source": [
    "# Dando uma olhada nos dados\n",
    "display(df)"
   ]
  },
  {
   "cell_type": "markdown",
   "id": "8f1595c6",
   "metadata": {},
   "source": [
    "A primeira coisa que me salta aos olhos, é uma discrepância na varição dos dados de 2018 e 2019 em relação ao todo, vejamos o gráfico abaixo:"
   ]
  },
  {
   "cell_type": "code",
   "execution_count": null,
   "metadata": {},
   "outputs": [],
   "source": [
    "# Gráfico de destribuição de densidade em discos\n",
    "# Separa os dados em grupos diferentes\n",
    "sns.set_style('darkgrid')\n",
    "x = df['período']\n",
    "y = df['valor']\n",
    "sns.displot(y=y, x=x, kind=\"kde\", color='c', weights=7, height=7, rug=True)\n",
    "plt.title('Gráfico de destribuição densidade em discos')\n",
    "\n",
    "\n"
   ]
  },
  {
   "cell_type": "markdown",
   "id": "771bc3c6",
   "metadata": {},
   "source": [
    "Como podemos visualizar melhor no gráfico acima, os dados de 2018 e 2019 estão fora do esperado, tendo em vista a série histórica de 31 anos apenas estes dois destoam."
   ]
  },
  {
   "cell_type": "markdown",
   "id": "5eb53543",
   "metadata": {},
   "source": [
    "Agora vamos criar uma nova coluna para quantificar esta discrepância nos dados que saltou aos olhos.\n",
    "A coluna `Discrepância` representará a variação da taxa em relação ao ano anterior."
   ]
  },
  {
   "cell_type": "code",
   "execution_count": null,
   "id": "0feedfe6",
   "metadata": {},
   "outputs": [],
   "source": [
    "# Inserindo uma coluna 'Discrepancia_Taxa' ao data frame\n",
    "df.insert(3, 'Discrepancia_Taxa', 0)"
   ]
  },
  {
   "cell_type": "code",
   "execution_count": null,
   "id": "55b73a5f",
   "metadata": {},
   "outputs": [],
   "source": [
    "# Calculando a Discrepancia_Taxa\n",
    "for contador in range (1, 31): # Contador linha a linha começando a partir da segunda linha \n",
    "    minimo = min(df.iloc[contador, 2], df.iloc[(contador-1), 2]) # Calcula a menor taxa entre 2\n",
    "    maximo = max(df.iloc[contador, 2], df.iloc[(contador-1), 2]) # Calcula a maior taxa entre 2\n",
    "    df.at[contador, 'Discrepancia_Taxa'] = round((maximo - minimo), 2) # Define a diferença do maior pelo menor.\n",
    "    if minimo == df.iloc[contador, 2]:\n",
    "        df.at[contador, 'Discrepancia_Taxa'] *= -1\n",
    "df.at[0, 'Discrepancia_Taxa'] = 0"
   ]
  },
  {
   "cell_type": "markdown",
   "id": "ee46bf99",
   "metadata": {},
   "source": [
    "Dando uma olhada no dataframe com a nova coluna `Discrepancia_Taxa`"
   ]
  },
  {
   "cell_type": "code",
   "execution_count": null,
   "id": "c3e9211e",
   "metadata": {},
   "outputs": [],
   "source": [
    "display(df)"
   ]
  },
  {
   "cell_type": "markdown",
   "id": "e41b8c1d",
   "metadata": {},
   "source": [
    "Plotando um gráfico para melhor visualização da discrepância ano a ano."
   ]
  },
  {
   "cell_type": "code",
   "execution_count": null,
   "id": "3e72ef62",
   "metadata": {},
   "outputs": [],
   "source": [
    "plt.subplots(figsize=(16, 10))\n",
    "x = df['período']\n",
    "y = df['Discrepancia_Taxa']\n",
    "grafico = sns.barplot(x=x, y=y, palette='Blues_d')\n",
    "pd.set_option('display.precision', 2)\n",
    "for item in grafico.patches:\n",
    "    grafico.annotate(\n",
    "                     item.get_height(),\n",
    "                     (item.get_x() + item.get_width() /2, item.get_height()),\n",
    "                      ha='center',\n",
    "                      rotation=90,\n",
    "                      va='baseline',\n",
    "                      fontsize=13,\n",
    "                      color='black',\n",
    "                      xytext=(0, 0),\n",
    "                      textcoords='offset points',\n",
    "                      )"
   ]
  },
  {
   "cell_type": "markdown",
   "id": "f75ae518",
   "metadata": {},
   "source": [
    "Podemos verificar que existem valores destoantes na amostra\n",
    ">Principais possibilidades:\n",
    "* Inconssistência nos dados\n",
    "* Maquiagem nos dados\n",
    "* Grande variação nos dados por algum motivo ainda desconhecido.\n",
    ">Posteriormente trataremos esta informação\n",
    "<hr>"
   ]
  },
  {
   "cell_type": "markdown",
   "id": "c7bc4d0e",
   "metadata": {},
   "source": [
    "## Ainda dentro do supracitado Atlas da violência do Ipea, traremos agora outros elementos para nossa análise."
   ]
  },
  {
   "cell_type": "markdown",
   "id": "50f2489f",
   "metadata": {},
   "source": [
    "Vamos trazer pro nosso conjunto de dados agora, o número da quantidade total de homicídios por arma de fogo, ano a ano, nível Brasil [Fonte](https://www.ipea.gov.br/atlasviolencia/filtros-series/5/bitos-por-armas-de-fogo) "
   ]
  },
  {
   "cell_type": "code",
   "execution_count": null,
   "id": "5e30ad9f",
   "metadata": {},
   "outputs": [],
   "source": [
    "df_auxiliar = pd.read_csv('total-homicidios-por-armas-de-fogo-BR.csv', sep=';')\n",
    "df_auxiliar.head(5)"
   ]
  },
  {
   "cell_type": "markdown",
   "id": "3b740abb",
   "metadata": {},
   "source": []
  },
  {
   "cell_type": "code",
   "execution_count": null,
   "id": "be5a5d80",
   "metadata": {},
   "outputs": [],
   "source": [
    "# Inserindo uma coluna 'Fatalidades_Totais' com o valor correto ao data frame\n",
    "df.insert(4, 'Fatalidades_Totais', df_auxiliar['valor'].copy())"
   ]
  },
  {
   "cell_type": "code",
   "execution_count": null,
   "id": "b038bea2",
   "metadata": {},
   "outputs": [],
   "source": [
    "# Verificando se a inclusão dos dados obteve êxito/ dando uma oolhada nos dados\n",
    "df"
   ]
  },
  {
   "cell_type": "markdown",
   "id": "88f3c532",
   "metadata": {},
   "source": [
    "Agora vamos fazer uma validação dos dados, inserindo uma coluna com a discrepância total e verificando se bate com a nossa coluna de discrepância de taxa, verificando assim confiabilidade entre os dados totais e a taxa a cada 100k habitantes:"
   ]
  },
  {
   "cell_type": "code",
   "execution_count": null,
   "id": "2a15103d",
   "metadata": {},
   "outputs": [],
   "source": [
    "# Inserindo uma coluna 'Discrepancia_Qtd_Total' ao data frame\n",
    "df.insert(5, 'Discrepancia_Qtd_Total', 0) "
   ]
  },
  {
   "cell_type": "code",
   "execution_count": null,
   "id": "7724b361",
   "metadata": {},
   "outputs": [],
   "source": [
    "for contador in range (1, 31): # Contador linha a linha começando a partir da segunda linha \n",
    "    minimo = min(df.iloc[contador, 2], df.iloc[(contador-1), 2]) # Calcula a menor taxa entre 2\n",
    "    maximo = max(df.iloc[contador, 2], df.iloc[(contador-1), 2]) # Calcula a maior taxa entre 2\n",
    "    df.at[contador, 'Discrepancia_Qtd_Total'] = round((maximo - minimo), 2) # Define a diferença do maior pelo menor.\n",
    "    if minimo == df.iloc[contador, 2]:\n",
    "        df.at[contador, 'Discrepancia_Qtd_Total'] *= -1\n",
    "df.at[0, 'Discrepancia_Qtd_Total'] = 0"
   ]
  },
  {
   "cell_type": "code",
   "execution_count": null,
   "id": "f694924b",
   "metadata": {},
   "outputs": [],
   "source": [
    "# Validando os dados\n",
    "df['Discrepancia_Taxa'] == df['Discrepancia_Qtd_Total']    "
   ]
  },
  {
   "cell_type": "markdown",
   "id": "a439564d",
   "metadata": {},
   "source": [
    "Relação entre fatalidades totais e taxa a cada 100k habitantes `validadada com sucesso`.\n",
    ">Esta relação esta consistente.\n"
   ]
  },
  {
   "cell_type": "markdown",
   "id": "a64507c8",
   "metadata": {},
   "source": [
    "Agora vamos deletar a coluna redundante"
   ]
  },
  {
   "cell_type": "code",
   "execution_count": null,
   "id": "c0de5c0e",
   "metadata": {},
   "outputs": [],
   "source": [
    "# Descarta os valores passados\n",
    "df.drop(columns=['Discrepancia_Qtd_Total'], inplace=True)\n",
    "df.columns"
   ]
  },
  {
   "cell_type": "markdown",
   "id": "ef8a8211",
   "metadata": {},
   "source": [
    "Outro dado que traremos para nossa análise, ainda extraido do  `Atlas da Violência do Ipea` será a `Taxa de homicídios por arma de fogo a cada 100k habitantes por estados` [Fonte](https://www.ipea.gov.br/atlasviolencia/filtros-series/5/bitos-por-armas-de-fogo)"
   ]
  },
  {
   "cell_type": "markdown",
   "id": "052289c4",
   "metadata": {},
   "source": [
    "Criando df_UF com a taxa supracitada"
   ]
  },
  {
   "cell_type": "code",
   "execution_count": null,
   "id": "cc4ed4f2",
   "metadata": {},
   "outputs": [],
   "source": [
    "df_UF = pd.read_csv('taxa-de-homicídios-por-armas-de-fogo-UF.csv', sep=';', usecols=[1, 2, 3])\n",
    "pd.set_option('display.max_rows', 33)\n",
    "df_UF"
   ]
  },
  {
   "cell_type": "code",
   "execution_count": null,
   "id": "745b67ff",
   "metadata": {},
   "outputs": [],
   "source": [
    "# Renomeando títulos das colunas\n",
    "df_UF.columns=['UF', 'Ano', 'Taxa_Fatalidades']\n",
    "df_UF.head(1)"
   ]
  },
  {
   "cell_type": "code",
   "execution_count": null,
   "id": "e13794cd",
   "metadata": {},
   "outputs": [],
   "source": [
    "# Renomeando títulos das colunas\n",
    "df.rename(columns={'nome':'Pais'},inplace=True)\n",
    "df.rename(columns={'período':'Ano'},inplace=True)\n",
    "df.rename(columns={'valor':'Taxa_Fatalidades'},inplace=True)\n",
    "df.head(1)"
   ]
  },
  {
   "cell_type": "code",
   "execution_count": null,
   "id": "d1da7dff",
   "metadata": {},
   "outputs": [],
   "source": [
    "# Verificando quantidade de estados (Brasil tem 26 mais DF)\n",
    "df_UF['UF'].nunique()"
   ]
  },
  {
   "cell_type": "markdown",
   "id": "761df751",
   "metadata": {},
   "source": [
    "> Dados validados\n",
    "<hr>"
   ]
  },
  {
   "cell_type": "markdown",
   "id": "731fcae6",
   "metadata": {},
   "source": [
    "Criando uma nova coluna `Politica_Publica` [`armamento`/`desarmamento`] nos 2 conjuntos de dados atuais, essa coluna informará se no ano em questão, a política pública foi favorável ou armamento ou ao desarmamento."
   ]
  },
  {
   "cell_type": "code",
   "execution_count": null,
   "id": "7e019ab2",
   "metadata": {},
   "outputs": [],
   "source": [
    "# Inserindo uma coluna 'Discrepancia_Qtd_Total' ao data frame\n",
    "df.insert(2, 'Politica_Publica', '')\n",
    "df.head(1) "
   ]
  },
  {
   "cell_type": "code",
   "execution_count": null,
   "id": "5feb97af",
   "metadata": {},
   "outputs": [],
   "source": [
    "# Preenchendo os dados\n",
    "for contador in range(0, len(df)): # Contador linha a linha \n",
    "    if df.iloc[contador, 1] <= 2003:\n",
    "        df.at[contador, 'Politica_Publica'] = 'Armamento'\n",
    "    elif df.iloc[contador, 1] < 2019:\n",
    "        df.at[contador, 'Politica_Publica'] = 'Desarmamento'\n",
    "    else:\n",
    "        df.at[contador, 'Politica_Publica'] = 'Armamento'\n",
    "for contador in range(0, len(df_UF)): # Contador lina a linha no dataframe UF\n",
    "    if df_UF.iloc[contador, 1] <= 2003:\n",
    "        df_UF.at[contador, 'Politica_Publica'] = 'Armamento'\n",
    "    elif df_UF.iloc[contador, 1] < 2019:\n",
    "        df_UF.at[contador, 'Politica_Publica'] = 'Desarmamento'\n",
    "    else:\n",
    "        df_UF.at[contador, 'Politica_Publica'] = 'Armamento'\n",
    "    \n"
   ]
  },
  {
   "cell_type": "code",
   "execution_count": null,
   "id": "b2a07cc8",
   "metadata": {},
   "outputs": [],
   "source": [
    "df"
   ]
  },
  {
   "cell_type": "markdown",
   "id": "ad5e59c0",
   "metadata": {},
   "source": [
    "Seria interessante para nossa análise, trazer o número de registros de armas de fogo no Brasil ano a ano, então fui atrás destes dados;\n",
    "Realizei consultas em diversas fontes e consegui tabular o seguinte conjunto de dados:"
   ]
  },
  {
   "cell_type": "code",
   "execution_count": null,
   "id": "ea9b8ff2",
   "metadata": {},
   "outputs": [],
   "source": [
    "# Importando Conjunto de dados:\n",
    "df_auxiliar = pd.read_excel('Registros-Armas.xlsx')\n",
    "df_auxiliar"
   ]
  },
  {
   "cell_type": "code",
   "execution_count": null,
   "id": "04979f27",
   "metadata": {},
   "outputs": [],
   "source": []
  },
  {
   "cell_type": "markdown",
   "id": "5c6cd4c2",
   "metadata": {},
   "source": []
  },
  {
   "cell_type": "markdown",
   "id": "42ff0248",
   "metadata": {},
   "source": []
  },
  {
   "cell_type": "code",
   "execution_count": null,
   "id": "d4656c0f",
   "metadata": {},
   "outputs": [],
   "source": [
    "df\n"
   ]
  },
  {
   "cell_type": "markdown",
   "id": "501fd81d",
   "metadata": {},
   "source": [
    "## Trazendo mais dados para nosssa análise."
   ]
  },
  {
   "cell_type": "markdown",
   "id": "3d868a29",
   "metadata": {},
   "source": [
    "Acessamos o [Fórum Brasileiro de Segurança Pública](https://forumseguranca.org.br/) e lá acessamos o [Anuário Brasileiro de Segurança Pública](https://forumseguranca.org.br/anuario-brasileiro-seguranca-publica/)\n",
    "\n",
    "* Clique nos links acima para saber mais sobre o Fórum e o Anuário;\n",
    "* Os anuários estão disponíveis desde 2007(1º anuário) até 2021(15º anuário);\n",
    "* Os anuários tem um grande volume de dados, são disponibilizados em formato .xlxs(EXCEL), tendo aproximadamente 330 abas diferentes em cada arquivo\n",
    "* Temos uma base de dados em excel com aproximadamente 5 mil abas filtrarmos.\n",
    "[Link dos anuários](https://forumseguranca.org.br/wp-content/uploads/2021/10/anuario-15-completo-v6-251021.xlsx)\n"
   ]
  },
  {
   "cell_type": "markdown",
   "id": "8a63da6e",
   "metadata": {},
   "source": [
    ">Vamos eleger alguns dados chave, de importância estratégica para trazermos ao nosso conjunto de dados."
   ]
  },
  {
   "cell_type": "markdown",
   "id": "d64b3bac",
   "metadata": {},
   "source": [
    "## Outras potenciais fontes de dados: \n",
    "* Ocorrências Criminais - Sinesp https://dados.gov.br/dataset/sistema-nacional-de-estatisticas-de-seguranca-publica\n",
    "\n",
    "* SINARM - Sistema Nacional de Armas https://dados.gov.br/dataset/sinarm\n",
    "https://servicos.dpf.gov.br/dadosabertos/SINARM/\n",
    "\n",
    "\n",
    "\n"
   ]
  },
  {
   "cell_type": "markdown",
   "id": "b4899baf",
   "metadata": {},
   "source": []
  },
  {
   "cell_type": "markdown",
   "id": "67d366d9",
   "metadata": {},
   "source": [
    "Podemos observar que estão faltando os valores de 2020, 2021 então vamos buscar em outras fontes."
   ]
  },
  {
   "cell_type": "code",
   "execution_count": null,
   "id": "173de457",
   "metadata": {},
   "outputs": [],
   "source": []
  },
  {
   "cell_type": "markdown",
   "id": "394a51db",
   "metadata": {},
   "source": [
    ">O Estatuto do Desarmamento é uma política de controle de armas que entrou em vigor no Brasil por meio de lei no dia 22 de dezembro de 2003. Ele foi sancionado com o objetivo de reduzir a circulação de armas e estabelecer penas mais rigorosas para crimes. [Fonte](https://www.brasilparalelo.com.br/artigos/desarmamento-no-brasil#:~:text=O%20Estatuto%20do%20Desarmamento%20%C3%A9,mais%20rigorosas%20para%20crimes%20relacionados.)\n",
    "* Logo de 2004 até 2019 houveram políticas de desarmamento\n",
    "\n",
    ">Em 2019 Jair Bolsonaro assumiu e já em janeiro, assinou decreto que facilitou a compra de armas. [Fonte](https://g1.globo.com/politica/noticia/2019/01/15/bolsonaro-assina-decreto-que-facilita-posse-de-armas.ghtml)\n",
    "* Logo de 2019 até 2022 houveram políticas favoráveis ao armamento. [fonte](https://g1.globo.com/politica/noticia/2019/01/15/bolsonaro-assina-decreto-que-facilita-posse-de-armas.ghtml)"
   ]
  },
  {
   "cell_type": "markdown",
   "id": "89d848cb",
   "metadata": {},
   "source": []
  },
  {
   "cell_type": "markdown",
   "id": "9fa329c3",
   "metadata": {},
   "source": [
    "<hr>"
   ]
  },
  {
   "cell_type": "markdown",
   "id": "b7dd9017",
   "metadata": {},
   "source": []
  },
  {
   "cell_type": "code",
   "execution_count": null,
   "id": "65c6a029",
   "metadata": {},
   "outputs": [],
   "source": [
    "\n",
    "plt.subplots(figsize=(16, 8))\n",
    "x = df['Ano']\n",
    "y = df['Taxa_Fatalidades']\n",
    "plt.xticks(rotation=90)\n",
    "plt.title('Taxa de homicídios a cada 100k habitantes Brasil')\n",
    "\n",
    "\n",
    "cores = []\n",
    "for ano in df['Ano']: \n",
    "    if ano <= 2003:\n",
    "       cores.append('green')\n",
    "    elif ano <= 2018:\n",
    "        cores.append('red')\n",
    "    else:\n",
    "        cores.append('green')\n",
    "print(cores)\n",
    "\n",
    "\n",
    "\n",
    "grafico = sns.barplot(x=x, y=y, palette=cores)\n",
    "pd.set_option('display.precision', 2)\n",
    "for item in grafico.patches:\n",
    "    grafico.annotate(\n",
    "                     item.get_height(),\n",
    "                     (item.get_x() + item.get_width() /2, item.get_height()),\n",
    "                      ha='center',\n",
    "                      rotation=90,\n",
    "                      va='baseline',\n",
    "                      fontsize=13,\n",
    "                      color='white',\n",
    "                      xytext=(0, -33),\n",
    "                      textcoords='offset points',\n",
    "                      )\n",
    "\n",
    "\n",
    "\n"
   ]
  },
  {
   "cell_type": "code",
   "execution_count": null,
   "metadata": {},
   "outputs": [],
   "source": [
    "df"
   ]
  },
  {
   "cell_type": "code",
   "execution_count": null,
   "id": "02c6946b",
   "metadata": {},
   "outputs": [],
   "source": []
  },
  {
   "cell_type": "code",
   "execution_count": null,
   "metadata": {},
   "outputs": [],
   "source": []
  },
  {
   "cell_type": "code",
   "execution_count": null,
   "id": "eefc279d",
   "metadata": {},
   "outputs": [],
   "source": []
  },
  {
   "cell_type": "code",
   "execution_count": null,
   "id": "49253dee",
   "metadata": {},
   "outputs": [],
   "source": []
  },
  {
   "cell_type": "code",
   "execution_count": null,
   "id": "80215f06",
   "metadata": {},
   "outputs": [],
   "source": []
  },
  {
   "cell_type": "markdown",
   "id": "9634fd11",
   "metadata": {},
   "source": [
    "<hr>\n",
    "RASCUNHO:"
   ]
  },
  {
   "cell_type": "markdown",
   "id": "a57db266",
   "metadata": {},
   "source": [
    ">Isso coloca quando começarmos a análise de dados.\n",
    "\n",
    "Vários autores procuram evidenciar a relação causal entre mais armas e mais crimes,\n",
    "entre os quais Duggan (2001), Sherman, Shaw e Rogan (1995), Stolzenberg e D´Alessio\n",
    "(2000), McDowall (1991), McDowall, Loftin e Wiersema (1995), Cook e Ludwig (1998,\n",
    "2002), Sloan et al. (1988), Ludwig (1998) e Newton e Zimring (1969). Geralmente os\n",
    "argumentos utilizados nestes artigos são os seguintes: i) o indivíduo que possui uma arma\n",
    "de fogo fica encorajado a dar respostas violentas para a solução de conflitos interpessoais;\n",
    "ii) o possuidor de armas fica com poder para coagir; iii) do ponto de vista do criminoso, a\n",
    "posse da arma de fogo faz aumentar a produtividade e diminuir o risco de o perpetrador\n",
    "cometer crimes; e iv) o aumento da facilidade e do acesso às armas significa diminuição\n",
    "do custo da arma pelo criminoso no mercado ilegal.\n",
    "\n",
    "Entretanto, a conclusão de vários trabalhos – entre os quais Bronars e Lott Junior\n",
    "(1998), Lott Junior e Mustard (1997), Kleck (1979) e Bartley e Cohen (1998) – é de\n",
    "que mais armas significam menos crimes. Segundo estes autores, a difusão de armas na\n",
    "população faria diminuir a taxa de crimes (pelo menoção de armas de fogo (KLECK, 1979). Em muitos outros trabalhos, sequer se utilizou\n",
    "uma medida de prevalência das armas de fogo, e a estratégia de identificação geralmente se baseou na análise da variação da taxa de crimes em cidades e estados americanos\n",
    "em que houve ou não mudança na legislação sobre o tema (aprovação do sistema de\n",
    "shall issue, conforme será visto adiante). Contudo, é bastante questionável interpretar\n",
    "uma mudança de lei como uma variação exógena, se esta mudança ocorreu apenas em\n",
    "alguns estados da base de dados, possivelmente como consequência da alta criminalidade nestas localidades. Por sua vez, o problema de variáveis omitidas permanece como\n",
    "uma questão central a ser trabalhada dentro das estratégias de identificação utilizadas\n",
    "para captar o efeito da mudança de legislação.s os crimes contra o patrimônio),\n",
    "uma vez que o uso defensivo da arma de fogo pelas potenciais vítimas faria aumentar o\n",
    "custo esperado para o perpetrador cometer crimes.\n",
    "\n",
    "A despeito dos inúmeros artigos sobre o tema, não se alcançou ainda um consenso acerca do efeito causal entre armas de fogo e aumento da criminalidade. Possivelmente isto decorre das dificuldades metodológicas envolvidas, que passam pela\n",
    "busca por uma medida confiável de prevalência de armas de fogo nas cidades, além dos\n",
    "clássicos problemas de simultaneidade e de variáveis omitidas. Por exemplo, alguns autores utilizaram proxies de validade bastante discutível para o estoque de armas de fogo\n",
    "nas localidades, como o número de revistas especializadas em armas de fogo vendidas1\n",
    "(MOODY e MARVELL, 2002; DUGGAN, 2001), ou mesmo a produção e importa\n",
    "\n",
    "Dados semelhantes foram apresentados pelo sociólogo Guaracy Mingardi em uma pesquisa em 1996 que revelou que 46% dos casos de homicídio registrados na Zona Sul da capital, vítima e autor mantinham uma relação prévia de parentesco, vizinhança, amizade, ou outra proximidade qualquer. Esses dados apontam para o fato de que nós nos matamos em situações mundanas, como uma briga de trânsito, uma discussão com o vizinho, um mal-entendido no bar ou um desentendimento em casa. A predisposição para apertar o gatilho é alta.\n",
    "\n",
    "\n",
    "citação http://repositorio.ipea.gov.br/bitstream/11058/2927/1/TD_1721.pdf"
   ]
  },
  {
   "cell_type": "markdown",
   "id": "9c8a54a2",
   "metadata": {},
   "source": [
    "\n",
    "\n",
    "* Tem que entrar aqui também numero de portes de armas\n",
    "* Numero de feminicidios\n",
    "* Numero de assaltos a mao armada\n",
    "* Base de dados da policia federal boa com registro de armas de fogo e ocorrencias\n",
    "https://servicos.dpf.gov.br/dadosabertos/SINARM/"
   ]
  },
  {
   "cell_type": "markdown",
   "id": "344cb0ee",
   "metadata": {},
   "source": [
    "1ª Base de dados https://www.ipea.gov.br/atlasviolencia/filtros-series (Atlas da Violência)\n",
    "Séria que retrata quantidade de homicídios por arma de fogos ano-a-ano no Brasil.\n",
    "-> Nome do arquivo 'homicidios-por-armas-de-fogo.csv'\n",
    "-> A série tinha dados apenas até 2019 , os dados foram complementados com estas fontes:\n",
    "https://www.bbc.com/portuguese/brasil-57844477#:~:text=Aumento%20de%20homic%C3%ADdios,provocados%20por%20armas%20de%20fogo.\n",
    "https://g1.globo.com/monitor-da-violencia/noticia/2022/02/21/numero-de-assassinatos-cai-7percent-no-brasil-em-2021-e-e-o-menor-da-serie-historica.ghtml\n"
   ]
  },
  {
   "cell_type": "code",
   "execution_count": null,
   "id": "78736fd3",
   "metadata": {},
   "outputs": [],
   "source": [
    "# Importando bibliotecas e configurando gráficos\n",
    "import pandas as pd\n",
    "import plotly.express as px\n",
    "%matplotlib inline"
   ]
  },
  {
   "cell_type": "code",
   "execution_count": null,
   "id": "798e45ef",
   "metadata": {},
   "outputs": [],
   "source": [
    "# Criando DataFrames\n",
    "df_mortes = pd.read_csv('homicidios-por-armas-de-fogo.csv', sep=';', encoding='utf8', usecols=[2, 3])\n",
    "display(df_mortes)"
   ]
  },
  {
   "cell_type": "code",
   "execution_count": null,
   "id": "08dec398",
   "metadata": {},
   "outputs": [],
   "source": [
    "# Cálculando a evolução populacional brasileira ano-a-ano\n",
    "# Fontes IBGE dados populacionais nos anos de  80, 91 , 96 e 2010, quando ocorreram SENSOS\n",
    "# https://brasilemsintese.ibge.gov.br/populacao/populacao-total-1980-2010.html\n",
    "# Fonte Banco mundial / United Nations Population Division https://data.worldbank.org/country/brazil\n",
    "# Fonte Population Pyramid https://www.populationpyramid.net/pt/brasil/2022/\n",
    "# No final foram descartadas as médias oscilantes e consideradas apenas a da Population Pyramid para maior acuracidade\n",
    "\n",
    "# Puxando DataFrame que geramos no Excel com as médias das 3 fontes.\n",
    "df_pop = pd.read_excel('populacaobrasileira.xlsx')\n",
    "\n",
    "# Setando precisão de cálculo para 2 casa flutuantes\n",
    "pd.set_option('display.precision', 2)\n",
    "display(df_pop)\n"
   ]
  },
  {
   "cell_type": "code",
   "execution_count": null,
   "id": "26c5d962",
   "metadata": {},
   "outputs": [],
   "source": [
    "# Adcionando coluna referente a população em milhões no DataFrame de mortes por arma de fogo \n",
    "df_mortes = df_mortes.assign(pop_mi=0)\n",
    "df_mortes['pop_mi'] = df_pop['Milhoes'].copy()\n",
    "display(df_mortes)\n",
    "\n",
    "# o Ano de 2019 estava distoante da série, possivelmente foi fraudado pelo governo, ao buscar outras fontes\n",
    "# corrigi o valor correto \n",
    "# fonte https://www.poder360.com.br/brasil/numero-de-assassinatos-no-brasil-cai-19-em-2019-no-total-sao-41-635-mortes/#:~:text=O%20n%C3%BAmero%20de%20assassinatos%20no,2018%20%E2%80%93quase%2010.000%20a%20menos.\n",
    "# fonte https://noticias.uol.com.br/confere/ultimas-noticias/2021/10/07/governo-federal-distorce-dados-sobre-violencia-para-defender-acesso-a-armas.htm\n"
   ]
  },
  {
   "cell_type": "code",
   "execution_count": null,
   "id": "2c8d620a",
   "metadata": {},
   "outputs": [],
   "source": [
    "# Cálculando indíce dividindo numero de mortes por arma de fogo pela população no ano\n",
    "df_mortes = df_mortes.assign(indice=0)\n",
    "c = 0\n",
    "for indice in df_mortes['indice']:\n",
    "    val = ((df_mortes['valor'][c]) / (df_mortes['pop_mi'][c]))\n",
    "    df_mortes['indice'][c] = val\n",
    "    c += 1\n",
    "display(df_mortes)"
   ]
  },
  {
   "cell_type": "markdown",
   "id": "771b0942",
   "metadata": {},
   "source": [
    "# Com base neste indice vamos cálcular o aumento ou diminuição nos homicidíos por arma de fogo em relação a populção geral no ano\n"
   ]
  },
  {
   "cell_type": "code",
   "execution_count": null,
   "id": "febdfe9f",
   "metadata": {},
   "outputs": [],
   "source": [
    "# Arrumando títulos do DataFrame\n",
    "df_mortes.columns=['Ano', 'Mortes', 'Pop_mi', 'Indice']\n",
    "df_mortes.head(1)"
   ]
  },
  {
   "cell_type": "code",
   "execution_count": null,
   "id": "e15e3472",
   "metadata": {},
   "outputs": [],
   "source": [
    "import plotly.express as px\n",
    "gf = px.line(df_mortes, x= 'Ano', y='Indice', title='Indice de mortes por arma de fogo ano-a-ano Brasil 1998 - 2019')\n",
    "display(gf)\n"
   ]
  },
  {
   "cell_type": "code",
   "execution_count": null,
   "id": "7f6ef818",
   "metadata": {},
   "outputs": [],
   "source": []
  }
 ],
 "metadata": {
  "interpreter": {
   "hash": "5d11380547bba1e6c4b0ab7b7614350493a6d4caf256d9be4e363829d8f5c452"
  },
  "kernelspec": {
   "display_name": "Python 3.10.4 64-bit",
   "language": "python",
   "name": "python3"
  },
  "language_info": {
   "codemirror_mode": {
    "name": "ipython",
    "version": 3
   },
   "file_extension": ".py",
   "mimetype": "text/x-python",
   "name": "python",
   "nbconvert_exporter": "python",
   "pygments_lexer": "ipython3",
   "version": "3.10.4"
  }
 },
 "nbformat": 4,
 "nbformat_minor": 5
}
