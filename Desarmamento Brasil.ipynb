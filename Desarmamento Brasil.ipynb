{
 "cells": [
  {
   "cell_type": "markdown",
   "id": "ed45ca77",
   "metadata": {},
   "source": [
    "<center>\n",
    "    <img src=\"https://i.ibb.co/wQg0qzq/Banner.png\" width=\"900\" alt=\"KCode Banner\"  />\n",
    "</center>\n",
    "<a href=\"https://www.linkedin.com/in/kauebr/\"><img src=\"https://cdn-icons-png.flaticon.com/512/174/174857.png\" width=\"30\" ></a> <a href=\"mailto: kauemandarino@gmail.com\"><img src=\"https://cdn-icons-png.flaticon.com/512/5968/5968534.png\" width=\"30\" ></a><a href=\"\n",
    "https://api.whatsapp.com/send?phone=5541991835800&text=Oi\"> <img src=\"https://imagepng.org/wp-content/uploads/2017/08/whatsapp-icone-1.png\" width=\"30\" ></a><a href=\"https://github.com/kauebr/\"><img src=\"https://github.githubassets.com/images/modules/logos_page/Octocat.png\" width=\"30\" ></a>\n",
    "\n",
    "<HR>"
   ]
  },
  {
   "cell_type": "markdown",
   "id": "bda1f66e",
   "metadata": {},
   "source": [
    "> Curitiba 2022\n",
    "\n",
    "> Em Criação... \n",
    "\n",
    "// rascunho\n",
    "quem proibiu as armas no brasil:"
   ]
  },
  {
   "cell_type": "markdown",
   "id": "6ae4aa67",
   "metadata": {},
   "source": [
    "# Desarmamento Brasil\n",
    "\n"
   ]
  },
  {
   "cell_type": "markdown",
   "id": "19d57f53",
   "metadata": {},
   "source": [
    "<h2 id=\"1\">1. Contexto</h2>"
   ]
  },
  {
   "cell_type": "markdown",
   "id": "867a9edd",
   "metadata": {},
   "source": [
    "Após séculos de livre circulação de armas desde o Brasil colônia, `na década de 90`(Governo Fernando Henrique Cardoso) `o Brasil já tinha sua própria indústria bélica`, em 1991 o [projeto de lei 2246](https://www.camara.leg.br/proposicoesWeb/fichadetramitacao?idProposicao=201408) de `autoriade Eduardo Jorge(PT-SP)` visava limitar a circulução de armas no território nacional, através da proibição do porte de armas em território nacional, exceto algumas exceções como as forças armadas. No dia 23 de\n",
    "outubro de `2005(Governo Lula)`, o povo brasileiro foi chamado às urnas, através de um [referendo popular](https://www.youtube.com/watch?v=6sGADvxsEIY), a população foi convidada à dar sua opinião sobre a proibição do comércio de armas de fogo e munições no país, aonde a `maioria(63%) votou a favor do comércio de armas`, apesar da decisão popular favorável ao comercio, o governo de `esquerda` realizou alteração no art. 35 do estatuto do desarmamento (Lei nº 10.826/2003) e `tornou proibida a comercialização de armas de fogo` e munição em todo o território nacional, salvo para as entidades previstas no art. 6º do estatuto. `Comprar e portar armas no Brasil por meios legais ficou praticamente impossível`. Em 5 anos, de 2008 até 2012, a polícia federal autorizou a compra de apenas 3.336 armas por civis em todo o país, a população estimada do Brasil era na época de 194 mi. de habitantes. Em 2014 a campanha de desarmamento já havia recolhido quase 650 mil armas de circulação.\n",
    "Em `2018` O militar reformado `Jair Bolsonaro foi eleito` o 38.º presidente do Brasil com 55,13% dos votos válidos, no segundo turno das eleições presidenciais, um das principais `prioridades de sua campanha`, foi a `liberação do comércio de armas`, sendo inclusive `seu símbolo de campanha uma \"arminha\"` com a mão. Eleito a Bolsonaro publicou mais de 30 decretos e atos normativos desde janeiro de `2019` para facilitar o `acesso às armas`. Embora muitos ainda estejam judicializados, pois os processos enfrentaram [resistência no senado](https://www12.senado.leg.br/noticias/materias/2022/2021/07/23/decretos-pro-armas-de-bolsonaro-enfrentam-resistencia-no-senado), a intenção de aumentar o `acesso ao armamento` ao cidadão comum foi atingida.\n",
    "\n",
    "Neste contexto, vale ressaltar, que durante o advento das redes sociais, houve uma `polarização política, esquerda x direita`, no Brasil, aonde a população elegeu um lado e vimos surgir muitos discursos de ódio, tanto da direita pela esquerda quanto da esquerda pela direita. Esta polarização tornou muito rara uma `visão analítica de cenários`, sendo comum ante a realidade dos fatos ser posto um discurso polarizado de ódio, em que apenas se discorda do outro lado, sem uma análise real dos fatos e consequências em si. Este estudo é uma análise imparcial, `vamos nos basear em dados`, para que cheguemos a uma `resposta dos impactos das políticas armamentistas durante os anos`, e que sejam gerados insights e informações valiosas para auxiliar a tomada de decisões futuras, prevendo as tendências e consequências de cada política, analiticamente, `sem que se defenda um partido ou um viés político`.\n",
    "\n",
    "Nesse contexto este estudo deseja analisar com base em dados qual foi o impacto da rigidez e do afrouxamento nas políticas\n",
    "de desarmamento do Brasil em relação à violência por armas de fogo.\n",
    "\n"
   ]
  },
  {
   "cell_type": "markdown",
   "id": "ad322afc",
   "metadata": {},
   "source": [
    "<h1>Índice</h1>\n",
    "\n",
    "<div class=\"alert alert-block alert-info\" style=\"margin-top: 20px\">\n",
    "    <ol>\n",
    "        <li><a href=#1>Contexto</a></li>\n",
    "        <li><a href=#2>Objetivo Geral</a></li>\n",
    "        <li><a href=#3>Objetivos Específicos</a></li>\n",
    "        <li><a href=#4>Mineração de dados</a></li>\n",
    "    </ol>\n",
    "</div>\n",
    "<br>\n",
    "<hr>"
   ]
  },
  {
   "cell_type": "markdown",
   "id": "2894d85f",
   "metadata": {},
   "source": [
    "<h2 id=\"2\">2. Objetivo Geral</h2>\n",
    "\n",
    "  "
   ]
  },
  {
   "cell_type": "markdown",
   "id": "90224172",
   "metadata": {},
   "source": [
    "* Elaborar uma análise, sem viés político, sobre os impactos das políticas armamentistas no Brasil, desde a década de 90 até os dias até os dias de hoje. Gerando assim informações valiosas para a gestão pública se amparar na tomada de decisões futuras.\n",
    "`Deste modo espera-se gerar insights que vão auxiliar o país na diminuição da violência por armas de fogo`\n",
    "<hr>"
   ]
  },
  {
   "cell_type": "markdown",
   "id": "f281dbf4",
   "metadata": {},
   "source": [
    "<h2 id=\"3\">3. Objetivos Específicos</h2>\n"
   ]
  },
  {
   "cell_type": "markdown",
   "metadata": {},
   "source": [
    "* Minerar dados de fontes diversas para crianção de um conjunto de dados que dará origem ao nosso DataFrame;\n",
    "* Modelar os dados;\n",
    "* Analisar os dados;\n",
    "* Plotar apresentações gráficas e descritivas dos indicadores e insights para facilitar o entendimento; \n",
    "* Criar apresentação das informações em ferramenta externa (PowerBi ou Tableau)\n",
    "* Divulgar o estudo, de forma automática para os e-mails dos gabinetes de todos os deputados federais e senadores do Brasil.\n",
    "* Publicar em meios da comunicação - divulgar os resultados para a sociedade.\n",
    "<hr>"
   ]
  },
  {
   "cell_type": "markdown",
   "metadata": {},
   "source": [
    "<h2 id=\"2\">4. Mineração de Dados</h2>\n"
   ]
  },
  {
   "cell_type": "markdown",
   "id": "c5e3696c",
   "metadata": {},
   "source": [
    "* Nesta fase vamos trazer dados potencialmente pertinentes à nossa análise\n",
    "* Posteriormente vamos organiza-los\n",
    ">// tem que por o numero de portes(registros)"
   ]
  },
  {
   "cell_type": "markdown",
   "id": "fcbacd5f",
   "metadata": {},
   "source": [
    "Importando as bibliotecas pertinentes"
   ]
  },
  {
   "cell_type": "code",
   "execution_count": null,
   "id": "2e8f72cf",
   "metadata": {},
   "outputs": [],
   "source": [
    "import pandas as pd\n",
    "import plotly.express as px\n",
    "import matplotlib.pyplot as plt\n",
    "import seaborn as sns\n",
    "import numpy as np\n",
    "%matplotlib inline\n"
   ]
  },
  {
   "cell_type": "markdown",
   "id": "7106750a",
   "metadata": {},
   "source": [
    "## Primeira Base de dados  [Atlas da Violência do IPEA](https://www.ipea.gov.br/atlasviolencia/)\n",
    "* O Atlas da Violência é um portal que reúne, organiza e disponibiliza informações sobre violência no Brasil, bem como reúne publicações do Ipea sobre violência e segurança pública. Foi criado em 2016 e é gerido pelo Instituto de Pesquisa Econômica Aplicada (Ipea) com a colaboração do Fórum Brasileiro de Segurança Pública (FBSP)."
   ]
  },
  {
   "cell_type": "markdown",
   "id": "074ecf5f",
   "metadata": {},
   "source": [
    "## Entendendo os dados\n",
    "\n",
    "> df_obt_BR = Taxa de óbitos por armas de fogo a cada 100 mil habitantes Brasil 1989~2019"
   ]
  },
  {
   "cell_type": "code",
   "execution_count": null,
   "id": "4e5de7d2",
   "metadata": {},
   "outputs": [],
   "source": [
    "df_tx_obitos_BR = pd.read_csv('taxa-de-homicidios-por-armas-de-fogo-BR.csv', sep=';', usecols=[1, 2, 3])\n",
    "df_tx_obitos_BR.head(3)"
   ]
  },
  {
   "cell_type": "code",
   "execution_count": null,
   "id": "9750ad44",
   "metadata": {},
   "outputs": [],
   "source": [
    "# Dando uma olhada nos dados\n",
    "display(df_tx_obitos_BR)"
   ]
  },
  {
   "cell_type": "markdown",
   "id": "8f1595c6",
   "metadata": {},
   "source": [
    "A primeira coisa que me salta aos olhos, é uma discrepância na varição dos dados de 2018 e 2019 em relação ao todo, vejamos o gráfico abaixo:"
   ]
  },
  {
   "cell_type": "code",
   "execution_count": null,
   "metadata": {},
   "outputs": [],
   "source": [
    "\n",
    "# Gráfico de destribuição de disco\n",
    "sns.set_style('Black')\n",
    "x = df_tx_obitos_BR['período']\n",
    "y = df_tx_obitos_BR['valor']\n",
    "sns.displot(y=y, x=x, kind=\"kde\", color='c', weights=7, height=7)\n",
    "plt.title('Gráfico de destribuição')\n",
    "\n"
   ]
  },
  {
   "cell_type": "markdown",
   "id": "771bc3c6",
   "metadata": {},
   "source": [
    "Como podemos visualizar melhor no gráfico acima, os dados de 2018 e 2019 estão fora do esperado, tendo em vista a série histórica de 31 anos apenas estes dois destoam."
   ]
  },
  {
   "cell_type": "markdown",
   "id": "5eb53543",
   "metadata": {},
   "source": [
    "Agora vamos criar uma nova coluna para quantificar esta discrepância nos dados que saltou aos olhos.\n",
    "A coluna `Discrepância` representará a variação da taxa em relação ao ano anterior."
   ]
  },
  {
   "cell_type": "code",
   "execution_count": null,
   "id": "0feedfe6",
   "metadata": {},
   "outputs": [],
   "source": [
    "# Inserindo uma coluna 'Discrepancia' ao data frame\n",
    "df_tx_obitos_BR.insert(3, 'Discrepancia', 0)"
   ]
  },
  {
   "cell_type": "code",
   "execution_count": null,
   "id": "55b73a5f",
   "metadata": {},
   "outputs": [],
   "source": [
    "for contador in range (1, 31): # Contador linha a linha começando a partir da segunda linha \n",
    "    minimo = min(df_tx_obitos_BR.iloc[contador, 2], df_tx_obitos_BR.iloc[(contador-1), 2]) # Calcula a menor taxa entre 2\n",
    "    maximo = max(df_tx_obitos_BR.iloc[contador, 2], df_tx_obitos_BR.iloc[(contador-1), 2]) # Calcula a maior taxa entre 2\n",
    "    df_tx_obitos_BR.at[contador, 'Discrepancia'] = round((maximo - minimo), 2) # Define a diferença do maior pelo menor.\n",
    "    if minimo == df_tx_obitos_BR.iloc[contador, 2]:\n",
    "        df_tx_obitos_BR.at[contador, 'Discrepancia'] *= -1\n",
    "df_tx_obitos_BR.at[0, 'Discrepancia'] = 0\n",
    "\n",
    "#dfmi.loc[:, ('one', 'second')]\n",
    "\n"
   ]
  },
  {
   "cell_type": "markdown",
   "id": "ee46bf99",
   "metadata": {},
   "source": [
    "Dando uma olhada no dataframe com a coluna `Discrepancia`"
   ]
  },
  {
   "cell_type": "code",
   "execution_count": null,
   "id": "c3e9211e",
   "metadata": {},
   "outputs": [],
   "source": [
    "display(df_tx_obitos_BR)"
   ]
  },
  {
   "cell_type": "markdown",
   "id": "e41b8c1d",
   "metadata": {},
   "source": [
    "Plotando um gráfico para melhor visualização da discrepância ano a ano."
   ]
  },
  {
   "cell_type": "code",
   "execution_count": null,
   "id": "3e72ef62",
   "metadata": {},
   "outputs": [],
   "source": [
    "plt.subplots(figsize=(16, 10))\n",
    "x = df_tx_obitos_BR['período']\n",
    "y = df_tx_obitos_BR['Discrepancia']\n",
    "grafico = sns.barplot(x=x, y=y, palette='Blues_d')\n",
    "pd.set_option('display.precision', 2)\n",
    "for item in grafico.patches:\n",
    "    grafico.annotate(\n",
    "                     item.get_height(),\n",
    "                     (item.get_x() + item.get_width() /2, item.get_height()),\n",
    "                      ha='center',\n",
    "                      rotation=90,\n",
    "                      va='baseline',\n",
    "                      fontsize=13,\n",
    "                      color='black',\n",
    "                      xytext=(0, 0),\n",
    "                      textcoords='offset points',\n",
    "                      )"
   ]
  },
  {
   "cell_type": "markdown",
   "id": "f75ae518",
   "metadata": {},
   "source": [
    "Podemos verificar que existem valores destoantes na amostra\n",
    ">Principais possibilidades:\n",
    "* Inconssistência nos dados\n",
    "* Maquiagem nos dados\n",
    "* Grande váriação nos dados por algum motivo ainda desconhecido."
   ]
  },
  {
   "cell_type": "code",
   "execution_count": null,
   "id": "3078f494",
   "metadata": {},
   "outputs": [],
   "source": []
  },
  {
   "cell_type": "code",
   "execution_count": null,
   "id": "8a63da6e",
   "metadata": {},
   "outputs": [],
   "source": []
  },
  {
   "cell_type": "markdown",
   "id": "67d366d9",
   "metadata": {},
   "source": [
    "Podemos observar que estão faltando os valores de 2020, 2021 então vamos buscar em outras fontes."
   ]
  },
  {
   "cell_type": "code",
   "execution_count": null,
   "id": "173de457",
   "metadata": {},
   "outputs": [],
   "source": []
  },
  {
   "cell_type": "markdown",
   "id": "394a51db",
   "metadata": {},
   "source": [
    ">O Estatuto do Desarmamento é uma política de controle de armas que entrou em vigor no Brasil por meio de lei no dia 22 de dezembro de 2003. Ele foi sancionado com o objetivo de reduzir a circulação de armas e estabelecer penas mais rigorosas para crimes. [Fonte](https://www.brasilparalelo.com.br/artigos/desarmamento-no-brasil#:~:text=O%20Estatuto%20do%20Desarmamento%20%C3%A9,mais%20rigorosas%20para%20crimes%20relacionados.)\n",
    "* Logo de 2004 até 2019 houveram políticas de desarmamento\n",
    "\n",
    ">Em 2019 Jair Bolsonaro assumiu e já em janeiro, assinou decreto que facilitou a compra de armas. [Fonte](https://g1.globo.com/politica/noticia/2019/01/15/bolsonaro-assina-decreto-que-facilita-posse-de-armas.ghtml)\n",
    "* Logo de 2019 até 2022 houveram políticas favoráveis ao armamento. [fonte](https://g1.globo.com/politica/noticia/2019/01/15/bolsonaro-assina-decreto-que-facilita-posse-de-armas.ghtml)"
   ]
  },
  {
   "cell_type": "markdown",
   "id": "89d848cb",
   "metadata": {},
   "source": []
  },
  {
   "cell_type": "markdown",
   "id": "9fa329c3",
   "metadata": {},
   "source": [
    "<hr>"
   ]
  },
  {
   "cell_type": "markdown",
   "id": "b7dd9017",
   "metadata": {},
   "source": []
  },
  {
   "cell_type": "code",
   "execution_count": null,
   "id": "65c6a029",
   "metadata": {},
   "outputs": [],
   "source": [
    "\n",
    "plt.subplots(figsize=(16, 8))\n",
    "x = df_tx_obitos_BR['período']\n",
    "y = df_tx_obitos_BR['valor']\n",
    "plt.xticks(rotation=90)\n",
    "plt.title('Taxa de homicídios a cada 100k habitantes Brasil')\n",
    "\n",
    "\n",
    "cores = []\n",
    "for ano in df_tx_obitos_BR['período']: \n",
    "    if ano <= 2005:\n",
    "       cores.append('green')\n",
    "    elif ano <= 2018:\n",
    "        cores.append('red')\n",
    "    else:\n",
    "        cores.append('green')\n",
    "print(cores)\n",
    "\n",
    "\n",
    "\n",
    "grafico = sns.barplot(x=x, y=y, palette=cores)\n",
    "pd.set_option('display.precision', 2)\n",
    "for item in grafico.patches:\n",
    "    grafico.annotate(\n",
    "                     item.get_height(),\n",
    "                     (item.get_x() + item.get_width() /2, item.get_height()),\n",
    "                      ha='center',\n",
    "                      rotation=90,\n",
    "                      va='baseline',\n",
    "                      fontsize=13,\n",
    "                      color='white',\n",
    "                      xytext=(0, -33),\n",
    "                      textcoords='offset points',\n",
    "                      )\n",
    "\n",
    "\n",
    "\n"
   ]
  },
  {
   "cell_type": "code",
   "execution_count": null,
   "metadata": {},
   "outputs": [],
   "source": []
  },
  {
   "cell_type": "code",
   "execution_count": null,
   "id": "02c6946b",
   "metadata": {},
   "outputs": [],
   "source": []
  },
  {
   "cell_type": "code",
   "execution_count": null,
   "metadata": {},
   "outputs": [],
   "source": []
  },
  {
   "cell_type": "code",
   "execution_count": null,
   "id": "eefc279d",
   "metadata": {},
   "outputs": [],
   "source": []
  },
  {
   "cell_type": "code",
   "execution_count": null,
   "id": "49253dee",
   "metadata": {},
   "outputs": [],
   "source": []
  },
  {
   "cell_type": "code",
   "execution_count": null,
   "id": "80215f06",
   "metadata": {},
   "outputs": [],
   "source": []
  },
  {
   "cell_type": "markdown",
   "id": "9634fd11",
   "metadata": {},
   "source": [
    "<hr>\n",
    "RASCUNHO:"
   ]
  },
  {
   "cell_type": "markdown",
   "id": "9c8a54a2",
   "metadata": {},
   "source": [
    "\n",
    "\n",
    "* Tem que entrar aqui também numero de portes de armas\n",
    "* Numero de feminicidios\n",
    "* Numero de assaltos a mao armada\n",
    "* Base de dados da policia federal boa com registro de armas de fogo e ocorrencias\n",
    "https://servicos.dpf.gov.br/dadosabertos/SINARM/"
   ]
  },
  {
   "cell_type": "markdown",
   "id": "344cb0ee",
   "metadata": {},
   "source": [
    "1ª Base de dados https://www.ipea.gov.br/atlasviolencia/filtros-series (Atlas da Violência)\n",
    "Séria que retrata quantidade de homicídios por arma de fogos ano-a-ano no Brasil.\n",
    "-> Nome do arquivo 'homicidios-por-armas-de-fogo.csv'\n",
    "-> A série tinha dados apenas até 2019 , os dados foram complementados com estas fontes:\n",
    "https://www.bbc.com/portuguese/brasil-57844477#:~:text=Aumento%20de%20homic%C3%ADdios,provocados%20por%20armas%20de%20fogo.\n",
    "https://g1.globo.com/monitor-da-violencia/noticia/2022/02/21/numero-de-assassinatos-cai-7percent-no-brasil-em-2021-e-e-o-menor-da-serie-historica.ghtml\n"
   ]
  },
  {
   "cell_type": "code",
   "execution_count": null,
   "id": "78736fd3",
   "metadata": {},
   "outputs": [],
   "source": [
    "# Importando bibliotecas e configurando gráficos\n",
    "import pandas as pd\n",
    "import plotly.express as px\n",
    "%matplotlib inline"
   ]
  },
  {
   "cell_type": "code",
   "execution_count": null,
   "id": "798e45ef",
   "metadata": {},
   "outputs": [],
   "source": [
    "# Criando DataFrames\n",
    "df_mortes = pd.read_csv('homicidios-por-armas-de-fogo.csv', sep=';', encoding='utf8', usecols=[2, 3])\n",
    "display(df_mortes)"
   ]
  },
  {
   "cell_type": "code",
   "execution_count": null,
   "id": "08dec398",
   "metadata": {},
   "outputs": [],
   "source": [
    "# Cálculando a evolução populacional brasileira ano-a-ano\n",
    "# Fontes IBGE dados populacionais nos anos de  80, 91 , 96 e 2010, quando ocorreram SENSOS\n",
    "# https://brasilemsintese.ibge.gov.br/populacao/populacao-total-1980-2010.html\n",
    "# Fonte Banco mundial / United Nations Population Division https://data.worldbank.org/country/brazil\n",
    "# Fonte Population Pyramid https://www.populationpyramid.net/pt/brasil/2022/\n",
    "# No final foram descartadas as médias oscilantes e consideradas apenas a da Population Pyramid para maior acuracidade\n",
    "\n",
    "# Puxando DataFrame que geramos no Excel com as médias das 3 fontes.\n",
    "df_pop = pd.read_excel('populacaobrasileira.xlsx')\n",
    "\n",
    "# Setando precisão de cálculo para 2 casa flutuantes\n",
    "pd.set_option('display.precision', 2)\n",
    "display(df_pop)\n"
   ]
  },
  {
   "cell_type": "code",
   "execution_count": null,
   "id": "26c5d962",
   "metadata": {},
   "outputs": [],
   "source": [
    "# Adcionando coluna referente a população em milhões no DataFrame de mortes por arma de fogo \n",
    "df_mortes = df_mortes.assign(pop_mi=0)\n",
    "df_mortes['pop_mi'] = df_pop['Milhoes'].copy()\n",
    "display(df_mortes)\n",
    "\n",
    "# o Ano de 2019 estava distoante da série, possivelmente foi fraudado pelo governo, ao buscar outras fontes\n",
    "# corrigi o valor correto \n",
    "# fonte https://www.poder360.com.br/brasil/numero-de-assassinatos-no-brasil-cai-19-em-2019-no-total-sao-41-635-mortes/#:~:text=O%20n%C3%BAmero%20de%20assassinatos%20no,2018%20%E2%80%93quase%2010.000%20a%20menos.\n",
    "# fonte https://noticias.uol.com.br/confere/ultimas-noticias/2021/10/07/governo-federal-distorce-dados-sobre-violencia-para-defender-acesso-a-armas.htm\n"
   ]
  },
  {
   "cell_type": "code",
   "execution_count": null,
   "id": "2c8d620a",
   "metadata": {},
   "outputs": [],
   "source": [
    "# Cálculando indíce dividindo numero de mortes por arma de fogo pela população no ano\n",
    "df_mortes = df_mortes.assign(indice=0)\n",
    "c = 0\n",
    "for indice in df_mortes['indice']:\n",
    "    val = ((df_mortes['valor'][c]) / (df_mortes['pop_mi'][c]))\n",
    "    df_mortes['indice'][c] = val\n",
    "    c += 1\n",
    "display(df_mortes)"
   ]
  },
  {
   "cell_type": "markdown",
   "id": "771b0942",
   "metadata": {},
   "source": [
    "# Com base neste indice vamos cálcular o aumento ou diminuição nos homicidíos por arma de fogo em relação a populção geral no ano\n"
   ]
  },
  {
   "cell_type": "code",
   "execution_count": null,
   "id": "febdfe9f",
   "metadata": {},
   "outputs": [],
   "source": [
    "# Arrumando títulos do DataFrame\n",
    "df_mortes.columns=['Ano', 'Mortes', 'Pop_mi', 'Indice']\n",
    "df_mortes.head(1)"
   ]
  },
  {
   "cell_type": "code",
   "execution_count": null,
   "id": "e15e3472",
   "metadata": {},
   "outputs": [],
   "source": [
    "import plotly.express as px\n",
    "gf = px.line(df_mortes, x= 'Ano', y='Indice', title='Indice de mortes por arma de fogo ano-a-ano Brasil 1998 - 2019')\n",
    "display(gf)\n"
   ]
  },
  {
   "cell_type": "code",
   "execution_count": null,
   "id": "7f6ef818",
   "metadata": {},
   "outputs": [],
   "source": []
  }
 ],
 "metadata": {
  "interpreter": {
   "hash": "5d11380547bba1e6c4b0ab7b7614350493a6d4caf256d9be4e363829d8f5c452"
  },
  "kernelspec": {
   "display_name": "Python 3.10.4 64-bit",
   "language": "python",
   "name": "python3"
  },
  "language_info": {
   "codemirror_mode": {
    "name": "ipython",
    "version": 3
   },
   "file_extension": ".py",
   "mimetype": "text/x-python",
   "name": "python",
   "nbconvert_exporter": "python",
   "pygments_lexer": "ipython3",
   "version": "3.10.4"
  }
 },
 "nbformat": 4,
 "nbformat_minor": 5
}
