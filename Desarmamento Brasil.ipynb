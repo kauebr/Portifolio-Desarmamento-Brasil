{
 "cells": [
  {
   "cell_type": "markdown",
   "id": "ed45ca77",
   "metadata": {},
   "source": [
    "<center>\n",
    "    <img src=\"https://i.ibb.co/wQg0qzq/Banner.png\" width=\"900\" alt=\"KCode Banner\"  />\n",
    "</center>\n",
    "<a href=\"https://www.linkedin.com/in/kauebr/\"><img src=\"https://cdn-icons-png.flaticon.com/512/174/174857.png\" width=\"30\" ></a> <a href=\"mailto: kauemandarino@gmail.com\"><img src=\"https://cdn-icons-png.flaticon.com/512/5968/5968534.png\" width=\"30\" ></a><a href=\"\n",
    "https://api.whatsapp.com/send?phone=5541991835800&text=Oi\"> <img src=\"https://imagepng.org/wp-content/uploads/2017/08/whatsapp-icone-1.png\" width=\"30\" ></a><a href=\"https://github.com/kauebr/\"><img src=\"https://github.githubassets.com/images/modules/logos_page/Octocat.png\" width=\"30\" ></a>\n",
    "\n",
    "<HR>"
   ]
  },
  {
   "cell_type": "markdown",
   "id": "bda1f66e",
   "metadata": {},
   "source": [
    "> Curitiba 2022\n",
    "\n",
    "> Em Criação... \n",
    "\n",
    "// rascunho\n",
    "quem proibiu as armas no brasil:"
   ]
  },
  {
   "cell_type": "markdown",
   "id": "6ae4aa67",
   "metadata": {},
   "source": [
    "# Desarmamento Brasil\n",
    "\n"
   ]
  },
  {
   "cell_type": "markdown",
   "id": "19d57f53",
   "metadata": {},
   "source": [
    "# <h2 id=\"1\">1. Contexto</h2>"
   ]
  },
  {
   "cell_type": "markdown",
   "id": "867a9edd",
   "metadata": {},
   "source": [
    "Após séculos de livre circulação de armas desde o Brasil colônia, `na década de 90`(Governo Fernando Henrique Cardoso) `o Brasil já tinha sua própria indústria bélica`, em 1991 o [projeto de lei 2246](https://www.camara.leg.br/proposicoesWeb/fichadetramitacao?idProposicao=201408) de `autoriade Eduardo Jorge(PT-SP)` visava limitar a circulução de armas no território nacional, através da proibição do porte de armas em território nacional, exceto algumas exceções como as forças armadas. No dia 23 de\n",
    "outubro de `2005(Governo Lula)`, o povo brasileiro foi chamado às urnas, através de um [referendo popular](https://www.youtube.com/watch?v=6sGADvxsEIY), a população foi convidada à dar sua opinião sobre a proibição do comércio de armas de fogo e munições no país, aonde a `maioria(63%) votou a favor do comércio de armas`, apesar da decisão popular favorável ao comercio, o governo de `esquerda` realizou alteração no art. 35 do estatuto do desarmamento (Lei nº 10.826/2003) e `tornou proibida a comercialização de armas de fogo` e munição em todo o território nacional, salvo para as entidades previstas no art. 6º do estatuto. `Comprar e portar armas no Brasil por meios legais ficou praticamente impossível`. Em 5 anos, de 2008 até 2012, a polícia federal autorizou a compra de apenas 3.336 armas por civis em todo o país, a população estimada do Brasil era na época de 194 mi. de habitantes. Em 2014 a campanha de desarmamento já havia recolhido quase 650 mil armas de circulação.\n",
    "Em `2018` O militar reformado `Jair Bolsonaro foi eleito` o 38.º presidente do Brasil com 55,13% dos votos válidos, no segundo turno das eleições presidenciais, um das principais `prioridades de sua campanha`, foi a `liberação do comércio de armas`, sendo inclusive `seu símbolo de campanha uma \"arminha\"` com a mão. Eleito a Bolsonaro publicou mais de 30 decretos e atos normativos desde janeiro de `2019` para facilitar o `acesso às armas`. Embora muitos ainda estejam judicializados, pois os processos enfrentaram [resistência no senado](https://www12.senado.leg.br/noticias/materias/2022/2021/07/23/decretos-pro-armas-de-bolsonaro-enfrentam-resistencia-no-senado), a intenção de aumentar o `acesso ao armamento` ao cidadão comum foi atingida.\n",
    "\n",
    "Neste contexto, vale ressaltar, que durante o advento das redes sociais, houve uma `polarização política, esquerda x direita`, no Brasil, aonde a população elegeu um lado e vimos surgir muitos discursos de ódio, tanto da direita pela esquerda quanto da esquerda pela direita. Esta polarização tornou muito rara uma `visão analítica de cenários`, sendo comum ante a realidade dos fatos ser posto um discurso polarizado de ódio, em que apenas se discorda do outro lado, sem uma análise real dos fatos e consequências em si. Este estudo é uma análise imparcial, `vamos nos basear em dados`, para que cheguemos a uma `resposta dos impactos das políticas armamentistas durante os anos`, e que sejam gerados insights e informações valiosas para auxiliar a tomada de decisões futuras, prevendo as tendências e consequências de cada política, analiticamente, `sem que se defenda um partido ou um viés político`.\n",
    "\n",
    "Nesse contexto este estudo deseja analisar com base em dados qual foi o impacto da rigidez e do afrouxamento nas políticas\n",
    "de desarmamento do Brasil em relação à violência por armas de fogo.\n",
    "\n"
   ]
  },
  {
   "cell_type": "markdown",
   "id": "ad322afc",
   "metadata": {},
   "source": [
    "# <h1>Índice</h1>\n",
    "\n",
    "<div class=\"alert alert-block alert-info\" style=\"margin-top: 20px\">\n",
    "    <ol>\n",
    "        <li><a href=#1>Contexto</a></li>\n",
    "        <li><a href=#2>Objetivo Geral</a></li>\n",
    "        <li><a href=#3>Objetivos Específicos</a></li>\n",
    "        <li><a href=#4>Mineração de dados</a></li>\n",
    "    </ol>\n",
    "</div>\n",
    "<br>\n",
    "<hr>"
   ]
  },
  {
   "cell_type": "markdown",
   "id": "2894d85f",
   "metadata": {},
   "source": [
    "# <h2 id=\"2\">2. Objetivo Geral</h2>\n",
    "\n",
    "  "
   ]
  },
  {
   "cell_type": "markdown",
   "id": "90224172",
   "metadata": {},
   "source": [
    "* Mapear a violência com armas de fogo no Brasil e sua relação com as políticas aramentistas do país ao longo dos anos, gerando assim arcabouço de iformações valiosas para a gestão pública na tomada de descisões mais inteligentes, visando uma redução na violência. Elaborar uma análise, sem viés político, sobre os impactos das políticas armamentistas no Brasil, desde a década de 90 até os dias até os dias de hoje. \n",
    "\n",
    "`Deste modo espera-se gerar insights que vão auxiliar o país na diminuição da violência por armas de fogo`\n",
    "<hr>"
   ]
  },
  {
   "cell_type": "markdown",
   "id": "f281dbf4",
   "metadata": {},
   "source": [
    "# <h2 id=\"3\">3. Objetivos Específicos</h2>\n"
   ]
  },
  {
   "cell_type": "markdown",
   "metadata": {},
   "source": [
    "* Minerar dados de fontes diversas para crianção de um conjunto de dados que dará origem ao nosso DataFrame;\n",
    "* Modelar os dados;\n",
    "* Analisar os dados;\n",
    "* Aplicar algoritmos de aprendizado de maquina para geração de predições;\n",
    "* Plotar apresentações gráficas e descritivas dos indicadores e insights para facilitar o entendimento; \n",
    "* Criar apresentação das informações em ferramenta externa (PowerBi ou Tableau)\n",
    "* Divulgar o estudo, de forma automática para os e-mails dos gabinetes de todos os deputados federais e senadores do Brasil.\n",
    "* Publicar em meios da comunicação - divulgar os resultados para a sociedade.\n",
    "<hr>"
   ]
  },
  {
   "cell_type": "markdown",
   "metadata": {},
   "source": [
    "# <h2 id=\"2\">4. Mineração de Dados</h2>\n"
   ]
  },
  {
   "cell_type": "markdown",
   "id": "c5e3696c",
   "metadata": {},
   "source": [
    "* Nesta fase vamos trazer à nossa análise dados potencialmente pertinentes;\n",
    "* Posteriormente vamos organiza-los\n",
    ">// tem que por o numero de portes(registros)"
   ]
  },
  {
   "cell_type": "markdown",
   "id": "fcbacd5f",
   "metadata": {},
   "source": [
    "Importando as bibliotecas pertinentes"
   ]
  },
  {
   "cell_type": "code",
   "execution_count": 3,
   "id": "2e8f72cf",
   "metadata": {},
   "outputs": [
    {
     "ename": "AttributeError",
     "evalue": "module 'scipy' has no attribute '_lib'",
     "output_type": "error",
     "traceback": [
      "\u001b[1;31m---------------------------------------------------------------------------\u001b[0m",
      "\u001b[1;31mAttributeError\u001b[0m                            Traceback (most recent call last)",
      "\u001b[1;32mc:\\Users\\manda\\OneDrive\\Documents\\GitHub\\Desarmamento-Brasil\\Desarmamento Brasil.ipynb Cell 14'\u001b[0m in \u001b[0;36m<cell line: 4>\u001b[1;34m()\u001b[0m\n\u001b[0;32m      <a href='vscode-notebook-cell:/c%3A/Users/manda/OneDrive/Documents/GitHub/Desarmamento-Brasil/Desarmamento%20Brasil.ipynb#ch0000013?line=1'>2</a>\u001b[0m \u001b[39mimport\u001b[39;00m \u001b[39mplotly\u001b[39;00m\u001b[39m.\u001b[39;00m\u001b[39mexpress\u001b[39;00m \u001b[39mas\u001b[39;00m \u001b[39mpx\u001b[39;00m\n\u001b[0;32m      <a href='vscode-notebook-cell:/c%3A/Users/manda/OneDrive/Documents/GitHub/Desarmamento-Brasil/Desarmamento%20Brasil.ipynb#ch0000013?line=2'>3</a>\u001b[0m \u001b[39mimport\u001b[39;00m \u001b[39mmatplotlib\u001b[39;00m\u001b[39m.\u001b[39;00m\u001b[39mpyplot\u001b[39;00m \u001b[39mas\u001b[39;00m \u001b[39mplt\u001b[39;00m\n\u001b[1;32m----> <a href='vscode-notebook-cell:/c%3A/Users/manda/OneDrive/Documents/GitHub/Desarmamento-Brasil/Desarmamento%20Brasil.ipynb#ch0000013?line=3'>4</a>\u001b[0m \u001b[39mimport\u001b[39;00m \u001b[39mseaborn\u001b[39;00m \u001b[39mas\u001b[39;00m \u001b[39msns\u001b[39;00m\n\u001b[0;32m      <a href='vscode-notebook-cell:/c%3A/Users/manda/OneDrive/Documents/GitHub/Desarmamento-Brasil/Desarmamento%20Brasil.ipynb#ch0000013?line=4'>5</a>\u001b[0m \u001b[39mimport\u001b[39;00m \u001b[39mnumpy\u001b[39;00m \u001b[39mas\u001b[39;00m \u001b[39mnp\u001b[39;00m\n\u001b[0;32m      <a href='vscode-notebook-cell:/c%3A/Users/manda/OneDrive/Documents/GitHub/Desarmamento-Brasil/Desarmamento%20Brasil.ipynb#ch0000013?line=5'>6</a>\u001b[0m get_ipython()\u001b[39m.\u001b[39mrun_line_magic(\u001b[39m'\u001b[39m\u001b[39mmatplotlib\u001b[39m\u001b[39m'\u001b[39m, \u001b[39m'\u001b[39m\u001b[39minline\u001b[39m\u001b[39m'\u001b[39m)\n",
      "File \u001b[1;32mc:\\Users\\manda\\AppData\\Local\\Programs\\Python\\Python310\\lib\\site-packages\\seaborn\\__init__.py:2\u001b[0m, in \u001b[0;36m<module>\u001b[1;34m\u001b[0m\n\u001b[0;32m      <a href='file:///c%3A/Users/manda/AppData/Local/Programs/Python/Python310/lib/site-packages/seaborn/__init__.py?line=0'>1</a>\u001b[0m \u001b[39m# Import seaborn objects\u001b[39;00m\n\u001b[1;32m----> <a href='file:///c%3A/Users/manda/AppData/Local/Programs/Python/Python310/lib/site-packages/seaborn/__init__.py?line=1'>2</a>\u001b[0m \u001b[39mfrom\u001b[39;00m \u001b[39m.\u001b[39;00m\u001b[39mrcmod\u001b[39;00m \u001b[39mimport\u001b[39;00m \u001b[39m*\u001b[39m  \u001b[39m# noqa: F401,F403\u001b[39;00m\n\u001b[0;32m      <a href='file:///c%3A/Users/manda/AppData/Local/Programs/Python/Python310/lib/site-packages/seaborn/__init__.py?line=2'>3</a>\u001b[0m \u001b[39mfrom\u001b[39;00m \u001b[39m.\u001b[39;00m\u001b[39mutils\u001b[39;00m \u001b[39mimport\u001b[39;00m \u001b[39m*\u001b[39m  \u001b[39m# noqa: F401,F403\u001b[39;00m\n\u001b[0;32m      <a href='file:///c%3A/Users/manda/AppData/Local/Programs/Python/Python310/lib/site-packages/seaborn/__init__.py?line=3'>4</a>\u001b[0m \u001b[39mfrom\u001b[39;00m \u001b[39m.\u001b[39;00m\u001b[39mpalettes\u001b[39;00m \u001b[39mimport\u001b[39;00m \u001b[39m*\u001b[39m  \u001b[39m# noqa: F401,F403\u001b[39;00m\n",
      "File \u001b[1;32mc:\\Users\\manda\\AppData\\Local\\Programs\\Python\\Python310\\lib\\site-packages\\seaborn\\rcmod.py:7\u001b[0m, in \u001b[0;36m<module>\u001b[1;34m\u001b[0m\n\u001b[0;32m      <a href='file:///c%3A/Users/manda/AppData/Local/Programs/Python/Python310/lib/site-packages/seaborn/rcmod.py?line=4'>5</a>\u001b[0m \u001b[39mimport\u001b[39;00m \u001b[39mmatplotlib\u001b[39;00m \u001b[39mas\u001b[39;00m \u001b[39mmpl\u001b[39;00m\n\u001b[0;32m      <a href='file:///c%3A/Users/manda/AppData/Local/Programs/Python/Python310/lib/site-packages/seaborn/rcmod.py?line=5'>6</a>\u001b[0m \u001b[39mfrom\u001b[39;00m \u001b[39mcycler\u001b[39;00m \u001b[39mimport\u001b[39;00m cycler\n\u001b[1;32m----> <a href='file:///c%3A/Users/manda/AppData/Local/Programs/Python/Python310/lib/site-packages/seaborn/rcmod.py?line=6'>7</a>\u001b[0m \u001b[39mfrom\u001b[39;00m \u001b[39m.\u001b[39;00m \u001b[39mimport\u001b[39;00m palettes\n\u001b[0;32m     <a href='file:///c%3A/Users/manda/AppData/Local/Programs/Python/Python310/lib/site-packages/seaborn/rcmod.py?line=9'>10</a>\u001b[0m __all__ \u001b[39m=\u001b[39m [\u001b[39m\"\u001b[39m\u001b[39mset_theme\u001b[39m\u001b[39m\"\u001b[39m, \u001b[39m\"\u001b[39m\u001b[39mset\u001b[39m\u001b[39m\"\u001b[39m, \u001b[39m\"\u001b[39m\u001b[39mreset_defaults\u001b[39m\u001b[39m\"\u001b[39m, \u001b[39m\"\u001b[39m\u001b[39mreset_orig\u001b[39m\u001b[39m\"\u001b[39m,\n\u001b[0;32m     <a href='file:///c%3A/Users/manda/AppData/Local/Programs/Python/Python310/lib/site-packages/seaborn/rcmod.py?line=10'>11</a>\u001b[0m            \u001b[39m\"\u001b[39m\u001b[39maxes_style\u001b[39m\u001b[39m\"\u001b[39m, \u001b[39m\"\u001b[39m\u001b[39mset_style\u001b[39m\u001b[39m\"\u001b[39m, \u001b[39m\"\u001b[39m\u001b[39mplotting_context\u001b[39m\u001b[39m\"\u001b[39m, \u001b[39m\"\u001b[39m\u001b[39mset_context\u001b[39m\u001b[39m\"\u001b[39m,\n\u001b[0;32m     <a href='file:///c%3A/Users/manda/AppData/Local/Programs/Python/Python310/lib/site-packages/seaborn/rcmod.py?line=11'>12</a>\u001b[0m            \u001b[39m\"\u001b[39m\u001b[39mset_palette\u001b[39m\u001b[39m\"\u001b[39m]\n\u001b[0;32m     <a href='file:///c%3A/Users/manda/AppData/Local/Programs/Python/Python310/lib/site-packages/seaborn/rcmod.py?line=14'>15</a>\u001b[0m _style_keys \u001b[39m=\u001b[39m [\n\u001b[0;32m     <a href='file:///c%3A/Users/manda/AppData/Local/Programs/Python/Python310/lib/site-packages/seaborn/rcmod.py?line=15'>16</a>\u001b[0m \n\u001b[0;32m     <a href='file:///c%3A/Users/manda/AppData/Local/Programs/Python/Python310/lib/site-packages/seaborn/rcmod.py?line=16'>17</a>\u001b[0m     \u001b[39m\"\u001b[39m\u001b[39maxes.facecolor\u001b[39m\u001b[39m\"\u001b[39m,\n\u001b[1;32m   (...)\u001b[0m\n\u001b[0;32m     <a href='file:///c%3A/Users/manda/AppData/Local/Programs/Python/Python310/lib/site-packages/seaborn/rcmod.py?line=51'>52</a>\u001b[0m \n\u001b[0;32m     <a href='file:///c%3A/Users/manda/AppData/Local/Programs/Python/Python310/lib/site-packages/seaborn/rcmod.py?line=52'>53</a>\u001b[0m ]\n",
      "File \u001b[1;32mc:\\Users\\manda\\AppData\\Local\\Programs\\Python\\Python310\\lib\\site-packages\\seaborn\\palettes.py:9\u001b[0m, in \u001b[0;36m<module>\u001b[1;34m\u001b[0m\n\u001b[0;32m      <a href='file:///c%3A/Users/manda/AppData/Local/Programs/Python/Python310/lib/site-packages/seaborn/palettes.py?line=4'>5</a>\u001b[0m \u001b[39mimport\u001b[39;00m \u001b[39mmatplotlib\u001b[39;00m \u001b[39mas\u001b[39;00m \u001b[39mmpl\u001b[39;00m\n\u001b[0;32m      <a href='file:///c%3A/Users/manda/AppData/Local/Programs/Python/Python310/lib/site-packages/seaborn/palettes.py?line=6'>7</a>\u001b[0m \u001b[39mfrom\u001b[39;00m \u001b[39m.\u001b[39;00m\u001b[39mexternal\u001b[39;00m \u001b[39mimport\u001b[39;00m husl\n\u001b[1;32m----> <a href='file:///c%3A/Users/manda/AppData/Local/Programs/Python/Python310/lib/site-packages/seaborn/palettes.py?line=8'>9</a>\u001b[0m \u001b[39mfrom\u001b[39;00m \u001b[39m.\u001b[39;00m\u001b[39mutils\u001b[39;00m \u001b[39mimport\u001b[39;00m desaturate, get_color_cycle\n\u001b[0;32m     <a href='file:///c%3A/Users/manda/AppData/Local/Programs/Python/Python310/lib/site-packages/seaborn/palettes.py?line=9'>10</a>\u001b[0m \u001b[39mfrom\u001b[39;00m \u001b[39m.\u001b[39;00m\u001b[39mcolors\u001b[39;00m \u001b[39mimport\u001b[39;00m xkcd_rgb, crayons\n\u001b[0;32m     <a href='file:///c%3A/Users/manda/AppData/Local/Programs/Python/Python310/lib/site-packages/seaborn/palettes.py?line=12'>13</a>\u001b[0m __all__ \u001b[39m=\u001b[39m [\u001b[39m\"\u001b[39m\u001b[39mcolor_palette\u001b[39m\u001b[39m\"\u001b[39m, \u001b[39m\"\u001b[39m\u001b[39mhls_palette\u001b[39m\u001b[39m\"\u001b[39m, \u001b[39m\"\u001b[39m\u001b[39mhusl_palette\u001b[39m\u001b[39m\"\u001b[39m, \u001b[39m\"\u001b[39m\u001b[39mmpl_palette\u001b[39m\u001b[39m\"\u001b[39m,\n\u001b[0;32m     <a href='file:///c%3A/Users/manda/AppData/Local/Programs/Python/Python310/lib/site-packages/seaborn/palettes.py?line=13'>14</a>\u001b[0m            \u001b[39m\"\u001b[39m\u001b[39mdark_palette\u001b[39m\u001b[39m\"\u001b[39m, \u001b[39m\"\u001b[39m\u001b[39mlight_palette\u001b[39m\u001b[39m\"\u001b[39m, \u001b[39m\"\u001b[39m\u001b[39mdiverging_palette\u001b[39m\u001b[39m\"\u001b[39m,\n\u001b[0;32m     <a href='file:///c%3A/Users/manda/AppData/Local/Programs/Python/Python310/lib/site-packages/seaborn/palettes.py?line=14'>15</a>\u001b[0m            \u001b[39m\"\u001b[39m\u001b[39mblend_palette\u001b[39m\u001b[39m\"\u001b[39m, \u001b[39m\"\u001b[39m\u001b[39mxkcd_palette\u001b[39m\u001b[39m\"\u001b[39m, \u001b[39m\"\u001b[39m\u001b[39mcrayon_palette\u001b[39m\u001b[39m\"\u001b[39m,\n\u001b[0;32m     <a href='file:///c%3A/Users/manda/AppData/Local/Programs/Python/Python310/lib/site-packages/seaborn/palettes.py?line=15'>16</a>\u001b[0m            \u001b[39m\"\u001b[39m\u001b[39mcubehelix_palette\u001b[39m\u001b[39m\"\u001b[39m, \u001b[39m\"\u001b[39m\u001b[39mset_color_codes\u001b[39m\u001b[39m\"\u001b[39m]\n",
      "File \u001b[1;32mc:\\Users\\manda\\AppData\\Local\\Programs\\Python\\Python310\\lib\\site-packages\\seaborn\\utils.py:10\u001b[0m, in \u001b[0;36m<module>\u001b[1;34m\u001b[0m\n\u001b[0;32m      <a href='file:///c%3A/Users/manda/AppData/Local/Programs/Python/Python310/lib/site-packages/seaborn/utils.py?line=6'>7</a>\u001b[0m \u001b[39mfrom\u001b[39;00m \u001b[39murllib\u001b[39;00m\u001b[39m.\u001b[39;00m\u001b[39mrequest\u001b[39;00m \u001b[39mimport\u001b[39;00m urlopen, urlretrieve\n\u001b[0;32m      <a href='file:///c%3A/Users/manda/AppData/Local/Programs/Python/Python310/lib/site-packages/seaborn/utils.py?line=8'>9</a>\u001b[0m \u001b[39mimport\u001b[39;00m \u001b[39mnumpy\u001b[39;00m \u001b[39mas\u001b[39;00m \u001b[39mnp\u001b[39;00m\n\u001b[1;32m---> <a href='file:///c%3A/Users/manda/AppData/Local/Programs/Python/Python310/lib/site-packages/seaborn/utils.py?line=9'>10</a>\u001b[0m \u001b[39mfrom\u001b[39;00m \u001b[39mscipy\u001b[39;00m \u001b[39mimport\u001b[39;00m stats\n\u001b[0;32m     <a href='file:///c%3A/Users/manda/AppData/Local/Programs/Python/Python310/lib/site-packages/seaborn/utils.py?line=10'>11</a>\u001b[0m \u001b[39mimport\u001b[39;00m \u001b[39mpandas\u001b[39;00m \u001b[39mas\u001b[39;00m \u001b[39mpd\u001b[39;00m\n\u001b[0;32m     <a href='file:///c%3A/Users/manda/AppData/Local/Programs/Python/Python310/lib/site-packages/seaborn/utils.py?line=11'>12</a>\u001b[0m \u001b[39mimport\u001b[39;00m \u001b[39mmatplotlib\u001b[39;00m \u001b[39mas\u001b[39;00m \u001b[39mmpl\u001b[39;00m\n",
      "File \u001b[1;32mc:\\Users\\manda\\AppData\\Local\\Programs\\Python\\Python310\\lib\\site-packages\\scipy\\stats\\__init__.py:453\u001b[0m, in \u001b[0;36m<module>\u001b[1;34m\u001b[0m\n\u001b[0;32m      <a href='file:///c%3A/Users/manda/AppData/Local/Programs/Python/Python310/lib/site-packages/scipy/stats/__init__.py?line=0'>1</a>\u001b[0m \u001b[39m\"\"\"\u001b[39;00m\n\u001b[0;32m      <a href='file:///c%3A/Users/manda/AppData/Local/Programs/Python/Python310/lib/site-packages/scipy/stats/__init__.py?line=1'>2</a>\u001b[0m \u001b[39m.. _statsrefmanual:\u001b[39;00m\n\u001b[0;32m      <a href='file:///c%3A/Users/manda/AppData/Local/Programs/Python/Python310/lib/site-packages/scipy/stats/__init__.py?line=2'>3</a>\u001b[0m \n\u001b[1;32m   (...)\u001b[0m\n\u001b[0;32m    <a href='file:///c%3A/Users/manda/AppData/Local/Programs/Python/Python310/lib/site-packages/scipy/stats/__init__.py?line=449'>450</a>\u001b[0m \n\u001b[0;32m    <a href='file:///c%3A/Users/manda/AppData/Local/Programs/Python/Python310/lib/site-packages/scipy/stats/__init__.py?line=450'>451</a>\u001b[0m \u001b[39m\"\"\"\u001b[39;00m\n\u001b[1;32m--> <a href='file:///c%3A/Users/manda/AppData/Local/Programs/Python/Python310/lib/site-packages/scipy/stats/__init__.py?line=452'>453</a>\u001b[0m \u001b[39mfrom\u001b[39;00m \u001b[39m.\u001b[39;00m\u001b[39m_stats_py\u001b[39;00m \u001b[39mimport\u001b[39;00m \u001b[39m*\u001b[39m\n\u001b[0;32m    <a href='file:///c%3A/Users/manda/AppData/Local/Programs/Python/Python310/lib/site-packages/scipy/stats/__init__.py?line=453'>454</a>\u001b[0m \u001b[39mfrom\u001b[39;00m \u001b[39m.\u001b[39;00m\u001b[39m_variation\u001b[39;00m \u001b[39mimport\u001b[39;00m variation\n\u001b[0;32m    <a href='file:///c%3A/Users/manda/AppData/Local/Programs/Python/Python310/lib/site-packages/scipy/stats/__init__.py?line=454'>455</a>\u001b[0m \u001b[39mfrom\u001b[39;00m \u001b[39m.\u001b[39;00m\u001b[39mdistributions\u001b[39;00m \u001b[39mimport\u001b[39;00m \u001b[39m*\u001b[39m\n",
      "File \u001b[1;32mc:\\Users\\manda\\AppData\\Local\\Programs\\Python\\Python310\\lib\\site-packages\\scipy\\stats\\_stats_py.py:44\u001b[0m, in \u001b[0;36m<module>\u001b[1;34m\u001b[0m\n\u001b[0;32m     <a href='file:///c%3A/Users/manda/AppData/Local/Programs/Python/Python310/lib/site-packages/scipy/stats/_stats_py.py?line=41'>42</a>\u001b[0m \u001b[39mimport\u001b[39;00m \u001b[39mscipy\u001b[39;00m\u001b[39m.\u001b[39;00m\u001b[39mspecial\u001b[39;00m \u001b[39mas\u001b[39;00m \u001b[39mspecial\u001b[39;00m\n\u001b[0;32m     <a href='file:///c%3A/Users/manda/AppData/Local/Programs/Python/Python310/lib/site-packages/scipy/stats/_stats_py.py?line=42'>43</a>\u001b[0m \u001b[39mfrom\u001b[39;00m \u001b[39mscipy\u001b[39;00m \u001b[39mimport\u001b[39;00m linalg\n\u001b[1;32m---> <a href='file:///c%3A/Users/manda/AppData/Local/Programs/Python/Python310/lib/site-packages/scipy/stats/_stats_py.py?line=43'>44</a>\u001b[0m \u001b[39mfrom\u001b[39;00m \u001b[39m.\u001b[39;00m \u001b[39mimport\u001b[39;00m distributions\n\u001b[0;32m     <a href='file:///c%3A/Users/manda/AppData/Local/Programs/Python/Python310/lib/site-packages/scipy/stats/_stats_py.py?line=44'>45</a>\u001b[0m \u001b[39mfrom\u001b[39;00m \u001b[39m.\u001b[39;00m \u001b[39mimport\u001b[39;00m _mstats_basic \u001b[39mas\u001b[39;00m mstats_basic\n\u001b[0;32m     <a href='file:///c%3A/Users/manda/AppData/Local/Programs/Python/Python310/lib/site-packages/scipy/stats/_stats_py.py?line=45'>46</a>\u001b[0m \u001b[39mfrom\u001b[39;00m \u001b[39m.\u001b[39;00m\u001b[39m_stats_mstats_common\u001b[39;00m \u001b[39mimport\u001b[39;00m (_find_repeats, linregress, theilslopes,\n\u001b[0;32m     <a href='file:///c%3A/Users/manda/AppData/Local/Programs/Python/Python310/lib/site-packages/scipy/stats/_stats_py.py?line=46'>47</a>\u001b[0m                                    siegelslopes)\n",
      "File \u001b[1;32mc:\\Users\\manda\\AppData\\Local\\Programs\\Python\\Python310\\lib\\site-packages\\scipy\\stats\\distributions.py:8\u001b[0m, in \u001b[0;36m<module>\u001b[1;34m\u001b[0m\n\u001b[0;32m      <a href='file:///c%3A/Users/manda/AppData/Local/Programs/Python/Python310/lib/site-packages/scipy/stats/distributions.py?line=0'>1</a>\u001b[0m \u001b[39m#\u001b[39;00m\n\u001b[0;32m      <a href='file:///c%3A/Users/manda/AppData/Local/Programs/Python/Python310/lib/site-packages/scipy/stats/distributions.py?line=1'>2</a>\u001b[0m \u001b[39m# Author:  Travis Oliphant  2002-2011 with contributions from\u001b[39;00m\n\u001b[0;32m      <a href='file:///c%3A/Users/manda/AppData/Local/Programs/Python/Python310/lib/site-packages/scipy/stats/distributions.py?line=2'>3</a>\u001b[0m \u001b[39m#          SciPy Developers 2004-2011\u001b[39;00m\n\u001b[1;32m   (...)\u001b[0m\n\u001b[0;32m      <a href='file:///c%3A/Users/manda/AppData/Local/Programs/Python/Python310/lib/site-packages/scipy/stats/distributions.py?line=5'>6</a>\u001b[0m \u001b[39m#       instead of `git blame -Lxxx,+x`.\u001b[39;00m\n\u001b[0;32m      <a href='file:///c%3A/Users/manda/AppData/Local/Programs/Python/Python310/lib/site-packages/scipy/stats/distributions.py?line=6'>7</a>\u001b[0m \u001b[39m#\u001b[39;00m\n\u001b[1;32m----> <a href='file:///c%3A/Users/manda/AppData/Local/Programs/Python/Python310/lib/site-packages/scipy/stats/distributions.py?line=7'>8</a>\u001b[0m \u001b[39mfrom\u001b[39;00m \u001b[39m.\u001b[39;00m\u001b[39m_distn_infrastructure\u001b[39;00m \u001b[39mimport\u001b[39;00m (rv_discrete, rv_continuous, rv_frozen)\n\u001b[0;32m     <a href='file:///c%3A/Users/manda/AppData/Local/Programs/Python/Python310/lib/site-packages/scipy/stats/distributions.py?line=9'>10</a>\u001b[0m \u001b[39mfrom\u001b[39;00m \u001b[39m.\u001b[39;00m \u001b[39mimport\u001b[39;00m _continuous_distns\n\u001b[0;32m     <a href='file:///c%3A/Users/manda/AppData/Local/Programs/Python/Python310/lib/site-packages/scipy/stats/distributions.py?line=10'>11</a>\u001b[0m \u001b[39mfrom\u001b[39;00m \u001b[39m.\u001b[39;00m \u001b[39mimport\u001b[39;00m _discrete_distns\n",
      "File \u001b[1;32mc:\\Users\\manda\\AppData\\Local\\Programs\\Python\\Python310\\lib\\site-packages\\scipy\\stats\\_distn_infrastructure.py:24\u001b[0m, in \u001b[0;36m<module>\u001b[1;34m\u001b[0m\n\u001b[0;32m     <a href='file:///c%3A/Users/manda/AppData/Local/Programs/Python/Python310/lib/site-packages/scipy/stats/_distn_infrastructure.py?line=19'>20</a>\u001b[0m \u001b[39mfrom\u001b[39;00m \u001b[39mscipy\u001b[39;00m\u001b[39m.\u001b[39;00m\u001b[39mspecial\u001b[39;00m \u001b[39mimport\u001b[39;00m (comb, chndtr, entr, xlogy, ive)\n\u001b[0;32m     <a href='file:///c%3A/Users/manda/AppData/Local/Programs/Python/Python310/lib/site-packages/scipy/stats/_distn_infrastructure.py?line=21'>22</a>\u001b[0m \u001b[39m# for root finding for continuous distribution ppf, and max likelihood\u001b[39;00m\n\u001b[0;32m     <a href='file:///c%3A/Users/manda/AppData/Local/Programs/Python/Python310/lib/site-packages/scipy/stats/_distn_infrastructure.py?line=22'>23</a>\u001b[0m \u001b[39m# estimation\u001b[39;00m\n\u001b[1;32m---> <a href='file:///c%3A/Users/manda/AppData/Local/Programs/Python/Python310/lib/site-packages/scipy/stats/_distn_infrastructure.py?line=23'>24</a>\u001b[0m \u001b[39mfrom\u001b[39;00m \u001b[39mscipy\u001b[39;00m \u001b[39mimport\u001b[39;00m optimize\n\u001b[0;32m     <a href='file:///c%3A/Users/manda/AppData/Local/Programs/Python/Python310/lib/site-packages/scipy/stats/_distn_infrastructure.py?line=25'>26</a>\u001b[0m \u001b[39m# for functions of continuous distributions (e.g. moments, entropy, cdf)\u001b[39;00m\n\u001b[0;32m     <a href='file:///c%3A/Users/manda/AppData/Local/Programs/Python/Python310/lib/site-packages/scipy/stats/_distn_infrastructure.py?line=26'>27</a>\u001b[0m \u001b[39mfrom\u001b[39;00m \u001b[39mscipy\u001b[39;00m \u001b[39mimport\u001b[39;00m integrate\n",
      "File \u001b[1;32mc:\\Users\\manda\\AppData\\Local\\Programs\\Python\\Python310\\lib\\site-packages\\scipy\\optimize\\__init__.py:399\u001b[0m, in \u001b[0;36m<module>\u001b[1;34m\u001b[0m\n\u001b[0;32m      <a href='file:///c%3A/Users/manda/AppData/Local/Programs/Python/Python310/lib/site-packages/scipy/optimize/__init__.py?line=0'>1</a>\u001b[0m \u001b[39m\"\"\"\u001b[39;00m\n\u001b[0;32m      <a href='file:///c%3A/Users/manda/AppData/Local/Programs/Python/Python310/lib/site-packages/scipy/optimize/__init__.py?line=1'>2</a>\u001b[0m \u001b[39m=====================================================\u001b[39;00m\n\u001b[0;32m      <a href='file:///c%3A/Users/manda/AppData/Local/Programs/Python/Python310/lib/site-packages/scipy/optimize/__init__.py?line=2'>3</a>\u001b[0m \u001b[39mOptimization and root finding (:mod:`scipy.optimize`)\u001b[39;00m\n\u001b[1;32m   (...)\u001b[0m\n\u001b[0;32m    <a href='file:///c%3A/Users/manda/AppData/Local/Programs/Python/Python310/lib/site-packages/scipy/optimize/__init__.py?line=395'>396</a>\u001b[0m \n\u001b[0;32m    <a href='file:///c%3A/Users/manda/AppData/Local/Programs/Python/Python310/lib/site-packages/scipy/optimize/__init__.py?line=396'>397</a>\u001b[0m \u001b[39m\"\"\"\u001b[39;00m\n\u001b[1;32m--> <a href='file:///c%3A/Users/manda/AppData/Local/Programs/Python/Python310/lib/site-packages/scipy/optimize/__init__.py?line=398'>399</a>\u001b[0m \u001b[39mfrom\u001b[39;00m \u001b[39m.\u001b[39;00m\u001b[39m_optimize\u001b[39;00m \u001b[39mimport\u001b[39;00m \u001b[39m*\u001b[39m\n\u001b[0;32m    <a href='file:///c%3A/Users/manda/AppData/Local/Programs/Python/Python310/lib/site-packages/scipy/optimize/__init__.py?line=399'>400</a>\u001b[0m \u001b[39mfrom\u001b[39;00m \u001b[39m.\u001b[39;00m\u001b[39m_minimize\u001b[39;00m \u001b[39mimport\u001b[39;00m \u001b[39m*\u001b[39m\n\u001b[0;32m    <a href='file:///c%3A/Users/manda/AppData/Local/Programs/Python/Python310/lib/site-packages/scipy/optimize/__init__.py?line=400'>401</a>\u001b[0m \u001b[39mfrom\u001b[39;00m \u001b[39m.\u001b[39;00m\u001b[39m_root\u001b[39;00m \u001b[39mimport\u001b[39;00m \u001b[39m*\u001b[39m\n",
      "File \u001b[1;32mc:\\Users\\manda\\AppData\\Local\\Programs\\Python\\Python310\\lib\\site-packages\\scipy\\optimize\\_optimize.py:33\u001b[0m, in \u001b[0;36m<module>\u001b[1;34m\u001b[0m\n\u001b[0;32m     <a href='file:///c%3A/Users/manda/AppData/Local/Programs/Python/Python310/lib/site-packages/scipy/optimize/_optimize.py?line=29'>30</a>\u001b[0m \u001b[39mfrom\u001b[39;00m \u001b[39mnumpy\u001b[39;00m \u001b[39mimport\u001b[39;00m (atleast_1d, eye, argmin, zeros, shape, squeeze,\n\u001b[0;32m     <a href='file:///c%3A/Users/manda/AppData/Local/Programs/Python/Python310/lib/site-packages/scipy/optimize/_optimize.py?line=30'>31</a>\u001b[0m                    asarray, sqrt, Inf, asfarray)\n\u001b[0;32m     <a href='file:///c%3A/Users/manda/AppData/Local/Programs/Python/Python310/lib/site-packages/scipy/optimize/_optimize.py?line=31'>32</a>\u001b[0m \u001b[39mimport\u001b[39;00m \u001b[39mnumpy\u001b[39;00m \u001b[39mas\u001b[39;00m \u001b[39mnp\u001b[39;00m\n\u001b[1;32m---> <a href='file:///c%3A/Users/manda/AppData/Local/Programs/Python/Python310/lib/site-packages/scipy/optimize/_optimize.py?line=32'>33</a>\u001b[0m \u001b[39mfrom\u001b[39;00m \u001b[39mscipy\u001b[39;00m\u001b[39m.\u001b[39;00m\u001b[39msparse\u001b[39;00m\u001b[39m.\u001b[39;00m\u001b[39mlinalg\u001b[39;00m \u001b[39mimport\u001b[39;00m LinearOperator\n\u001b[0;32m     <a href='file:///c%3A/Users/manda/AppData/Local/Programs/Python/Python310/lib/site-packages/scipy/optimize/_optimize.py?line=33'>34</a>\u001b[0m \u001b[39mfrom\u001b[39;00m \u001b[39m.\u001b[39;00m\u001b[39m_linesearch\u001b[39;00m \u001b[39mimport\u001b[39;00m (line_search_wolfe1, line_search_wolfe2,\n\u001b[0;32m     <a href='file:///c%3A/Users/manda/AppData/Local/Programs/Python/Python310/lib/site-packages/scipy/optimize/_optimize.py?line=34'>35</a>\u001b[0m                           line_search_wolfe2 \u001b[39mas\u001b[39;00m line_search,\n\u001b[0;32m     <a href='file:///c%3A/Users/manda/AppData/Local/Programs/Python/Python310/lib/site-packages/scipy/optimize/_optimize.py?line=35'>36</a>\u001b[0m                           LineSearchWarning)\n\u001b[0;32m     <a href='file:///c%3A/Users/manda/AppData/Local/Programs/Python/Python310/lib/site-packages/scipy/optimize/_optimize.py?line=36'>37</a>\u001b[0m \u001b[39mfrom\u001b[39;00m \u001b[39m.\u001b[39;00m\u001b[39m_numdiff\u001b[39;00m \u001b[39mimport\u001b[39;00m approx_derivative\n",
      "File \u001b[1;32mc:\\Users\\manda\\AppData\\Local\\Programs\\Python\\Python310\\lib\\site-packages\\scipy\\sparse\\linalg\\__init__.py:120\u001b[0m, in \u001b[0;36m<module>\u001b[1;34m\u001b[0m\n\u001b[0;32m      <a href='file:///c%3A/Users/manda/AppData/Local/Programs/Python/Python310/lib/site-packages/scipy/sparse/linalg/__init__.py?line=0'>1</a>\u001b[0m \u001b[39m\"\"\"\u001b[39;00m\n\u001b[0;32m      <a href='file:///c%3A/Users/manda/AppData/Local/Programs/Python/Python310/lib/site-packages/scipy/sparse/linalg/__init__.py?line=1'>2</a>\u001b[0m \u001b[39mSparse linear algebra (:mod:`scipy.sparse.linalg`)\u001b[39;00m\n\u001b[0;32m      <a href='file:///c%3A/Users/manda/AppData/Local/Programs/Python/Python310/lib/site-packages/scipy/sparse/linalg/__init__.py?line=2'>3</a>\u001b[0m \u001b[39m==================================================\u001b[39;00m\n\u001b[1;32m   (...)\u001b[0m\n\u001b[0;32m    <a href='file:///c%3A/Users/manda/AppData/Local/Programs/Python/Python310/lib/site-packages/scipy/sparse/linalg/__init__.py?line=116'>117</a>\u001b[0m \n\u001b[0;32m    <a href='file:///c%3A/Users/manda/AppData/Local/Programs/Python/Python310/lib/site-packages/scipy/sparse/linalg/__init__.py?line=117'>118</a>\u001b[0m \u001b[39m\"\"\"\u001b[39;00m\n\u001b[1;32m--> <a href='file:///c%3A/Users/manda/AppData/Local/Programs/Python/Python310/lib/site-packages/scipy/sparse/linalg/__init__.py?line=119'>120</a>\u001b[0m \u001b[39mfrom\u001b[39;00m \u001b[39m.\u001b[39;00m\u001b[39m_isolve\u001b[39;00m \u001b[39mimport\u001b[39;00m \u001b[39m*\u001b[39m\n\u001b[0;32m    <a href='file:///c%3A/Users/manda/AppData/Local/Programs/Python/Python310/lib/site-packages/scipy/sparse/linalg/__init__.py?line=120'>121</a>\u001b[0m \u001b[39mfrom\u001b[39;00m \u001b[39m.\u001b[39;00m\u001b[39m_dsolve\u001b[39;00m \u001b[39mimport\u001b[39;00m \u001b[39m*\u001b[39m\n\u001b[0;32m    <a href='file:///c%3A/Users/manda/AppData/Local/Programs/Python/Python310/lib/site-packages/scipy/sparse/linalg/__init__.py?line=121'>122</a>\u001b[0m \u001b[39mfrom\u001b[39;00m \u001b[39m.\u001b[39;00m\u001b[39m_interface\u001b[39;00m \u001b[39mimport\u001b[39;00m \u001b[39m*\u001b[39m\n",
      "File \u001b[1;32mc:\\Users\\manda\\AppData\\Local\\Programs\\Python\\Python310\\lib\\site-packages\\scipy\\sparse\\linalg\\_isolve\\__init__.py:4\u001b[0m, in \u001b[0;36m<module>\u001b[1;34m\u001b[0m\n\u001b[0;32m      <a href='file:///c%3A/Users/manda/AppData/Local/Programs/Python/Python310/lib/site-packages/scipy/sparse/linalg/_isolve/__init__.py?line=0'>1</a>\u001b[0m \u001b[39m\"\u001b[39m\u001b[39mIterative Solvers for Sparse Linear Systems\u001b[39m\u001b[39m\"\u001b[39m\n\u001b[0;32m      <a href='file:///c%3A/Users/manda/AppData/Local/Programs/Python/Python310/lib/site-packages/scipy/sparse/linalg/_isolve/__init__.py?line=2'>3</a>\u001b[0m \u001b[39m#from info import __doc__\u001b[39;00m\n\u001b[1;32m----> <a href='file:///c%3A/Users/manda/AppData/Local/Programs/Python/Python310/lib/site-packages/scipy/sparse/linalg/_isolve/__init__.py?line=3'>4</a>\u001b[0m \u001b[39mfrom\u001b[39;00m \u001b[39m.\u001b[39;00m\u001b[39miterative\u001b[39;00m \u001b[39mimport\u001b[39;00m \u001b[39m*\u001b[39m\n\u001b[0;32m      <a href='file:///c%3A/Users/manda/AppData/Local/Programs/Python/Python310/lib/site-packages/scipy/sparse/linalg/_isolve/__init__.py?line=4'>5</a>\u001b[0m \u001b[39mfrom\u001b[39;00m \u001b[39m.\u001b[39;00m\u001b[39mminres\u001b[39;00m \u001b[39mimport\u001b[39;00m minres\n\u001b[0;32m      <a href='file:///c%3A/Users/manda/AppData/Local/Programs/Python/Python310/lib/site-packages/scipy/sparse/linalg/_isolve/__init__.py?line=5'>6</a>\u001b[0m \u001b[39mfrom\u001b[39;00m \u001b[39m.\u001b[39;00m\u001b[39mlgmres\u001b[39;00m \u001b[39mimport\u001b[39;00m lgmres\n",
      "File \u001b[1;32mc:\\Users\\manda\\AppData\\Local\\Programs\\Python\\Python310\\lib\\site-packages\\scipy\\sparse\\linalg\\_isolve\\iterative.py:150\u001b[0m, in \u001b[0;36m<module>\u001b[1;34m\u001b[0m\n\u001b[0;32m    <a href='file:///c%3A/Users/manda/AppData/Local/Programs/Python/Python310/lib/site-packages/scipy/sparse/linalg/_isolve/iterative.py?line=123'>124</a>\u001b[0m         \u001b[39mreturn\u001b[39;00m fn\n\u001b[0;32m    <a href='file:///c%3A/Users/manda/AppData/Local/Programs/Python/Python310/lib/site-packages/scipy/sparse/linalg/_isolve/iterative.py?line=124'>125</a>\u001b[0m     \u001b[39mreturn\u001b[39;00m combine\n\u001b[0;32m    <a href='file:///c%3A/Users/manda/AppData/Local/Programs/Python/Python310/lib/site-packages/scipy/sparse/linalg/_isolve/iterative.py?line=127'>128</a>\u001b[0m \u001b[39m@set_docstring\u001b[39;49m(\u001b[39m'\u001b[39;49m\u001b[39mUse BIConjugate Gradient iteration to solve ``Ax = b``.\u001b[39;49m\u001b[39m'\u001b[39;49m,\n\u001b[0;32m    <a href='file:///c%3A/Users/manda/AppData/Local/Programs/Python/Python310/lib/site-packages/scipy/sparse/linalg/_isolve/iterative.py?line=128'>129</a>\u001b[0m                \u001b[39m'\u001b[39;49m\u001b[39mThe real or complex N-by-N matrix of the linear system.\u001b[39;49m\u001b[39m\\n\u001b[39;49;00m\u001b[39m'\u001b[39;49m\n\u001b[0;32m    <a href='file:///c%3A/Users/manda/AppData/Local/Programs/Python/Python310/lib/site-packages/scipy/sparse/linalg/_isolve/iterative.py?line=129'>130</a>\u001b[0m                \u001b[39m'\u001b[39;49m\u001b[39mAlternatively, ``A`` can be a linear operator which can\u001b[39;49m\u001b[39m\\n\u001b[39;49;00m\u001b[39m'\u001b[39;49m\n\u001b[0;32m    <a href='file:///c%3A/Users/manda/AppData/Local/Programs/Python/Python310/lib/site-packages/scipy/sparse/linalg/_isolve/iterative.py?line=130'>131</a>\u001b[0m                \u001b[39m'\u001b[39;49m\u001b[39mproduce ``Ax`` and ``A^T x`` using, e.g.,\u001b[39;49m\u001b[39m\\n\u001b[39;49;00m\u001b[39m'\u001b[39;49m\n\u001b[0;32m    <a href='file:///c%3A/Users/manda/AppData/Local/Programs/Python/Python310/lib/site-packages/scipy/sparse/linalg/_isolve/iterative.py?line=131'>132</a>\u001b[0m                \u001b[39m'\u001b[39;49m\u001b[39m``scipy.sparse.linalg.LinearOperator``.\u001b[39;49m\u001b[39m'\u001b[39;49m,\n\u001b[0;32m    <a href='file:///c%3A/Users/manda/AppData/Local/Programs/Python/Python310/lib/site-packages/scipy/sparse/linalg/_isolve/iterative.py?line=132'>133</a>\u001b[0m                footer\u001b[39m=\u001b[39;49m\u001b[39m\"\"\"\u001b[39;49m\n\u001b[0;32m    <a href='file:///c%3A/Users/manda/AppData/Local/Programs/Python/Python310/lib/site-packages/scipy/sparse/linalg/_isolve/iterative.py?line=133'>134</a>\u001b[0m \n\u001b[0;32m    <a href='file:///c%3A/Users/manda/AppData/Local/Programs/Python/Python310/lib/site-packages/scipy/sparse/linalg/_isolve/iterative.py?line=134'>135</a>\u001b[0m \u001b[39m               Examples\u001b[39;49m\n\u001b[0;32m    <a href='file:///c%3A/Users/manda/AppData/Local/Programs/Python/Python310/lib/site-packages/scipy/sparse/linalg/_isolve/iterative.py?line=135'>136</a>\u001b[0m \u001b[39m               --------\u001b[39;49m\n\u001b[0;32m    <a href='file:///c%3A/Users/manda/AppData/Local/Programs/Python/Python310/lib/site-packages/scipy/sparse/linalg/_isolve/iterative.py?line=136'>137</a>\u001b[0m \u001b[39m               >>> from scipy.sparse import csc_matrix\u001b[39;49m\n\u001b[0;32m    <a href='file:///c%3A/Users/manda/AppData/Local/Programs/Python/Python310/lib/site-packages/scipy/sparse/linalg/_isolve/iterative.py?line=137'>138</a>\u001b[0m \u001b[39m               >>> from scipy.sparse.linalg import bicg\u001b[39;49m\n\u001b[0;32m    <a href='file:///c%3A/Users/manda/AppData/Local/Programs/Python/Python310/lib/site-packages/scipy/sparse/linalg/_isolve/iterative.py?line=138'>139</a>\u001b[0m \u001b[39m               >>> A = csc_matrix([[3, 2, 0], [1, -1, 0], [0, 5, 1]], dtype=float)\u001b[39;49m\n\u001b[0;32m    <a href='file:///c%3A/Users/manda/AppData/Local/Programs/Python/Python310/lib/site-packages/scipy/sparse/linalg/_isolve/iterative.py?line=139'>140</a>\u001b[0m \u001b[39m               >>> b = np.array([2, 4, -1], dtype=float)\u001b[39;49m\n\u001b[0;32m    <a href='file:///c%3A/Users/manda/AppData/Local/Programs/Python/Python310/lib/site-packages/scipy/sparse/linalg/_isolve/iterative.py?line=140'>141</a>\u001b[0m \u001b[39m               >>> x, exitCode = bicg(A, b)\u001b[39;49m\n\u001b[0;32m    <a href='file:///c%3A/Users/manda/AppData/Local/Programs/Python/Python310/lib/site-packages/scipy/sparse/linalg/_isolve/iterative.py?line=141'>142</a>\u001b[0m \u001b[39m               >>> print(exitCode)            # 0 indicates successful convergence\u001b[39;49m\n\u001b[0;32m    <a href='file:///c%3A/Users/manda/AppData/Local/Programs/Python/Python310/lib/site-packages/scipy/sparse/linalg/_isolve/iterative.py?line=142'>143</a>\u001b[0m \u001b[39m               0\u001b[39;49m\n\u001b[0;32m    <a href='file:///c%3A/Users/manda/AppData/Local/Programs/Python/Python310/lib/site-packages/scipy/sparse/linalg/_isolve/iterative.py?line=143'>144</a>\u001b[0m \u001b[39m               >>> np.allclose(A.dot(x), b)\u001b[39;49m\n\u001b[0;32m    <a href='file:///c%3A/Users/manda/AppData/Local/Programs/Python/Python310/lib/site-packages/scipy/sparse/linalg/_isolve/iterative.py?line=144'>145</a>\u001b[0m \u001b[39m               True\u001b[39;49m\n\u001b[0;32m    <a href='file:///c%3A/Users/manda/AppData/Local/Programs/Python/Python310/lib/site-packages/scipy/sparse/linalg/_isolve/iterative.py?line=145'>146</a>\u001b[0m \n\u001b[0;32m    <a href='file:///c%3A/Users/manda/AppData/Local/Programs/Python/Python310/lib/site-packages/scipy/sparse/linalg/_isolve/iterative.py?line=146'>147</a>\u001b[0m \u001b[39m               \u001b[39;49m\u001b[39m\"\"\"\u001b[39;49m\n\u001b[0;32m    <a href='file:///c%3A/Users/manda/AppData/Local/Programs/Python/Python310/lib/site-packages/scipy/sparse/linalg/_isolve/iterative.py?line=147'>148</a>\u001b[0m                )\n\u001b[0;32m    <a href='file:///c%3A/Users/manda/AppData/Local/Programs/Python/Python310/lib/site-packages/scipy/sparse/linalg/_isolve/iterative.py?line=148'>149</a>\u001b[0m \u001b[39m@non_reentrant\u001b[39;49m()\n\u001b[1;32m--> <a href='file:///c%3A/Users/manda/AppData/Local/Programs/Python/Python310/lib/site-packages/scipy/sparse/linalg/_isolve/iterative.py?line=149'>150</a>\u001b[0m \u001b[39mdef\u001b[39;49;00m \u001b[39mbicg\u001b[39;49m(A, b, x0\u001b[39m=\u001b[39;49m\u001b[39mNone\u001b[39;49;00m, tol\u001b[39m=\u001b[39;49m\u001b[39m1e-5\u001b[39;49m, maxiter\u001b[39m=\u001b[39;49m\u001b[39mNone\u001b[39;49;00m, M\u001b[39m=\u001b[39;49m\u001b[39mNone\u001b[39;49;00m, callback\u001b[39m=\u001b[39;49m\u001b[39mNone\u001b[39;49;00m, atol\u001b[39m=\u001b[39;49m\u001b[39mNone\u001b[39;49;00m):\n\u001b[0;32m    <a href='file:///c%3A/Users/manda/AppData/Local/Programs/Python/Python310/lib/site-packages/scipy/sparse/linalg/_isolve/iterative.py?line=150'>151</a>\u001b[0m     A,M,x,b,postprocess \u001b[39m=\u001b[39;49m make_system(A, M, x0, b)\n\u001b[0;32m    <a href='file:///c%3A/Users/manda/AppData/Local/Programs/Python/Python310/lib/site-packages/scipy/sparse/linalg/_isolve/iterative.py?line=152'>153</a>\u001b[0m     n \u001b[39m=\u001b[39;49m \u001b[39mlen\u001b[39;49m(b)\n",
      "File \u001b[1;32mc:\\Users\\manda\\AppData\\Local\\Programs\\Python\\Python310\\lib\\site-packages\\scipy\\_lib\\_threadsafety.py:57\u001b[0m, in \u001b[0;36mnon_reentrant.<locals>.decorator\u001b[1;34m(func)\u001b[0m\n\u001b[0;32m     <a href='file:///c%3A/Users/manda/AppData/Local/Programs/Python/Python310/lib/site-packages/scipy/_lib/_threadsafety.py?line=54'>55</a>\u001b[0m     msg \u001b[39m=\u001b[39m \u001b[39m\"\u001b[39m\u001b[39m%s\u001b[39;00m\u001b[39m is not re-entrant\u001b[39m\u001b[39m\"\u001b[39m \u001b[39m%\u001b[39m func\u001b[39m.\u001b[39m\u001b[39m__name__\u001b[39m\n\u001b[0;32m     <a href='file:///c%3A/Users/manda/AppData/Local/Programs/Python/Python310/lib/site-packages/scipy/_lib/_threadsafety.py?line=55'>56</a>\u001b[0m lock \u001b[39m=\u001b[39m ReentrancyLock(msg)\n\u001b[1;32m---> <a href='file:///c%3A/Users/manda/AppData/Local/Programs/Python/Python310/lib/site-packages/scipy/_lib/_threadsafety.py?line=56'>57</a>\u001b[0m \u001b[39mreturn\u001b[39;00m lock\u001b[39m.\u001b[39;49mdecorate(func)\n",
      "File \u001b[1;32mc:\\Users\\manda\\AppData\\Local\\Programs\\Python\\Python310\\lib\\site-packages\\scipy\\_lib\\_threadsafety.py:45\u001b[0m, in \u001b[0;36mReentrancyLock.decorate\u001b[1;34m(self, func)\u001b[0m\n\u001b[0;32m     <a href='file:///c%3A/Users/manda/AppData/Local/Programs/Python/Python310/lib/site-packages/scipy/_lib/_threadsafety.py?line=42'>43</a>\u001b[0m     \u001b[39mwith\u001b[39;00m \u001b[39mself\u001b[39m:\n\u001b[0;32m     <a href='file:///c%3A/Users/manda/AppData/Local/Programs/Python/Python310/lib/site-packages/scipy/_lib/_threadsafety.py?line=43'>44</a>\u001b[0m         \u001b[39mreturn\u001b[39;00m func(\u001b[39m*\u001b[39ma, \u001b[39m*\u001b[39m\u001b[39m*\u001b[39mkw)\n\u001b[1;32m---> <a href='file:///c%3A/Users/manda/AppData/Local/Programs/Python/Python310/lib/site-packages/scipy/_lib/_threadsafety.py?line=44'>45</a>\u001b[0m \u001b[39mreturn\u001b[39;00m scipy\u001b[39m.\u001b[39;49m_lib\u001b[39m.\u001b[39mdecorator\u001b[39m.\u001b[39mdecorate(func, caller)\n",
      "\u001b[1;31mAttributeError\u001b[0m: module 'scipy' has no attribute '_lib'"
     ]
    }
   ],
   "source": [
    "import pandas as pd\n",
    "import plotly.express as px\n",
    "import matplotlib.pyplot as plt\n",
    "import seaborn as sns\n",
    "import numpy as np\n",
    "%matplotlib inline\n"
   ]
  },
  {
   "cell_type": "markdown",
   "id": "7106750a",
   "metadata": {},
   "source": [
    "## Primeira Base de dados  [Atlas da Violência do IPEA](https://www.ipea.gov.br/atlasviolencia/)\n",
    "* O Atlas da Violência é um portal que reúne, organiza e disponibiliza informações sobre violência no Brasil, bem como reúne publicações do Ipea sobre violência e segurança pública. Foi criado em 2016 e é gerido pelo Instituto de Pesquisa Econômica Aplicada (Ipea) com a colaboração do Fórum Brasileiro de Segurança Pública (FBSP)."
   ]
  },
  {
   "cell_type": "markdown",
   "id": "074ecf5f",
   "metadata": {},
   "source": [
    "## Entendendo os dados\n",
    "\n",
    "> df_obt_BR = Taxa de óbitos por armas de fogo a cada 100 mil habitantes Brasil 1989~2019."
   ]
  },
  {
   "cell_type": "code",
   "execution_count": null,
   "id": "4e5de7d2",
   "metadata": {},
   "outputs": [],
   "source": [
    "df = pd.read_csv('taxa-de-homicidios-por-armas-de-fogo-BR.csv', sep=';', usecols=[1, 2, 3])\n",
    "df.head(3)"
   ]
  },
  {
   "cell_type": "code",
   "execution_count": null,
   "id": "9750ad44",
   "metadata": {},
   "outputs": [],
   "source": [
    "# Dando uma olhada nos dados\n",
    "display(df)"
   ]
  },
  {
   "cell_type": "markdown",
   "id": "8f1595c6",
   "metadata": {},
   "source": [
    "A primeira coisa que me salta aos olhos, é uma discrepância na varição dos dados de 2018 e 2019 em relação ao todo, vejamos o gráfico abaixo:"
   ]
  },
  {
   "cell_type": "code",
   "execution_count": null,
   "metadata": {},
   "outputs": [],
   "source": [
    "\n",
    "# Gráfico de destribuição de densidade em discos\n",
    "# Separa os dados em grupos diferentes\n",
    "sns.set_style('darkgrid')\n",
    "x = df['período']\n",
    "y = df['valor']\n",
    "sns.displot(y=y, x=x, kind=\"kde\", color='c', weights=7, height=7, rug=True)\n",
    "plt.title('Gráfico de destribuição densidade em discos')\n",
    "\n",
    "\n"
   ]
  },
  {
   "cell_type": "markdown",
   "id": "58be977a",
   "metadata": {},
   "source": []
  },
  {
   "cell_type": "markdown",
   "id": "771bc3c6",
   "metadata": {},
   "source": [
    "Como podemos visualizar melhor no gráfico acima, os dados de 2018 e 2019 estão fora do esperado, tendo em vista a série histórica de 31 anos apenas estes dois destoam."
   ]
  },
  {
   "cell_type": "markdown",
   "id": "5eb53543",
   "metadata": {},
   "source": [
    "Agora vamos criar uma nova coluna para quantificar esta discrepância nos dados que saltou aos olhos.\n",
    "A coluna `Discrepância` representará a variação da taxa em relação ao ano anterior."
   ]
  },
  {
   "cell_type": "code",
   "execution_count": null,
   "id": "0feedfe6",
   "metadata": {},
   "outputs": [],
   "source": [
    "# Inserindo uma coluna 'Discrepancia' ao data frame\n",
    "df.insert(3, 'Discrepancia', 0)"
   ]
  },
  {
   "cell_type": "code",
   "execution_count": null,
   "id": "55b73a5f",
   "metadata": {},
   "outputs": [],
   "source": [
    "for contador in range (1, 31): # Contador linha a linha começando a partir da segunda linha \n",
    "    minimo = min(df.iloc[contador, 2], df.iloc[(contador-1), 2]) # Calcula a menor taxa entre 2\n",
    "    maximo = max(df.iloc[contador, 2], df.iloc[(contador-1), 2]) # Calcula a maior taxa entre 2\n",
    "    df.at[contador, 'Discrepancia'] = round((maximo - minimo), 2) # Define a diferença do maior pelo menor.\n",
    "    if minimo == df.iloc[contador, 2]:\n",
    "        df.at[contador, 'Discrepancia'] *= -1\n",
    "df.at[0, 'Discrepancia'] = 0\n",
    "\n",
    "#dfmi.loc[:, ('one', 'second')]\n",
    "\n"
   ]
  },
  {
   "cell_type": "markdown",
   "id": "ee46bf99",
   "metadata": {},
   "source": [
    "Dando uma olhada no dataframe com a nova coluna `Discrepancia`"
   ]
  },
  {
   "cell_type": "code",
   "execution_count": null,
   "id": "c3e9211e",
   "metadata": {},
   "outputs": [],
   "source": [
    "display(df)"
   ]
  },
  {
   "cell_type": "markdown",
   "id": "e41b8c1d",
   "metadata": {},
   "source": [
    "Plotando um gráfico para melhor visualização da discrepância ano a ano."
   ]
  },
  {
   "cell_type": "code",
   "execution_count": null,
   "id": "3e72ef62",
   "metadata": {},
   "outputs": [],
   "source": [
    "\n",
    "plt.subplots(figsize=(16, 10))\n",
    "x = df['período']\n",
    "y = df['Discrepancia']\n",
    "grafico = sns.barplot(x=x, y=y, palette='Blues_d')\n",
    "pd.set_option('display.precision', 2)\n",
    "for item in grafico.patches:\n",
    "    grafico.annotate(\n",
    "                     item.get_height(),\n",
    "                     (item.get_x() + item.get_width() /2, item.get_height()),\n",
    "                      ha='center',\n",
    "                      rotation=90,\n",
    "                      va='baseline',\n",
    "                      fontsize=13,\n",
    "                      color='black',\n",
    "                      xytext=(0, 0),\n",
    "                      textcoords='offset points',\n",
    "                      )"
   ]
  },
  {
   "cell_type": "markdown",
   "id": "f75ae518",
   "metadata": {},
   "source": [
    "Podemos verificar que existem valores destoantes na amostra\n",
    ">Principais possibilidades:\n",
    "* Inconssistência nos dados\n",
    "* Maquiagem nos dados\n",
    "* Grande variação nos dados por algum motivo ainda desconhecido.\n",
    ">Posteriormente trataremos esta informação\n",
    "<hr>"
   ]
  },
  {
   "cell_type": "markdown",
   "id": "c7bc4d0e",
   "metadata": {},
   "source": [
    "## Ainda dentro do supracitado Atlas da violência do Ipea, traremos agora outros elementos para nossa análise."
   ]
  },
  {
   "cell_type": "markdown",
   "id": "50f2489f",
   "metadata": {},
   "source": [
    "Vamos trazer pro nosso conjunto de dados agora, o número da quantidade total de homicídios por arma de fogo, ano a ano, nível Brasil [Fonte](https://www.ipea.gov.br/atlasviolencia/filtros-series/5/bitos-por-armas-de-fogo) "
   ]
  },
  {
   "cell_type": "code",
   "execution_count": null,
   "id": "5e30ad9f",
   "metadata": {},
   "outputs": [],
   "source": [
    "df_auxiliar = pd.read_csv('total-homicidios-por-armas-de-fogo-BR.csv', sep=';')\n",
    "df_auxiliar.head(5)"
   ]
  },
  {
   "cell_type": "markdown",
   "id": "3b740abb",
   "metadata": {},
   "source": []
  },
  {
   "cell_type": "code",
   "execution_count": null,
   "id": "be5a5d80",
   "metadata": {},
   "outputs": [],
   "source": [
    "# Inserindo uma coluna 'Fatalidades_Totais' com o valor correto ao data frame\n",
    "df.insert(4, 'Fatalidades_Totais', df_auxiliar['valor'].copy())"
   ]
  },
  {
   "cell_type": "markdown",
   "id": "9f9b720b",
   "metadata": {},
   "source": []
  },
  {
   "cell_type": "markdown",
   "id": "55e5f242",
   "metadata": {},
   "source": []
  },
  {
   "cell_type": "markdown",
   "id": "501fd81d",
   "metadata": {},
   "source": [
    "## Trazendo mais dados para nosssa análise."
   ]
  },
  {
   "cell_type": "markdown",
   "id": "3d868a29",
   "metadata": {},
   "source": [
    "Acessamos o [Fórum Brasileiro de Segurança Pública](https://forumseguranca.org.br/) e lá acessamos o [Anuário Brasileiro de Segurança Pública](https://forumseguranca.org.br/anuario-brasileiro-seguranca-publica/)\n",
    "\n",
    "* clique nos links acima para saber mais sobre o Fórum e o Anuário.\n",
    "\n",
    "[Link dos dados](https://forumseguranca.org.br/wp-content/uploads/2021/10/anuario-15-completo-v6-251021.xlsx)"
   ]
  },
  {
   "cell_type": "code",
   "execution_count": null,
   "id": "3078f494",
   "metadata": {},
   "outputs": [],
   "source": []
  },
  {
   "cell_type": "code",
   "execution_count": null,
   "id": "8a63da6e",
   "metadata": {},
   "outputs": [],
   "source": []
  },
  {
   "cell_type": "markdown",
   "id": "d64b3bac",
   "metadata": {},
   "source": []
  },
  {
   "cell_type": "markdown",
   "id": "b4899baf",
   "metadata": {},
   "source": []
  },
  {
   "cell_type": "markdown",
   "id": "67d366d9",
   "metadata": {},
   "source": [
    "Podemos observar que estão faltando os valores de 2020, 2021 então vamos buscar em outras fontes."
   ]
  },
  {
   "cell_type": "code",
   "execution_count": null,
   "id": "173de457",
   "metadata": {},
   "outputs": [],
   "source": []
  },
  {
   "cell_type": "markdown",
   "id": "394a51db",
   "metadata": {},
   "source": [
    ">O Estatuto do Desarmamento é uma política de controle de armas que entrou em vigor no Brasil por meio de lei no dia 22 de dezembro de 2003. Ele foi sancionado com o objetivo de reduzir a circulação de armas e estabelecer penas mais rigorosas para crimes. [Fonte](https://www.brasilparalelo.com.br/artigos/desarmamento-no-brasil#:~:text=O%20Estatuto%20do%20Desarmamento%20%C3%A9,mais%20rigorosas%20para%20crimes%20relacionados.)\n",
    "* Logo de 2004 até 2019 houveram políticas de desarmamento\n",
    "\n",
    ">Em 2019 Jair Bolsonaro assumiu e já em janeiro, assinou decreto que facilitou a compra de armas. [Fonte](https://g1.globo.com/politica/noticia/2019/01/15/bolsonaro-assina-decreto-que-facilita-posse-de-armas.ghtml)\n",
    "* Logo de 2019 até 2022 houveram políticas favoráveis ao armamento. [fonte](https://g1.globo.com/politica/noticia/2019/01/15/bolsonaro-assina-decreto-que-facilita-posse-de-armas.ghtml)"
   ]
  },
  {
   "cell_type": "markdown",
   "id": "89d848cb",
   "metadata": {},
   "source": []
  },
  {
   "cell_type": "markdown",
   "id": "9fa329c3",
   "metadata": {},
   "source": [
    "<hr>"
   ]
  },
  {
   "cell_type": "markdown",
   "id": "b7dd9017",
   "metadata": {},
   "source": []
  },
  {
   "cell_type": "code",
   "execution_count": null,
   "id": "65c6a029",
   "metadata": {},
   "outputs": [],
   "source": [
    "\n",
    "plt.subplots(figsize=(16, 8))\n",
    "x = df['período']\n",
    "y = df['valor']\n",
    "plt.xticks(rotation=90)\n",
    "plt.title('Taxa de homicídios a cada 100k habitantes Brasil')\n",
    "\n",
    "\n",
    "cores = []\n",
    "for ano in df['período']: \n",
    "    if ano <= 2005:\n",
    "       cores.append('green')\n",
    "    elif ano <= 2018:\n",
    "        cores.append('red')\n",
    "    else:\n",
    "        cores.append('green')\n",
    "print(cores)\n",
    "\n",
    "\n",
    "\n",
    "grafico = sns.barplot(x=x, y=y, palette=cores)\n",
    "pd.set_option('display.precision', 2)\n",
    "for item in grafico.patches:\n",
    "    grafico.annotate(\n",
    "                     item.get_height(),\n",
    "                     (item.get_x() + item.get_width() /2, item.get_height()),\n",
    "                      ha='center',\n",
    "                      rotation=90,\n",
    "                      va='baseline',\n",
    "                      fontsize=13,\n",
    "                      color='white',\n",
    "                      xytext=(0, -33),\n",
    "                      textcoords='offset points',\n",
    "                      )\n",
    "\n",
    "\n",
    "\n"
   ]
  },
  {
   "cell_type": "code",
   "execution_count": null,
   "metadata": {},
   "outputs": [],
   "source": []
  },
  {
   "cell_type": "code",
   "execution_count": null,
   "id": "02c6946b",
   "metadata": {},
   "outputs": [],
   "source": []
  },
  {
   "cell_type": "code",
   "execution_count": null,
   "metadata": {},
   "outputs": [],
   "source": []
  },
  {
   "cell_type": "code",
   "execution_count": null,
   "id": "eefc279d",
   "metadata": {},
   "outputs": [],
   "source": []
  },
  {
   "cell_type": "code",
   "execution_count": null,
   "id": "49253dee",
   "metadata": {},
   "outputs": [],
   "source": []
  },
  {
   "cell_type": "code",
   "execution_count": null,
   "id": "80215f06",
   "metadata": {},
   "outputs": [],
   "source": []
  },
  {
   "cell_type": "markdown",
   "id": "9634fd11",
   "metadata": {},
   "source": [
    "<hr>\n",
    "RASCUNHO:"
   ]
  },
  {
   "cell_type": "markdown",
   "id": "9c8a54a2",
   "metadata": {},
   "source": [
    "\n",
    "\n",
    "* Tem que entrar aqui também numero de portes de armas\n",
    "* Numero de feminicidios\n",
    "* Numero de assaltos a mao armada\n",
    "* Base de dados da policia federal boa com registro de armas de fogo e ocorrencias\n",
    "https://servicos.dpf.gov.br/dadosabertos/SINARM/"
   ]
  },
  {
   "cell_type": "markdown",
   "id": "344cb0ee",
   "metadata": {},
   "source": [
    "1ª Base de dados https://www.ipea.gov.br/atlasviolencia/filtros-series (Atlas da Violência)\n",
    "Séria que retrata quantidade de homicídios por arma de fogos ano-a-ano no Brasil.\n",
    "-> Nome do arquivo 'homicidios-por-armas-de-fogo.csv'\n",
    "-> A série tinha dados apenas até 2019 , os dados foram complementados com estas fontes:\n",
    "https://www.bbc.com/portuguese/brasil-57844477#:~:text=Aumento%20de%20homic%C3%ADdios,provocados%20por%20armas%20de%20fogo.\n",
    "https://g1.globo.com/monitor-da-violencia/noticia/2022/02/21/numero-de-assassinatos-cai-7percent-no-brasil-em-2021-e-e-o-menor-da-serie-historica.ghtml\n"
   ]
  },
  {
   "cell_type": "code",
   "execution_count": null,
   "id": "78736fd3",
   "metadata": {},
   "outputs": [],
   "source": [
    "# Importando bibliotecas e configurando gráficos\n",
    "import pandas as pd\n",
    "import plotly.express as px\n",
    "%matplotlib inline"
   ]
  },
  {
   "cell_type": "code",
   "execution_count": null,
   "id": "798e45ef",
   "metadata": {},
   "outputs": [],
   "source": [
    "# Criando DataFrames\n",
    "df_mortes = pd.read_csv('homicidios-por-armas-de-fogo.csv', sep=';', encoding='utf8', usecols=[2, 3])\n",
    "display(df_mortes)"
   ]
  },
  {
   "cell_type": "code",
   "execution_count": null,
   "id": "08dec398",
   "metadata": {},
   "outputs": [],
   "source": [
    "# Cálculando a evolução populacional brasileira ano-a-ano\n",
    "# Fontes IBGE dados populacionais nos anos de  80, 91 , 96 e 2010, quando ocorreram SENSOS\n",
    "# https://brasilemsintese.ibge.gov.br/populacao/populacao-total-1980-2010.html\n",
    "# Fonte Banco mundial / United Nations Population Division https://data.worldbank.org/country/brazil\n",
    "# Fonte Population Pyramid https://www.populationpyramid.net/pt/brasil/2022/\n",
    "# No final foram descartadas as médias oscilantes e consideradas apenas a da Population Pyramid para maior acuracidade\n",
    "\n",
    "# Puxando DataFrame que geramos no Excel com as médias das 3 fontes.\n",
    "df_pop = pd.read_excel('populacaobrasileira.xlsx')\n",
    "\n",
    "# Setando precisão de cálculo para 2 casa flutuantes\n",
    "pd.set_option('display.precision', 2)\n",
    "display(df_pop)\n"
   ]
  },
  {
   "cell_type": "code",
   "execution_count": null,
   "id": "26c5d962",
   "metadata": {},
   "outputs": [],
   "source": [
    "# Adcionando coluna referente a população em milhões no DataFrame de mortes por arma de fogo \n",
    "df_mortes = df_mortes.assign(pop_mi=0)\n",
    "df_mortes['pop_mi'] = df_pop['Milhoes'].copy()\n",
    "display(df_mortes)\n",
    "\n",
    "# o Ano de 2019 estava distoante da série, possivelmente foi fraudado pelo governo, ao buscar outras fontes\n",
    "# corrigi o valor correto \n",
    "# fonte https://www.poder360.com.br/brasil/numero-de-assassinatos-no-brasil-cai-19-em-2019-no-total-sao-41-635-mortes/#:~:text=O%20n%C3%BAmero%20de%20assassinatos%20no,2018%20%E2%80%93quase%2010.000%20a%20menos.\n",
    "# fonte https://noticias.uol.com.br/confere/ultimas-noticias/2021/10/07/governo-federal-distorce-dados-sobre-violencia-para-defender-acesso-a-armas.htm\n"
   ]
  },
  {
   "cell_type": "code",
   "execution_count": null,
   "id": "2c8d620a",
   "metadata": {},
   "outputs": [],
   "source": [
    "# Cálculando indíce dividindo numero de mortes por arma de fogo pela população no ano\n",
    "df_mortes = df_mortes.assign(indice=0)\n",
    "c = 0\n",
    "for indice in df_mortes['indice']:\n",
    "    val = ((df_mortes['valor'][c]) / (df_mortes['pop_mi'][c]))\n",
    "    df_mortes['indice'][c] = val\n",
    "    c += 1\n",
    "display(df_mortes)"
   ]
  },
  {
   "cell_type": "markdown",
   "id": "771b0942",
   "metadata": {},
   "source": [
    "# Com base neste indice vamos cálcular o aumento ou diminuição nos homicidíos por arma de fogo em relação a populção geral no ano\n"
   ]
  },
  {
   "cell_type": "code",
   "execution_count": null,
   "id": "febdfe9f",
   "metadata": {},
   "outputs": [],
   "source": [
    "# Arrumando títulos do DataFrame\n",
    "df_mortes.columns=['Ano', 'Mortes', 'Pop_mi', 'Indice']\n",
    "df_mortes.head(1)"
   ]
  },
  {
   "cell_type": "code",
   "execution_count": null,
   "id": "e15e3472",
   "metadata": {},
   "outputs": [],
   "source": [
    "import plotly.express as px\n",
    "gf = px.line(df_mortes, x= 'Ano', y='Indice', title='Indice de mortes por arma de fogo ano-a-ano Brasil 1998 - 2019')\n",
    "display(gf)\n"
   ]
  },
  {
   "cell_type": "code",
   "execution_count": null,
   "id": "7f6ef818",
   "metadata": {},
   "outputs": [],
   "source": []
  }
 ],
 "metadata": {
  "interpreter": {
   "hash": "5d11380547bba1e6c4b0ab7b7614350493a6d4caf256d9be4e363829d8f5c452"
  },
  "kernelspec": {
   "display_name": "Python 3.10.4 64-bit",
   "language": "python",
   "name": "python3"
  },
  "language_info": {
   "codemirror_mode": {
    "name": "ipython",
    "version": 3
   },
   "file_extension": ".py",
   "mimetype": "text/x-python",
   "name": "python",
   "nbconvert_exporter": "python",
   "pygments_lexer": "ipython3",
   "version": "3.10.4"
  }
 },
 "nbformat": 4,
 "nbformat_minor": 5
}
